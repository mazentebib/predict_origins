{
 "cells": [
  {
   "attachments": {},
   "cell_type": "markdown",
   "metadata": {},
   "source": [
    "# UE10 - Extraction\n",
    "\n",
    "- Khang Duy LAI\n",
    "- Mazen TEBIB\n",
    "\n",
    "## Import important libraries"
   ]
  },
  {
   "cell_type": "code",
   "execution_count": 1,
   "metadata": {},
   "outputs": [],
   "source": [
    "import numpy as np\n",
    "import pandas as pd\n",
    "import re\n",
    "from sklearn import preprocessing\n",
    "from sklearn.feature_extraction.text import TfidfVectorizer,TfidfTransformer"
   ]
  },
  {
   "cell_type": "code",
   "execution_count": 2,
   "metadata": {},
   "outputs": [],
   "source": [
    "import warnings\n",
    "warnings.filterwarnings(\"ignore\", category=DeprecationWarning) \n",
    "warnings.filterwarnings(\"ignore\", category=FutureWarning) "
   ]
  },
  {
   "attachments": {},
   "cell_type": "markdown",
   "metadata": {},
   "source": [
    "1) cleaning text\n",
    "2) choosing model\n",
    "3) features extraction\n",
    "4) confusion matrix for grps \n",
    "5) run model through groups (cascade thing)"
   ]
  },
  {
   "cell_type": "code",
   "execution_count": 3,
   "metadata": {},
   "outputs": [],
   "source": [
    "# metrics to check : \n",
    "# 1)taux d'erreur\n",
    "# 2)Precision **** to maximise\n",
    "# 3)Rappel **** also to maximise ensemble\n",
    "# 4)ROC : well we create one to maximise precision then one model to maximise rappelnd see which one perfoms better on both metrics(ROC)\n",
    "# 5)moyenne harmonique de P et R (F-meùsure): \n",
    "# rapport : basically talk abt ur experiments, what did u want to try, el hypothese that we had to go after this,\n",
    "#           how, analyze ur work and results u have \n",
    "#           (like saying ah we tried *this* ama we find out that our F1 score worse by this margin or better)\n",
    "#           rendu : pdf rapport, zip for code"
   ]
  },
  {
   "cell_type": "code",
   "execution_count": 4,
   "metadata": {},
   "outputs": [],
   "source": [
    "# we gotta change i'm to i am and can't to cannot and maybe we find can not we try to cahnge to cannot too \n",
    "#so we create a compteur that counts how many time we changed it from \"smth\"(not literally since we leave aka #smth in it's place f blaset'ha xd)  to cannot mais plutot on compte combien de cannot appeared that's r not #actually cannot "
   ]
  },
  {
   "cell_type": "code",
   "execution_count": 5,
   "metadata": {},
   "outputs": [],
   "source": [
    "# we gotta change i'm to i am and can't to cannot and maybe we find can not we try to cahnge to cannot too \n",
    "#so we create a compteur that counts how many time we changed it from \"smth\"(not literally since we leave aka \n",
    "# #smth in it's place f blaset'ha xd)  to cannot mais plutot on compte combien de cannot appeared that's r not \n",
    "# #actually cannot "
   ]
  },
  {
   "attachments": {},
   "cell_type": "markdown",
   "metadata": {},
   "source": [
    "Read in the dataset"
   ]
  },
  {
   "cell_type": "code",
   "execution_count": 6,
   "metadata": {},
   "outputs": [],
   "source": [
    "df = pd.read_fwf('./train.txt', colspecs=[(1,4),(6, None)], header=None)\n",
    "df.columns = ['country','description']\n"
   ]
  },
  {
   "cell_type": "code",
   "execution_count": 7,
   "metadata": {},
   "outputs": [
    {
     "data": {
      "text/html": [
       "<div>\n",
       "<style scoped>\n",
       "    .dataframe tbody tr th:only-of-type {\n",
       "        vertical-align: middle;\n",
       "    }\n",
       "\n",
       "    .dataframe tbody tr th {\n",
       "        vertical-align: top;\n",
       "    }\n",
       "\n",
       "    .dataframe thead th {\n",
       "        text-align: right;\n",
       "    }\n",
       "</style>\n",
       "<table border=\"1\" class=\"dataframe\">\n",
       "  <thead>\n",
       "    <tr style=\"text-align: right;\">\n",
       "      <th></th>\n",
       "      <th>country</th>\n",
       "      <th>description</th>\n",
       "    </tr>\n",
       "  </thead>\n",
       "  <tbody>\n",
       "    <tr>\n",
       "      <th>0</th>\n",
       "      <td>GER</td>\n",
       "      <td>IThe importance and popularity of travelling i...</td>\n",
       "    </tr>\n",
       "    <tr>\n",
       "      <th>1</th>\n",
       "      <td>TUR</td>\n",
       "      <td>It is an important decision , how to plan your...</td>\n",
       "    </tr>\n",
       "    <tr>\n",
       "      <th>2</th>\n",
       "      <td>CHI</td>\n",
       "      <td>Some people believe that young people can enjo...</td>\n",
       "    </tr>\n",
       "    <tr>\n",
       "      <th>3</th>\n",
       "      <td>TEL</td>\n",
       "      <td>Travelling is usually considered as good recre...</td>\n",
       "    </tr>\n",
       "    <tr>\n",
       "      <th>4</th>\n",
       "      <td>ARA</td>\n",
       "      <td>i agree that . Life is a person live period of...</td>\n",
       "    </tr>\n",
       "  </tbody>\n",
       "</table>\n",
       "</div>"
      ],
      "text/plain": [
       "  country                                        description\n",
       "0     GER  IThe importance and popularity of travelling i...\n",
       "1     TUR  It is an important decision , how to plan your...\n",
       "2     CHI  Some people believe that young people can enjo...\n",
       "3     TEL  Travelling is usually considered as good recre...\n",
       "4     ARA  i agree that . Life is a person live period of..."
      ]
     },
     "execution_count": 7,
     "metadata": {},
     "output_type": "execute_result"
    }
   ],
   "source": [
    "df.head()"
   ]
  },
  {
   "attachments": {},
   "cell_type": "markdown",
   "metadata": {},
   "source": [
    "Encode the label"
   ]
  },
  {
   "cell_type": "code",
   "execution_count": 8,
   "metadata": {},
   "outputs": [],
   "source": [
    "le = preprocessing.LabelEncoder()\n",
    "df['y_country'] = le.fit_transform(df.country)"
   ]
  },
  {
   "cell_type": "code",
   "execution_count": 9,
   "metadata": {},
   "outputs": [
    {
     "name": "stderr",
     "output_type": "stream",
     "text": [
      "[nltk_data] Downloading package cmudict to\n",
      "[nltk_data]     /Users/laiduy98/nltk_data...\n",
      "[nltk_data]   Package cmudict is already up-to-date!\n"
     ]
    },
    {
     "data": {
      "text/plain": [
       "True"
      ]
     },
     "execution_count": 9,
     "metadata": {},
     "output_type": "execute_result"
    }
   ],
   "source": [
    "import nltk\n",
    "nltk.download('cmudict')"
   ]
  },
  {
   "cell_type": "code",
   "execution_count": 10,
   "metadata": {},
   "outputs": [],
   "source": [
    "from nltk.corpus import cmudict\n",
    "from nltk.tokenize import word_tokenize, sent_tokenize\n",
    "import string\n",
    "\n",
    "\n",
    "def clean_review(text):\n",
    "    \"\"\"\n",
    "    Clean the input text \n",
    "    \"\"\"\n",
    "    cleaned_text = text.lower()\n",
    "    #cleaned_text =  re.sub(r'^https?:\\/\\/.*[\\r\\n]*', '', cleaned_text)\n",
    "    cleaned_text = re.sub('<.*>', '', cleaned_text)\n",
    "    cleaned_text = re.sub('[^a-zA-Z0-9\\s]', '', cleaned_text)\n",
    "    cleaned_text = cleaned_text.split()\n",
    "    #cleaned_text = [word for word in cleaned_text if word not in stopwords and len(word) > 1]\n",
    "    \n",
    "    return \" \".join(cleaned_text)"
   ]
  },
  {
   "attachments": {},
   "cell_type": "markdown",
   "metadata": {},
   "source": [
    "### - **Extracting Structural/lexical features**\n",
    "we thought about adding features that represents the writing style  \n",
    "\n",
    "  - **lexical :**  \n",
    "  total number of words  \n",
    "  total number of characters  \n",
    "  total number of alphabetic characters  \n",
    "  total number of upper-case characters  \n",
    "  total number of syllables  \n",
    "  average word length  \n",
    "  average sentence length by characters  \n",
    "  average sentence length by words   \n",
    "  ratio of unique words  \n",
    "- **syntactic :**  \n",
    "  frequency of special characters  \n",
    "  frequency of punctuations  \n",
    "  frequency of functional words  \n",
    "  part of speech tags  \n",
    "- **structural :**  \n",
    "\tnumber of sentences  "
   ]
  },
  {
   "cell_type": "code",
   "execution_count": 11,
   "metadata": {},
   "outputs": [],
   "source": [
    "#count number of sequences\n",
    "def nb_seq(text):\n",
    "    tokens = sent_tokenize(text)\n",
    "    return (len(tokens))\n",
    "df['nb_seq'] = df['description'].apply(lambda x: nb_seq(x))"
   ]
  },
  {
   "cell_type": "code",
   "execution_count": 12,
   "metadata": {},
   "outputs": [],
   "source": [
    "#count number of words\n",
    "def nb_words(text):\n",
    "    text = word_tokenize(text)\n",
    "    st = string.punctuation\n",
    "    words = [word for word in text if word not in st]\n",
    "    return len(words)\n",
    "df['nb_words'] = df['description'].apply(lambda x: nb_words(x))"
   ]
  },
  {
   "cell_type": "code",
   "execution_count": 13,
   "metadata": {},
   "outputs": [],
   "source": [
    "#extract text length\n",
    "def len_text(text):\n",
    "    len(text)\n",
    "df['len_text'] = df['description'].apply(lambda x: len_text(x))"
   ]
  },
  {
   "cell_type": "code",
   "execution_count": 14,
   "metadata": {},
   "outputs": [],
   "source": [
    "#count number of alphabetique characters\n",
    "def nb_alpha(text):\n",
    "    return sum(1 for i in text if i.isalpha())\n",
    "df['nb_alpha'] = df['description'].apply(lambda x: nb_alpha(x))"
   ]
  },
  {
   "cell_type": "code",
   "execution_count": 15,
   "metadata": {},
   "outputs": [],
   "source": [
    "#count of uppercase characters\n",
    "def nb_upcase(text):\n",
    "    return sum(1 for i in text if i.isupper())\n",
    "df['nb_uppercase'] = df['description'].apply(lambda x: nb_upcase(x))"
   ]
  },
  {
   "cell_type": "code",
   "execution_count": 16,
   "metadata": {},
   "outputs": [],
   "source": [
    "def syllable_count_Manual(word):\n",
    "    word = word.lower()\n",
    "    count = 0\n",
    "    vowels = \"aeiouy\"\n",
    "    if word[0] in vowels:\n",
    "        count += 1\n",
    "    for index in range(1, len(word)):\n",
    "        if word[index] in vowels and word[index - 1] not in vowels:\n",
    "            count += 1\n",
    "            if word.endswith(\"e\"):\n",
    "                count -= 1\n",
    "    if count == 0:\n",
    "        count += 1\n",
    "    return count\n",
    "def syllable_count(word):\n",
    "    global cmuDictionary\n",
    "    d = cmuDictionary\n",
    "    try:\n",
    "        syl = [len(list(y for y in x if y[-1].isdigit())) for x in d[word.lower()]][0]\n",
    "    except:\n",
    "        syl = syllable_count_Manual(word)\n",
    "    return syl"
   ]
  },
  {
   "cell_type": "code",
   "execution_count": 17,
   "metadata": {},
   "outputs": [],
   "source": [
    "#count syllables\n",
    "global cmuDictionary\n",
    "cmuDictionary = cmudict.dict()\n",
    "df['nb_syllable'] = df['description'].apply(lambda x: syllable_count(x))"
   ]
  },
  {
   "cell_type": "code",
   "execution_count": 18,
   "metadata": {},
   "outputs": [],
   "source": [
    "#count avg word length\n",
    "from nltk.corpus import stopwords\n",
    "def mean_word_length(word):\n",
    "    punc = list(string.punctuation)\n",
    "    tokens = word_tokenize(word, language='english')\n",
    "    stop = stopwords.words('english') + punc \n",
    "    words = [word for word in tokens if word not in stop]\n",
    "    return np.average([len(word) for word in words])\n",
    "df['mean_word_length'] = df['description'].apply(lambda x: mean_word_length(x))"
   ]
  },
  {
   "cell_type": "code",
   "execution_count": 19,
   "metadata": {},
   "outputs": [],
   "source": [
    "#Average Sentence Length By Character\n",
    "def mean_sentence_length(text):\n",
    "    tokens = sent_tokenize(text)\n",
    "    return np.average([len(token) for token in tokens])\n",
    "df['mean_sentence_length'] = df['description'].apply(lambda x: mean_sentence_length(x))"
   ]
  },
  {
   "cell_type": "code",
   "execution_count": 20,
   "metadata": {},
   "outputs": [],
   "source": [
    "#Average sentence length by words\n",
    "def mean_sentence_length_byWords(text):\n",
    "    tokens = sent_tokenize(text)\n",
    "    return np.average([len(token.split()) for token in tokens])\n",
    "df['mean_sentence_length_byWords'] = df['description'].apply(lambda x: mean_sentence_length_byWords(x))"
   ]
  },
  {
   "cell_type": "code",
   "execution_count": 21,
   "metadata": {},
   "outputs": [],
   "source": [
    "def tot_diff_words(text):\n",
    "    words = word_tokenize(text)\n",
    "    return len(set(words)) / len(words)\n",
    "df['tot_diff_words'] = df['description'].apply(lambda x: tot_diff_words(x))"
   ]
  },
  {
   "attachments": {},
   "cell_type": "markdown",
   "metadata": {},
   "source": [
    "### - **Extracting Syntactic features**"
   ]
  },
  {
   "cell_type": "code",
   "execution_count": 22,
   "metadata": {},
   "outputs": [],
   "source": [
    "#frequency of special character in a text\n",
    "def freq_special_character(text):\n",
    "    sc = string.punctuation\n",
    "    count = 0\n",
    "    for i in text:\n",
    "        if (i in sc):\n",
    "            count = count + 1\n",
    "    return float(count) / float(len(text))"
   ]
  },
  {
   "cell_type": "code",
   "execution_count": 23,
   "metadata": {},
   "outputs": [],
   "source": [
    "#frequency of punctuations in a text\n",
    "def freq_punc(text):\n",
    "    punc = [\",\", \".\", \"'\", \"!\", '\"', \";\", \"?\", \":\", \";\"]\n",
    "    count = 0\n",
    "    for i in text:\n",
    "        if (i in punc):\n",
    "            count = count + 1\n",
    "    return float(count) / float(len(text))"
   ]
  },
  {
   "cell_type": "code",
   "execution_count": 24,
   "metadata": {},
   "outputs": [],
   "source": [
    "#removes punctuation and special characters that are in string.punctuation\n",
    "def remove_punctuation(text):\n",
    "    text = word_tokenize(text)\n",
    "    st = string.punctuation\n",
    "    words = [word for word in text if word not in st]\n",
    "    return words"
   ]
  },
  {
   "cell_type": "code",
   "execution_count": 25,
   "metadata": {},
   "outputs": [],
   "source": [
    "#count frequency of functional words in a text\n",
    "def frequency_functional_words(text):\n",
    "    functional_words = \"\"\"a between in nor some upon about both including nothing somebody us above but inside of someone used after by into off something via all can is on such we although cos it once than what am do its one that whatever among down latter onto the when an each less opposite their where and either like or them whether another enough little our these which any every lots outside they while anybody everybody many over this who anyone everyone me own those whoever anything everything more past though whom are few most per through whose around following much plenty till will as for must plus to with at from my regarding toward within be have near same towards without because he need several under worth before her neither she unless would behind him no should unlike yes below i nobody since until you beside if none so up your\"\"\"\n",
    "    functional_words = functional_words.split()\n",
    "    words = remove_punctuation(text)\n",
    "    count = 0\n",
    "\n",
    "    for i in text:\n",
    "        if i in functional_words:\n",
    "            count += 1\n",
    "    return count / len(words)\n",
    "df['frequency_functional_words'] = df['description'].apply(lambda x: frequency_functional_words(x))"
   ]
  },
  {
   "cell_type": "code",
   "execution_count": 26,
   "metadata": {},
   "outputs": [],
   "source": [
    "df['cleaned_description'] = df['description'].apply(lambda x: clean_review(x))"
   ]
  },
  {
   "cell_type": "code",
   "execution_count": 27,
   "metadata": {},
   "outputs": [
    {
     "name": "stderr",
     "output_type": "stream",
     "text": [
      "[nltk_data] Downloading package averaged_perceptron_tagger to\n",
      "[nltk_data]     /Users/laiduy98/nltk_data...\n",
      "[nltk_data]   Package averaged_perceptron_tagger is already up-to-\n",
      "[nltk_data]       date!\n"
     ]
    },
    {
     "data": {
      "text/plain": [
       "True"
      ]
     },
     "execution_count": 27,
     "metadata": {},
     "output_type": "execute_result"
    }
   ],
   "source": [
    "from nltk import pos_tag\n",
    "nltk.download('averaged_perceptron_tagger')"
   ]
  },
  {
   "cell_type": "code",
   "execution_count": 28,
   "metadata": {},
   "outputs": [],
   "source": [
    "def pos_tags_distribution(text):\n",
    "    tokens = word_tokenize(text)\n",
    "    pos_tags = pos_tag(tokens)\n",
    "    pos_counts = nltk.FreqDist(tag for word, tag in pos_tags)\n",
    "    return pos_counts\n",
    "pos_tags_df =[]\n",
    "pos_tags_df = df['cleaned_description'].apply(pos_tags_distribution).apply(pd.Series).fillna(0)\n",
    "pos_tags_df.columns = [f'pos_{col}' for col in pos_tags_df.columns]\n",
    "\n",
    "df = pd.concat([df, pos_tags_df], axis=1)"
   ]
  },
  {
   "cell_type": "code",
   "execution_count": 29,
   "metadata": {},
   "outputs": [
    {
     "data": {
      "text/plain": [
       "Index(['country', 'description', 'y_country', 'nb_seq', 'nb_words', 'len_text',\n",
       "       'nb_alpha', 'nb_uppercase', 'nb_syllable', 'mean_word_length',\n",
       "       'mean_sentence_length', 'mean_sentence_length_byWords',\n",
       "       'tot_diff_words', 'frequency_functional_words', 'cleaned_description',\n",
       "       'pos_JJ', 'pos_NN', 'pos_CC', 'pos_IN', 'pos_VBZ', 'pos_RB', 'pos_VBG',\n",
       "       'pos_TO', 'pos_VB', 'pos_NNS', 'pos_DT', 'pos_WRB', 'pos_PRP',\n",
       "       'pos_VBP', 'pos_JJS', 'pos_VBN', 'pos_RBS', 'pos_VBD', 'pos_MD',\n",
       "       'pos_WDT', 'pos_EX', 'pos_PRP$', 'pos_CD', 'pos_JJR', 'pos_WP',\n",
       "       'pos_RBR', 'pos_RP', 'pos_PDT', 'pos_FW', 'pos_UH', 'pos_WP$',\n",
       "       'pos_NNP', 'pos_NNPS', 'pos_POS', 'pos_$', 'pos_''', 'pos_SYM'],\n",
       "      dtype='object')"
      ]
     },
     "execution_count": 29,
     "metadata": {},
     "output_type": "execute_result"
    }
   ],
   "source": [
    "df.columns"
   ]
  },
  {
   "cell_type": "code",
   "execution_count": 30,
   "metadata": {},
   "outputs": [],
   "source": [
    "X = df['cleaned_description'].values.tolist() \n",
    "Y = df['y_country'].values.tolist()"
   ]
  },
  {
   "attachments": {},
   "cell_type": "markdown",
   "metadata": {},
   "source": [
    "## choosing best classifier for our case and choose the best features"
   ]
  },
  {
   "attachments": {},
   "cell_type": "markdown",
   "metadata": {},
   "source": [
    "### Search for best model"
   ]
  },
  {
   "cell_type": "code",
   "execution_count": 48,
   "metadata": {},
   "outputs": [],
   "source": [
    "from sklearn.model_selection import train_test_split\n",
    "from sklearn.metrics import accuracy_score\n",
    "from sklearn.metrics import confusion_matrix\n",
    "from sklearn.model_selection import cross_val_score, StratifiedKFold"
   ]
  },
  {
   "cell_type": "code",
   "execution_count": 49,
   "metadata": {},
   "outputs": [],
   "source": [
    "from sklearn.preprocessing import StandardScaler\n",
    "from scipy.sparse import hstack, csr_matrix"
   ]
  },
  {
   "cell_type": "code",
   "execution_count": 50,
   "metadata": {},
   "outputs": [],
   "source": [
    "from sklearn.neighbors import KNeighborsClassifier\n",
    "from sklearn.svm import LinearSVC\n",
    "from sklearn.ensemble import RandomForestClassifier\n",
    "from sklearn.cluster import KMeans"
   ]
  },
  {
   "cell_type": "code",
   "execution_count": 33,
   "metadata": {},
   "outputs": [],
   "source": [
    "names = [\n",
    "    \"Nearest Neighbors\",\n",
    "    \"Linear SVC\",\n",
    "    \"Random Forest\",\n",
    "    \"Kmeans\",\n",
    "    \"GaussianNB\"\n",
    "]\n",
    "classifiers = [\n",
    "    KNeighborsClassifier(n_neighbors=10),\n",
    "    LinearSVC(max_iter=1000),\n",
    "    RandomForestClassifier(max_depth=10),\n",
    "    KMeans(n_clusters=11, random_state=0),\n",
    "]"
   ]
  },
  {
   "cell_type": "code",
   "execution_count": 34,
   "metadata": {},
   "outputs": [],
   "source": [
    "#1st confusion matrix \n",
    "def model(X ,Y, clf, add_features):\n",
    "    X_train, X_test, y_train, y_test  = train_test_split(X, \n",
    "                                                        Y,stratify=Y,\n",
    "                                                        test_size=0.1111, shuffle=True)\n",
    "\n",
    "    tf = TfidfVectorizer(stop_words='english', ngram_range=(1,2))\n",
    "    tf_Xtrain_description = tf.fit_transform(X_train['cleaned_description'])\n",
    "    tf_Xtest_description = tf.transform(X_test['cleaned_description'])\n",
    "    #would be better if u split data before then fit then transform  \n",
    "    if add_features:\n",
    "        X_train = X_train[add_features]\n",
    "        X_test = X_test[add_features]\n",
    "\n",
    "        X_train = X_train.fillna(0)\n",
    "        X_test = X_test.fillna(0)\n",
    "        \n",
    "        scaler = StandardScaler()   \n",
    "        X_train_scaled = scaler.fit_transform(X_train)\n",
    "        X_test_scaled = scaler.fit_transform(X_test)\n",
    "\n",
    "        X_train_sparse = csr_matrix(X_train_scaled)\n",
    "        X_test_sparse = csr_matrix(X_test_scaled)\n",
    "\n",
    "\n",
    "        tf_Xtrain = hstack((tf_Xtrain_description, X_train_sparse))\n",
    "        tf_Xtest = hstack((tf_Xtest_description, X_test_sparse))\n",
    "    else:\n",
    "        tf_Xtrain = tf_Xtrain_description\n",
    "        tf_Xtest = tf_Xtest_description\n",
    "        \n",
    "    # skf = StratifiedKFold(n_splits=5, shuffle=True, random_state=0)\n",
    "    # cv_results = cross_val_score(clf, tf_Xtrain, y_train, cv=skf, scoring='f1_micro', n_jobs = -1)\n",
    "\n",
    "    clf = clf.fit(tf_Xtrain, y_train)\n",
    "    \n",
    "    # print(cv_results, cv_results.mean())    \n",
    "    y_pred = clf.predict(tf_Xtest)\n",
    "    acc = accuracy_score(y_test,y_pred)\n",
    "    print(\"accuracy\", acc)\n",
    "    \n",
    "    y_test = le.inverse_transform(y_test)\n",
    "    y_pred = le.inverse_transform(y_pred)\n",
    "    \n",
    "    labels = ['JPN', 'KOR', 'CHI',  'HIN',  'TEL', 'ARA',  'TUR', 'SPA',  'FRE', 'ITA' ,'GER']\n",
    "    cf = confusion_matrix(y_test, y_pred, labels = labels)\n",
    "    cf_df = pd.DataFrame(cf ,index = labels, columns = labels)\n",
    "    return acc"
   ]
  },
  {
   "attachments": {},
   "cell_type": "markdown",
   "metadata": {},
   "source": [
    "### Searching for the best features"
   ]
  },
  {
   "cell_type": "code",
   "execution_count": null,
   "metadata": {},
   "outputs": [],
   "source": [
    "import itertools\n",
    "from tqdm import tqdm"
   ]
  },
  {
   "cell_type": "code",
   "execution_count": null,
   "metadata": {},
   "outputs": [],
   "source": [
    "num_features = ['nb_seq', 'nb_words', 'len_text', 'nb_alpha', 'nb_uppercase', 'nb_syllable', 'mean_word_length', 'mean_sentence_length', 'mean_sentence_length_byWords', 'tot_diff_words', 'count_functional_words']\n",
    "\n",
    "# Generate all possible combinations of numerical features\n",
    "feature_combinations = []\n",
    "for i in range(len(num_features) + 1):\n",
    "    feature_combinations.extend(list(itertools.combinations(num_features, i)))\n",
    "\n",
    "# Evaluate the model with each feature combination\n",
    "### do not run, takes a long time to finish###\n",
    "\"\"\"\n",
    "results = []\n",
    "for combination in tqdm(feature_combinations, desc=\"Processing feature combinations\"):\n",
    "    selected_features = list(combination)\n",
    "    accuracy = compare_models(X, Y, LinearSVC(max_iter=1000), add_features=selected_features)\n",
    "    results.append((accuracy, selected_features))\n",
    "results = pd.DataFrame(results)\n",
    "\"\"\""
   ]
  },
  {
   "cell_type": "code",
   "execution_count": null,
   "metadata": {},
   "outputs": [],
   "source": [
    "best_comb = (results[results[0] == results[0].max()])"
   ]
  },
  {
   "cell_type": "code",
   "execution_count": null,
   "metadata": {},
   "outputs": [],
   "source": [
    "print(best_comb[1].tolist())"
   ]
  },
  {
   "attachments": {},
   "cell_type": "markdown",
   "metadata": {},
   "source": [
    "Best combination of features found to be ```[['nb_seq', 'nb_words', 'len_text', 'nb_uppercase', 'mean_sentence_length_byWords', 'tot_diff_words']]```"
   ]
  },
  {
   "cell_type": "code",
   "execution_count": 35,
   "metadata": {},
   "outputs": [],
   "source": [
    "cf_dfn=[]"
   ]
  },
  {
   "cell_type": "code",
   "execution_count": 54,
   "metadata": {},
   "outputs": [],
   "source": [
    "import lightgbm as lgb\n",
    "lgbm_clf = lgb"
   ]
  },
  {
   "cell_type": "code",
   "execution_count": 53,
   "metadata": {},
   "outputs": [],
   "source": [
    "#1st confusion matrix \n",
    "def compare_models(X ,Y, clf, params, add_features):\n",
    "    X_train, X_test, y_train, y_test  = train_test_split(X, \n",
    "                                                        Y,stratify=Y,\n",
    "                                                        test_size=0.1111, shuffle=True)\n",
    "\n",
    "    tf = TfidfVectorizer(stop_words='english', ngram_range=(1,2))\n",
    "    tf_Xtrain_description = tf.fit_transform(X_train['cleaned_description'])\n",
    "    tf_Xtest_description = tf.transform(X_test['cleaned_description'])\n",
    "    #would be better if u split data before then fit then transform  \n",
    "    if add_features:\n",
    "        X_train = X_train[add_features]\n",
    "        X_test = X_test[add_features]\n",
    "\n",
    "        X_train = X_train.fillna(0)\n",
    "        X_test = X_test.fillna(0)\n",
    "        \n",
    "        scaler = StandardScaler()   \n",
    "        X_train_scaled = scaler.fit_transform(X_train)\n",
    "        X_test_scaled = scaler.fit_transform(X_test)\n",
    "\n",
    "        X_train_sparse = csr_matrix(X_train_scaled)\n",
    "        X_test_sparse = csr_matrix(X_test_scaled)\n",
    "\n",
    "\n",
    "        tf_Xtrain = hstack((tf_Xtrain_description, X_train_sparse))\n",
    "        tf_Xtest = hstack((tf_Xtest_description, X_test_sparse))\n",
    "    else:\n",
    "        tf_Xtrain = tf_Xtrain_description\n",
    "        tf_Xtest = tf_Xtest_description\n",
    "    print(tf_Xtrain.shape)\n",
    "    d_train = lgb.Dataset(tf_Xtrain, label=y_train)\n",
    "    clf = lgb.train(params, d_train)\n",
    "        \n",
    "    \n",
    "    y_pred = clf.predict(tf_Xtest)\n",
    "    y_val_pred = np.argmax(y_pred, axis=1)\n",
    "    acc = accuracy_score(y_test,y_val_pred)\n",
    "    print(\"accuracy\", acc)\n",
    "    \n",
    "    y_test = le.inverse_transform(y_test)\n",
    "    y_pred = le.inverse_transform(y_val_pred)\n",
    "    \n",
    "    \"\"\"labels = ['JPN', 'KOR', 'CHI',  'HIN',  'TEL', 'ARA',  'TUR', 'SPA',  'FRE', 'ITA' ,'GER']\n",
    "    cf = confusion_matrix(y_test, y_pred, labels = labels)\n",
    "    cf_df = pd.DataFrame(cf ,index = labels, columns = labels)\"\"\"\n",
    "    return acc"
   ]
  },
  {
   "cell_type": "code",
   "execution_count": 39,
   "metadata": {},
   "outputs": [],
   "source": [
    "params = {\n",
    "    'objective': 'multiclass',\n",
    "    'num_class': len(df['y_country'].unique()),\n",
    "    'boosting_type': 'gbdt',\n",
    "    'n_jobs': -1,\n",
    "    'learning_rate': 0.03,\n",
    "    'num_leaves': 31,\n",
    "    'max_depth': -1,\n",
    "    'min_data_in_leaf': 20,\n",
    "    'feature_fraction': 1,\n",
    "}"
   ]
  },
  {
   "cell_type": "code",
   "execution_count": 55,
   "metadata": {},
   "outputs": [
    {
     "name": "stdout",
     "output_type": "stream",
     "text": [
      "(8800, 654986)\n"
     ]
    }
   ],
   "source": [
    "cf = compare_models(X,Y, lgb,params,add_features=['nb_seq', 'nb_words', 'len_text', 'nb_uppercase', 'mean_sentence_length_byWords', 'tot_diff_words','frequency_functional_words','pos_JJ', 'pos_NN', 'pos_CC', 'pos_IN', 'pos_VBZ', 'pos_RB', 'pos_VBG',\n",
    "       'pos_TO', 'pos_VB', 'pos_NNS', 'pos_DT', 'pos_WRB', 'pos_PRP',\n",
    "       'pos_VBP', 'pos_JJS', 'pos_VBN', 'pos_RBS', 'pos_VBD', 'pos_MD',\n",
    "       'pos_WDT', 'pos_EX', 'pos_PRP$', 'pos_CD', 'pos_JJR', 'pos_WP',\n",
    "       'pos_RBR', 'pos_RP', 'pos_PDT', 'pos_FW', 'pos_UH', 'pos_WP$',\n",
    "       'pos_NNP', 'pos_NNPS', 'pos_POS', 'pos_$', \"pos_''\", 'pos_SYM'])"
   ]
  },
  {
   "cell_type": "code",
   "execution_count": 51,
   "metadata": {},
   "outputs": [
    {
     "name": "stdout",
     "output_type": "stream",
     "text": [
      "for classifier : Nearest Neighbors\n",
      "accuracy 0.23636363636363636\n",
      "for classifier : Linear SVC\n"
     ]
    },
    {
     "name": "stderr",
     "output_type": "stream",
     "text": [
      "/Users/laiduy98/miniconda3/envs/nlp/lib/python3.10/site-packages/sklearn/svm/_base.py:1225: ConvergenceWarning: Liblinear failed to converge, increase the number of iterations.\n",
      "  warnings.warn(\n"
     ]
    },
    {
     "name": "stdout",
     "output_type": "stream",
     "text": [
      "accuracy 0.7163636363636363\n",
      "for classifier : Random Forest\n",
      "accuracy 0.4445454545454545\n",
      "for classifier : Kmeans\n",
      "accuracy 0.09727272727272727\n"
     ]
    }
   ],
   "source": [
    "for name, clf in zip(names,classifiers):\n",
    "  print(\"for classifier :\", name)\n",
    "  cf_df = model(X,Y,clf, add_features=['nb_seq', 'nb_words', 'len_text', 'nb_uppercase', 'mean_sentence_length_byWords', 'tot_diff_words','frequency_functional_words','pos_JJ', 'pos_NN', 'pos_CC', 'pos_IN', 'pos_VBZ', 'pos_RB', 'pos_VBG',\n",
    "       'pos_TO', 'pos_VB', 'pos_NNS', 'pos_DT', 'pos_WRB', 'pos_PRP',\n",
    "       'pos_VBP', 'pos_JJS', 'pos_VBN', 'pos_RBS', 'pos_VBD', 'pos_MD',\n",
    "       'pos_WDT', 'pos_EX', 'pos_PRP$', 'pos_CD', 'pos_JJR', 'pos_WP',\n",
    "       'pos_RBR', 'pos_RP', 'pos_PDT', 'pos_FW', 'pos_UH', 'pos_WP$',\n",
    "       'pos_NNP', 'pos_NNPS', 'pos_POS', 'pos_$', \"pos_''\", 'pos_SYM'])"
   ]
  },
  {
   "cell_type": "code",
   "execution_count": 37,
   "metadata": {},
   "outputs": [],
   "source": [
    "#we choose linearSVC"
   ]
  },
  {
   "cell_type": "code",
   "execution_count": 38,
   "metadata": {},
   "outputs": [
    {
     "name": "stdout",
     "output_type": "stream",
     "text": [
      "accuracy 0.6863636363636364\n",
      "accuracy 0.7009090909090909\n",
      "accuracy 0.7036363636363636\n",
      "accuracy 0.6881818181818182\n"
     ]
    }
   ],
   "source": [
    "# for i in range(3):\n",
    "\n",
    "cf_df = model(X,Y, LinearSVC(max_iter=1000))\n",
    "cf_df1 = model(X,Y, LinearSVC(max_iter=1000))\n",
    "cf_df2 = model(X,Y, LinearSVC(max_iter=1000))\n",
    "cf_df3 = model(X,Y, LinearSVC(max_iter=1000))"
   ]
  },
  {
   "cell_type": "code",
   "execution_count": 39,
   "metadata": {},
   "outputs": [],
   "source": [
    "cf_sum = cf_df + cf_df1 + cf_df2 + cf_df3"
   ]
  },
  {
   "attachments": {},
   "cell_type": "markdown",
   "metadata": {},
   "source": [
    "### Confusion matrix of the best model"
   ]
  },
  {
   "cell_type": "code",
   "execution_count": 40,
   "metadata": {},
   "outputs": [
    {
     "data": {
      "text/plain": [
       "<AxesSubplot:>"
      ]
     },
     "execution_count": 40,
     "metadata": {},
     "output_type": "execute_result"
    },
    {
     "data": {
      "image/png": "[encoded data removed]",
      "text/plain": [
       "<Figure size 1170x827 with 2 Axes>"
      ]
     },
     "metadata": {},
     "output_type": "display_data"
    }
   ],
   "source": [
    "import seaborn as sns\n",
    "sns.set(rc={'figure.figsize':(11.7,8.27)})\n",
    "sns.heatmap(cf_sum, annot=True, fmt='g')"
   ]
  },
  {
   "attachments": {},
   "cell_type": "markdown",
   "metadata": {},
   "source": [
    "* **after finding best model and groups now we try to extract different features and redo the classification**"
   ]
  },
  {
   "cell_type": "code",
   "execution_count": null,
   "metadata": {},
   "outputs": [],
   "source": [
    "from sklearn.model_selection import train_test_split\n",
    "\n",
    "X_train, X_test, y_train, y_test  = train_test_split(X, \n",
    "                                                    Y,stratify=Y,\n",
    "                                                    test_size=0.1111,  shuffle=True)"
   ]
  },
  {
   "cell_type": "code",
   "execution_count": null,
   "metadata": {},
   "outputs": [],
   "source": [
    "#would be better if u split data before then fit then transform  \n",
    "tf = TfidfVectorizer(stop_words='english', ngram_range=(1,2))\n",
    "tf_Xtrain = tf.fit_transform(X_train)"
   ]
  },
  {
   "cell_type": "code",
   "execution_count": null,
   "metadata": {},
   "outputs": [],
   "source": [
    "tf_Xtest = tf.transform(X_test)"
   ]
  },
  {
   "cell_type": "code",
   "execution_count": null,
   "metadata": {},
   "outputs": [],
   "source": [
    "from sklearn.svm import LinearSVC"
   ]
  },
  {
   "cell_type": "code",
   "execution_count": null,
   "metadata": {},
   "outputs": [],
   "source": [
    "clf = LinearSVC( max_iter = 2000, verbose= 2)"
   ]
  },
  {
   "cell_type": "code",
   "execution_count": null,
   "metadata": {},
   "outputs": [
    {
     "name": "stdout",
     "output_type": "stream",
     "text": [
      "[LibLinear]..*\n",
      "optimization finished, #iter = 23\n",
      "Objective value = -830.958683\n",
      "nSV = 6386\n",
      "..*\n",
      "optimization finished, #iter = 27\n",
      "Objective value = -830.589118\n",
      "nSV = 5863\n",
      "..*\n",
      "optimization finished, #iter = 23\n",
      "Objective value = -815.639803\n",
      "nSV = 6224\n",
      "..*\n",
      "optimization finished, #iter = 22\n",
      "Objective value = -744.716155\n",
      "nSV = 5644\n",
      "..*\n",
      "optimization finished, #iter = 24\n",
      "Objective value = -778.688441\n",
      "nSV = 5354\n",
      "..*\n",
      "optimization finished, #iter = 22\n",
      "Objective value = -728.783354\n",
      "nSV = 5344\n",
      "..*\n",
      "optimization finished, #iter = 29\n",
      "Objective value = -782.007675\n",
      "nSV = 5593\n",
      "..*\n",
      "optimization finished, #iter = 27\n",
      "Objective value = -838.893766\n",
      "nSV = 5799\n",
      "..*\n",
      "optimization finished, #iter = 24\n",
      "Objective value = -859.534823\n",
      "nSV = 6264\n",
      "..*\n",
      "optimization finished, #iter = 25\n",
      "Objective value = -720.453358\n",
      "nSV = 5087\n",
      "..*\n",
      "optimization finished, #iter = 24\n",
      "Objective value = -831.057846\n",
      "nSV = 6365\n"
     ]
    },
    {
     "data": {
      "text/html": [
       "<style>#sk-container-id-1 {color: black;background-color: white;}#sk-container-id-1 pre{padding: 0;}#sk-container-id-1 div.sk-toggleable {background-color: white;}#sk-container-id-1 label.sk-toggleable__label {cursor: pointer;display: block;width: 100%;margin-bottom: 0;padding: 0.3em;box-sizing: border-box;text-align: center;}#sk-container-id-1 label.sk-toggleable__label-arrow:before {content: \"▸\";float: left;margin-right: 0.25em;color: #696969;}#sk-container-id-1 label.sk-toggleable__label-arrow:hover:before {color: black;}#sk-container-id-1 div.sk-estimator:hover label.sk-toggleable__label-arrow:before {color: black;}#sk-container-id-1 div.sk-toggleable__content {max-height: 0;max-width: 0;overflow: hidden;text-align: left;background-color: #f0f8ff;}#sk-container-id-1 div.sk-toggleable__content pre {margin: 0.2em;color: black;border-radius: 0.25em;background-color: #f0f8ff;}#sk-container-id-1 input.sk-toggleable__control:checked~div.sk-toggleable__content {max-height: 200px;max-width: 100%;overflow: auto;}#sk-container-id-1 input.sk-toggleable__control:checked~label.sk-toggleable__label-arrow:before {content: \"▾\";}#sk-container-id-1 div.sk-estimator input.sk-toggleable__control:checked~label.sk-toggleable__label {background-color: #d4ebff;}#sk-container-id-1 div.sk-label input.sk-toggleable__control:checked~label.sk-toggleable__label {background-color: #d4ebff;}#sk-container-id-1 input.sk-hidden--visually {border: 0;clip: rect(1px 1px 1px 1px);clip: rect(1px, 1px, 1px, 1px);height: 1px;margin: -1px;overflow: hidden;padding: 0;position: absolute;width: 1px;}#sk-container-id-1 div.sk-estimator {font-family: monospace;background-color: #f0f8ff;border: 1px dotted black;border-radius: 0.25em;box-sizing: border-box;margin-bottom: 0.5em;}#sk-container-id-1 div.sk-estimator:hover {background-color: #d4ebff;}#sk-container-id-1 div.sk-parallel-item::after {content: \"\";width: 100%;border-bottom: 1px solid gray;flex-grow: 1;}#sk-container-id-1 div.sk-label:hover label.sk-toggleable__label {background-color: #d4ebff;}#sk-container-id-1 div.sk-serial::before {content: \"\";position: absolute;border-left: 1px solid gray;box-sizing: border-box;top: 0;bottom: 0;left: 50%;z-index: 0;}#sk-container-id-1 div.sk-serial {display: flex;flex-direction: column;align-items: center;background-color: white;padding-right: 0.2em;padding-left: 0.2em;position: relative;}#sk-container-id-1 div.sk-item {position: relative;z-index: 1;}#sk-container-id-1 div.sk-parallel {display: flex;align-items: stretch;justify-content: center;background-color: white;position: relative;}#sk-container-id-1 div.sk-item::before, #sk-container-id-1 div.sk-parallel-item::before {content: \"\";position: absolute;border-left: 1px solid gray;box-sizing: border-box;top: 0;bottom: 0;left: 50%;z-index: -1;}#sk-container-id-1 div.sk-parallel-item {display: flex;flex-direction: column;z-index: 1;position: relative;background-color: white;}#sk-container-id-1 div.sk-parallel-item:first-child::after {align-self: flex-end;width: 50%;}#sk-container-id-1 div.sk-parallel-item:last-child::after {align-self: flex-start;width: 50%;}#sk-container-id-1 div.sk-parallel-item:only-child::after {width: 0;}#sk-container-id-1 div.sk-dashed-wrapped {border: 1px dashed gray;margin: 0 0.4em 0.5em 0.4em;box-sizing: border-box;padding-bottom: 0.4em;background-color: white;}#sk-container-id-1 div.sk-label label {font-family: monospace;font-weight: bold;display: inline-block;line-height: 1.2em;}#sk-container-id-1 div.sk-label-container {text-align: center;}#sk-container-id-1 div.sk-container {/* jupyter's `normalize.less` sets `[hidden] { display: none; }` but bootstrap.min.css set `[hidden] { display: none !important; }` so we also need the `!important` here to be able to override the default hidden behavior on the sphinx rendered scikit-learn.org. See: https://github.com/scikit-learn/scikit-learn/issues/21755 */display: inline-block !important;position: relative;}#sk-container-id-1 div.sk-text-repr-fallback {display: none;}</style><div id=\"sk-container-id-1\" class=\"sk-top-container\"><div class=\"sk-text-repr-fallback\"><pre>LinearSVC(max_iter=2000, verbose=2)</pre><b>In a Jupyter environment, please rerun this cell to show the HTML representation or trust the notebook. <br />On GitHub, the HTML representation is unable to render, please try loading this page with nbviewer.org.</b></div><div class=\"sk-container\" hidden><div class=\"sk-item\"><div class=\"sk-estimator sk-toggleable\"><input class=\"sk-toggleable__control sk-hidden--visually\" id=\"sk-estimator-id-1\" type=\"checkbox\" checked><label for=\"sk-estimator-id-1\" class=\"sk-toggleable__label sk-toggleable__label-arrow\">LinearSVC</label><div class=\"sk-toggleable__content\"><pre>LinearSVC(max_iter=2000, verbose=2)</pre></div></div></div></div></div>"
      ],
      "text/plain": [
       "LinearSVC(max_iter=2000, verbose=2)"
      ]
     },
     "execution_count": 47,
     "metadata": {},
     "output_type": "execute_result"
    }
   ],
   "source": [
    "clf.fit(tf_Xtrain,y_train)"
   ]
  },
  {
   "cell_type": "code",
   "execution_count": null,
   "metadata": {},
   "outputs": [],
   "source": [
    "y_pred = clf.predict(tf_Xtest)"
   ]
  },
  {
   "cell_type": "code",
   "execution_count": 49,
   "metadata": {},
   "outputs": [
    {
     "name": "stdout",
     "output_type": "stream",
     "text": [
      "0.7063636363636364\n"
     ]
    }
   ],
   "source": [
    "from sklearn.metrics import accuracy_score\n",
    "print(accuracy_score(y_test,y_pred))\n"
   ]
  },
  {
   "cell_type": "code",
   "execution_count": 44,
   "metadata": {},
   "outputs": [],
   "source": [
    "X = df[['cleaned_description','nb_seq', 'nb_words', 'len_text',\n",
    "       'nb_alpha', 'nb_uppercase', 'nb_syllable', 'mean_word_length',\n",
    "       'mean_sentence_length', 'mean_sentence_length_byWords',\n",
    "       'tot_diff_words', 'frequency_functional_words','pos_JJ', 'pos_NN', 'pos_CC', 'pos_IN', 'pos_VBZ', 'pos_RB', 'pos_VBG',\n",
    "       'pos_TO', 'pos_VB', 'pos_NNS', 'pos_DT', 'pos_WRB', 'pos_PRP',\n",
    "       'pos_VBP', 'pos_JJS', 'pos_VBN', 'pos_RBS', 'pos_VBD', 'pos_MD',\n",
    "       'pos_WDT', 'pos_EX', 'pos_PRP$', 'pos_CD', 'pos_JJR', 'pos_WP',\n",
    "       'pos_RBR', 'pos_RP', 'pos_PDT', 'pos_FW', 'pos_UH', 'pos_WP$',\n",
    "       'pos_NNP', 'pos_NNPS', 'pos_POS', 'pos_$', \"pos_''\", 'pos_SYM']]"
   ]
  },
  {
   "cell_type": "markdown",
   "metadata": {},
   "source": [
    "### Hyper-parameters "
   ]
  },
  {
   "cell_type": "code",
   "execution_count": null,
   "metadata": {},
   "outputs": [],
   "source": [
    "from sklearn.linear_model import SGDClassifier\n",
    "from sklearn.calibration import CalibratedClassifierCV"
   ]
  },
  {
   "cell_type": "code",
   "execution_count": null,
   "metadata": {},
   "outputs": [],
   "source": [
    "import numpy as np\n",
    "from sklearn.model_selection import GridSearchCV"
   ]
  },
  {
   "cell_type": "code",
   "execution_count": null,
   "metadata": {},
   "outputs": [],
   "source": [
    "param_grid = {\n",
    "    'C': np.logspace(-3, 3, 7),\n",
    "    'penalty': ['l1', 'l2'],\n",
    "    'dual': [False],\n",
    "    'loss': ['hinge', 'squared_hinge'],\n",
    "    'class_weight': [None, 'balanced'],\n",
    "    'random_state': [42]\n",
    "}"
   ]
  },
  {
   "cell_type": "code",
   "execution_count": null,
   "metadata": {},
   "outputs": [],
   "source": [
    "grid_search = GridSearchCV(\n",
    "    LinearSVC(),\n",
    "    param_grid,\n",
    "    scoring='accuracy',\n",
    "    cv=5,\n",
    "    verbose=3,\n",
    "    n_jobs=-1\n",
    ")"
   ]
  },
  {
   "cell_type": "code",
   "execution_count": null,
   "metadata": {},
   "outputs": [],
   "source": [
    "X_train, X_test, y_train, y_test  = train_test_split(X, \n",
    "                                                    Y,stratify=Y,\n",
    "                                                    test_size=0.1111, shuffle=True)\n",
    "\n",
    "tf = TfidfVectorizer(stop_words='english', ngram_range=(1,2))\n",
    "tf_Xtrain_description = tf.fit_transform(X_train['cleaned_description'])\n",
    "tf_Xtest_description = tf.transform(X_test['cleaned_description'])\n",
    "#would be better if u split data before then fit then transform  \n",
    "X_train = X_train[['nb_seq', 'nb_words', 'len_text', 'nb_uppercase', 'mean_sentence_length_byWords', 'tot_diff_words']]\n",
    "X_test = X_test[['nb_seq', 'nb_words', 'len_text', 'nb_uppercase', 'mean_sentence_length_byWords', 'tot_diff_words']]\n",
    "\n",
    "X_train = X_train.fillna(0)\n",
    "X_test = X_test.fillna(0)\n",
    "\n",
    "scaler = StandardScaler()   \n",
    "X_train_scaled = scaler.fit_transform(X_train)\n",
    "X_test_scaled = scaler.fit_transform(X_test)\n",
    "\n",
    "X_train_sparse = csr_matrix(X_train_scaled)\n",
    "X_test_sparse = csr_matrix(X_test_scaled)\n",
    "\n",
    "\n",
    "tf_Xtrain = hstack((tf_Xtrain_description, X_train_sparse))\n",
    "tf_Xtest = hstack((tf_Xtest_description, X_test_sparse))"
   ]
  },
  {
   "cell_type": "code",
   "execution_count": null,
   "metadata": {},
   "outputs": [],
   "source": [
    "lr_svc = LinearSVC(max_iter=20000,random_state=42)"
   ]
  },
  {
   "cell_type": "code",
   "execution_count": null,
   "metadata": {},
   "outputs": [
    {
     "name": "stdout",
     "output_type": "stream",
     "text": [
      "accuracy 0.6818181818181818\n"
     ]
    },
    {
     "name": "stderr",
     "output_type": "stream",
     "text": [
      "c:\\Users\\mazen\\Anaconda3\\lib\\site-packages\\sklearn\\svm\\_base.py:1208: ConvergenceWarning: Liblinear failed to converge, increase the number of iterations.\n",
      "  ConvergenceWarning,\n"
     ]
    }
   ],
   "source": [
    "lr_svc = lr_svc.fit(tf_Xtrain, y_train)\n",
    "\n",
    "y_pred = lr_svc.predict(tf_Xtest)\n",
    "acc = accuracy_score(y_test,y_pred)\n",
    "print(\"accuracy\", acc)\n",
    "\n",
    "y_test = le.inverse_transform(y_test)\n",
    "y_pred = le.inverse_transform(y_pred)\n",
    "\n",
    "labels = ['JPN', 'KOR', 'CHI',  'HIN',  'TEL', 'ARA',  'TUR', 'SPA',  'FRE', 'ITA' ,'GER']\n",
    "cf = confusion_matrix(y_test, y_pred, labels = labels)\n",
    "cf_df = pd.DataFrame(cf ,index = labels, columns = labels)"
   ]
  },
  {
   "cell_type": "code",
   "execution_count": null,
   "metadata": {},
   "outputs": [
    {
     "name": "stdout",
     "output_type": "stream",
     "text": [
      "Fitting 5 folds for each of 56 candidates, totalling 280 fits\n"
     ]
    },
    {
     "name": "stderr",
     "output_type": "stream",
     "text": [
      "c:\\Users\\mazen\\Anaconda3\\lib\\site-packages\\sklearn\\model_selection\\_validation.py:372: FitFailedWarning: \n",
      "140 fits failed out of a total of 280.\n",
      "The score on these train-test partitions for these parameters will be set to nan.\n",
      "If these failures are not expected, you can try to debug them by setting error_score='raise'.\n",
      "\n",
      "Below are more details about the failures:\n",
      "--------------------------------------------------------------------------------\n",
      "70 fits failed with the following error:\n",
      "Traceback (most recent call last):\n",
      "  File \"c:\\Users\\mazen\\Anaconda3\\lib\\site-packages\\sklearn\\model_selection\\_validation.py\", line 680, in _fit_and_score\n",
      "    estimator.fit(X_train, y_train, **fit_params)\n",
      "  File \"c:\\Users\\mazen\\Anaconda3\\lib\\site-packages\\sklearn\\svm\\_classes.py\", line 272, in fit\n",
      "    sample_weight=sample_weight,\n",
      "  File \"c:\\Users\\mazen\\Anaconda3\\lib\\site-packages\\sklearn\\svm\\_base.py\", line 1185, in _fit_liblinear\n",
      "    solver_type = _get_liblinear_solver_type(multi_class, penalty, loss, dual)\n",
      "  File \"c:\\Users\\mazen\\Anaconda3\\lib\\site-packages\\sklearn\\svm\\_base.py\", line 1026, in _get_liblinear_solver_type\n",
      "    % (error_string, penalty, loss, dual)\n",
      "ValueError: Unsupported set of arguments: The combination of penalty='l1' and loss='hinge' is not supported, Parameters: penalty='l1', loss='hinge', dual=False\n",
      "\n",
      "--------------------------------------------------------------------------------\n",
      "70 fits failed with the following error:\n",
      "Traceback (most recent call last):\n",
      "  File \"c:\\Users\\mazen\\Anaconda3\\lib\\site-packages\\sklearn\\model_selection\\_validation.py\", line 680, in _fit_and_score\n",
      "    estimator.fit(X_train, y_train, **fit_params)\n",
      "  File \"c:\\Users\\mazen\\Anaconda3\\lib\\site-packages\\sklearn\\svm\\_classes.py\", line 272, in fit\n",
      "    sample_weight=sample_weight,\n",
      "  File \"c:\\Users\\mazen\\Anaconda3\\lib\\site-packages\\sklearn\\svm\\_base.py\", line 1185, in _fit_liblinear\n",
      "    solver_type = _get_liblinear_solver_type(multi_class, penalty, loss, dual)\n",
      "  File \"c:\\Users\\mazen\\Anaconda3\\lib\\site-packages\\sklearn\\svm\\_base.py\", line 1026, in _get_liblinear_solver_type\n",
      "    % (error_string, penalty, loss, dual)\n",
      "ValueError: Unsupported set of arguments: The combination of penalty='l2' and loss='hinge' are not supported when dual=False, Parameters: penalty='l2', loss='hinge', dual=False\n",
      "\n",
      "  warnings.warn(some_fits_failed_message, FitFailedWarning)\n",
      "c:\\Users\\mazen\\Anaconda3\\lib\\site-packages\\sklearn\\model_selection\\_search.py:972: UserWarning: One or more of the test scores are non-finite: [       nan        nan 0.15170455 0.20659091        nan        nan\n",
      " 0.15170455 0.20659091        nan        nan 0.19340909 0.31965909\n",
      "        nan        nan 0.19340909 0.31965909        nan        nan\n",
      " 0.31340909 0.59125           nan        nan 0.31340909 0.59125\n",
      "        nan        nan 0.62204545 0.69261364        nan        nan\n",
      " 0.62204545 0.69261364        nan        nan 0.62125    0.70375\n",
      "        nan        nan 0.62125    0.70375           nan        nan\n",
      " 0.61875    0.70329545        nan        nan 0.61875    0.70329545\n",
      "        nan        nan 0.62602273 0.70340909        nan        nan\n",
      " 0.62602273 0.70340909]\n",
      "  category=UserWarning,\n"
     ]
    },
    {
     "data": {
      "text/plain": [
       "GridSearchCV(cv=5, estimator=LinearSVC(), n_jobs=-1,\n",
       "             param_grid={'C': array([1.e-03, 1.e-02, 1.e-01, 1.e+00, 1.e+01, 1.e+02, 1.e+03]),\n",
       "                         'class_weight': [None, 'balanced'], 'dual': [False],\n",
       "                         'loss': ['hinge', 'squared_hinge'],\n",
       "                         'penalty': ['l1', 'l2'], 'random_state': [42]},\n",
       "             scoring='accuracy', verbose=3)"
      ]
     },
     "metadata": {},
     "output_type": "display_data"
    }
   ],
   "source": [
    "grid_search.fit(tf_Xtrain, y_train)"
   ]
  },
  {
   "cell_type": "code",
   "execution_count": null,
   "metadata": {},
   "outputs": [
    {
     "name": "stdout",
     "output_type": "stream",
     "text": [
      "Best Parameters: {'C': 10.0, 'class_weight': None, 'dual': False, 'loss': 'squared_hinge', 'penalty': 'l2', 'random_state': 42}\n",
      "Best Accuracy Score: 0.70375\n"
     ]
    }
   ],
   "source": [
    "best_params = grid_search.best_params_\n",
    "best_score = grid_search.best_score_\n",
    "print(\"Best Parameters:\", best_params)\n",
    "print(\"Best Accuracy Score:\", best_score)"
   ]
  },
  {
   "cell_type": "markdown",
   "metadata": {},
   "source": [
    "best accuracy doesn't really show that the score got better at all it's better just by 0.002"
   ]
  },
  {
   "cell_type": "code",
   "execution_count": null,
   "metadata": {},
   "outputs": [
    {
     "name": "stdout",
     "output_type": "stream",
     "text": [
      "accuracy 0.7081818181818181\n"
     ]
    }
   ],
   "source": [
    "cf = model(X,Y,LinearSVC(max_iter=1000,C= 10.0, class_weight= None, dual= False, loss= 'squared_hinge', penalty= 'l2', random_state= 42) ,add_features=['nb_seq', 'nb_words', 'len_text', 'nb_uppercase', 'mean_sentence_length_byWords', 'tot_diff_words','pos_JJ', 'pos_NN', 'pos_CC', 'pos_IN', 'pos_VBZ', 'pos_RB', 'pos_VBG',\n",
    "       'pos_TO', 'pos_VB', 'pos_NNS', 'pos_DT', 'pos_WRB', 'pos_PRP',\n",
    "       'pos_VBP', 'pos_JJS', 'pos_VBN', 'pos_RBS', 'pos_VBD', 'pos_MD',\n",
    "       'pos_WDT', 'pos_EX', 'pos_PRP$', 'pos_CD', 'pos_JJR', 'pos_WP',\n",
    "       'pos_RBR', 'pos_RP', 'pos_PDT', 'pos_FW', 'pos_UH', 'pos_WP$',\n",
    "       'pos_NNP', 'pos_NNPS', 'pos_POS', 'pos_$', \"pos_''\", 'pos_SYM'])"
   ]
  },
  {
   "cell_type": "markdown",
   "metadata": {},
   "source": [
    "our best model with our best features and hyparameters is still not perfomring better as much, if we look at the accuracy i got better by just 0.005"
   ]
  },
  {
   "cell_type": "code",
   "execution_count": null,
   "metadata": {},
   "outputs": [
    {
     "name": "stdout",
     "output_type": "stream",
     "text": [
      "[0.51534091 0.46704545 0.48522727 0.47102273 0.47386364] 0.48250000000000004\n",
      "accuracy 0.5354545454545454\n"
     ]
    }
   ],
   "source": [
    "from sklearn.linear_model import LogisticRegression\n",
    "\n",
    "cf = model(X,Y,LogisticRegression(max_iter = 2000, n_jobs = -1 ) ,add_features=['nb_seq', 'nb_words', 'len_text', 'nb_uppercase', 'mean_sentence_length_byWords', 'tot_diff_words','pos_JJ', 'pos_NN', 'pos_CC', 'pos_IN', 'pos_VBZ', 'pos_RB', 'pos_VBG',\n",
    "       'pos_TO', 'pos_VB', 'pos_NNS', 'pos_DT', 'pos_WRB', 'pos_PRP',\n",
    "       'pos_VBP', 'pos_JJS', 'pos_VBN', 'pos_RBS', 'pos_VBD', 'pos_MD',\n",
    "       'pos_WDT', 'pos_EX', 'pos_PRP$', 'pos_CD', 'pos_JJR', 'pos_WP',\n",
    "       'pos_RBR', 'pos_RP', 'pos_PDT', 'pos_FW', 'pos_UH', 'pos_WP$',\n",
    "       'pos_NNP', 'pos_NNPS', 'pos_POS', 'pos_$', \"pos_''\", 'pos_SYM'])"
   ]
  },
  {
   "cell_type": "markdown",
   "metadata": {},
   "source": [
    "we tried running logisticRegression with new features we have but can see that's it's worse than linearsvc"
   ]
  },
  {
   "cell_type": "code",
   "execution_count": null,
   "metadata": {},
   "outputs": [
    {
     "name": "stdout",
     "output_type": "stream",
     "text": [
      "accuracy 0.7163636363636363\n"
     ]
    }
   ],
   "source": [
    "linear_svc = LinearSVC(max_iter=1000,C= 10.0, class_weight= None, dual= False, loss= 'squared_hinge', penalty= 'l2', random_state= 42)\n",
    "cf = model(X,Y,CalibratedClassifierCV(linear_svc ,n_jobs = -1 ,cv=5) ,add_features=['nb_seq', 'nb_words', 'len_text', 'nb_uppercase', 'mean_sentence_length_byWords', 'tot_diff_words','frequency_functional_words','pos_JJ', 'pos_NN', 'pos_CC', 'pos_IN', 'pos_VBZ', 'pos_RB', 'pos_VBG',\n",
    "       'pos_TO', 'pos_VB', 'pos_NNS', 'pos_DT', 'pos_WRB', 'pos_PRP',\n",
    "       'pos_VBP', 'pos_JJS', 'pos_VBN', 'pos_RBS', 'pos_VBD', 'pos_MD',\n",
    "       'pos_WDT', 'pos_EX', 'pos_PRP$', 'pos_CD', 'pos_JJR', 'pos_WP',\n",
    "       'pos_RBR', 'pos_RP', 'pos_PDT', 'pos_FW', 'pos_UH', 'pos_WP$',\n",
    "       'pos_NNP', 'pos_NNPS', 'pos_POS', 'pos_$', \"pos_''\", 'pos_SYM'])"
   ]
  },
  {
   "attachments": {},
   "cell_type": "markdown",
   "metadata": {},
   "source": [
    "Calibrated Classifier CV gives the probability prediction that we could use in the cascade method below."
   ]
  },
  {
   "attachments": {},
   "cell_type": "markdown",
   "metadata": {},
   "source": [
    "## Classifier Cascades\n",
    "\n",
    "We find that might be it could be better to separate in to close group of language rather than try to clasify every language at onnce. We can look closer to the confusion matrix of devide it into close relation group of languages."
   ]
  },
  {
   "cell_type": "code",
   "execution_count": 242,
   "metadata": {},
   "outputs": [],
   "source": [
    "asian = ['JPN', 'KOR', 'CHI']\n",
    "indian = ['HIN', 'TEL']\n",
    "other = ['ARA', 'TUR', 'GER']\n",
    "roman = ['SPA', 'FRE', 'ITA']\n",
    "group = ['ASA', 'IND', 'ROM', 'OTH']\n",
    "group_without_oth = ['ASA', 'IND', 'ROM']\n",
    "\n",
    "# le = preprocessing.LabelEncoder()\n",
    "# df_asian['y_country'] = le.fit_transform(df_asian.country)\n",
    "# df_indian['y_country'] = le.fit_transform(df_indian.country)\n",
    "# df_other['y_country'] = le.fit_transform(df_other.country)\n"
   ]
  },
  {
   "attachments": {},
   "cell_type": "markdown",
   "metadata": {},
   "source": [
    "This model return the probability of the LinearSVC"
   ]
  },
  {
   "cell_type": "code",
   "execution_count": 243,
   "metadata": {},
   "outputs": [],
   "source": [
    "def model_cascade(X ,Y, clf, language_group, le_type):\n",
    "    X_train, X_test, y_train, y_test  = train_test_split(X, \n",
    "                                                        Y,stratify=Y,\n",
    "                                                        test_size=0.1111, shuffle=True)\n",
    "    \n",
    "    #would be better if u split data before then fit then transform  \n",
    "    tf = TfidfVectorizer(stop_words='english', ngram_range=(1,2))\n",
    "    tf_Xtrain = tf.fit_transform(X_train)\n",
    "    tf_Xtest = tf.transform(X_test)\n",
    "    \n",
    "    \n",
    "    clf.fit(tf_Xtrain,y_train)\n",
    "    y_pred = clf.predict(tf_Xtest)\n",
    "    y_pred_proba = clf.predict_proba(tf_Xtest)\n",
    "    print(\"accuracy\", accuracy_score(y_test,y_pred))\n",
    "    \n",
    "    y_test = le_type.inverse_transform(y_test)\n",
    "    y_pred = le_type.inverse_transform(y_pred)\n",
    "    \n",
    "    labels = language_group\n",
    "    # print(y_test)\n",
    "    # print(y_pred)\n",
    "    print(language_group)\n",
    "    cf = confusion_matrix(y_test, y_pred, labels = labels)\n",
    "    # print(y_test)\n",
    "    cf_df = pd.DataFrame(cf ,index = labels, columns = labels)\n",
    "    # print(y_test[:10])\n",
    "    # print(y_pred[:10])\n",
    "    # print(y_pred_proba[:10])\n",
    "    # print(clf.classes_)\n",
    "    # return cf_df\n",
    "    return cf_df, y_pred_proba, clf"
   ]
  },
  {
   "cell_type": "markdown",
   "metadata": {},
   "source": [
    "Separate into group of languages"
   ]
  },
  {
   "cell_type": "code",
   "execution_count": 245,
   "metadata": {},
   "outputs": [],
   "source": [
    "df['language_group'] = df['country'].replace(asian, 'ASA').replace(indian, 'IND').replace(roman, 'ROM').replace(other, 'OTH')\n",
    "# df['language_group'] = df['country'].replace(indian, 'IND')\n",
    "# df['language_group'] = df['country'].replace(other, 'OTH')"
   ]
  },
  {
   "cell_type": "code",
   "execution_count": 246,
   "metadata": {},
   "outputs": [
    {
     "name": "stderr",
     "output_type": "stream",
     "text": [
      "/var/folders/yf/jsht06l94t5_wb6s1c65k6v40000gn/T/ipykernel_84610/348915726.py:3: SettingWithCopyWarning: \n",
      "A value is trying to be set on a copy of a slice from a DataFrame.\n",
      "Try using .loc[row_indexer,col_indexer] = value instead\n",
      "\n",
      "See the caveats in the documentation: https://pandas.pydata.org/pandas-docs/stable/user_guide/indexing.html#returning-a-view-versus-a-copy\n",
      "  df_group['y_group'] = le_group.fit_transform(df_group.language_group)\n"
     ]
    }
   ],
   "source": [
    "le_group = preprocessing.LabelEncoder()\n",
    "df_group = df[~df['language_group'].isin(['OTH'])]\n",
    "df_group['y_group'] = le_group.fit_transform(df_group.language_group)\n",
    "# df = df[~df['language'].isin(['OTH'])]"
   ]
  },
  {
   "cell_type": "code",
   "execution_count": 247,
   "metadata": {},
   "outputs": [
    {
     "data": {
      "text/html": [
       "<div>\n",
       "<style scoped>\n",
       "    .dataframe tbody tr th:only-of-type {\n",
       "        vertical-align: middle;\n",
       "    }\n",
       "\n",
       "    .dataframe tbody tr th {\n",
       "        vertical-align: top;\n",
       "    }\n",
       "\n",
       "    .dataframe thead th {\n",
       "        text-align: right;\n",
       "    }\n",
       "</style>\n",
       "<table border=\"1\" class=\"dataframe\">\n",
       "  <thead>\n",
       "    <tr style=\"text-align: right;\">\n",
       "      <th></th>\n",
       "      <th>country</th>\n",
       "      <th>description</th>\n",
       "      <th>y_country</th>\n",
       "      <th>nb_seq</th>\n",
       "      <th>nb_words</th>\n",
       "      <th>len_text</th>\n",
       "      <th>nb_alpha</th>\n",
       "      <th>nb_uppercase</th>\n",
       "      <th>nb_syllable</th>\n",
       "      <th>mean_word_length</th>\n",
       "      <th>mean_sentence_length</th>\n",
       "      <th>mean_sentence_length_byWords</th>\n",
       "      <th>tot_diff_words</th>\n",
       "      <th>cleaned_description</th>\n",
       "      <th>language_group</th>\n",
       "      <th>y_group</th>\n",
       "    </tr>\n",
       "  </thead>\n",
       "  <tbody>\n",
       "    <tr>\n",
       "      <th>2</th>\n",
       "      <td>CHI</td>\n",
       "      <td>Some people believe that young people can enjo...</td>\n",
       "      <td>1</td>\n",
       "      <td>26</td>\n",
       "      <td>362</td>\n",
       "      <td>None</td>\n",
       "      <td>1501</td>\n",
       "      <td>29</td>\n",
       "      <td>532</td>\n",
       "      <td>5.212435</td>\n",
       "      <td>73.730769</td>\n",
       "      <td>15.423077</td>\n",
       "      <td>0.412935</td>\n",
       "      <td>some people believe that young people can enjo...</td>\n",
       "      <td>ASA</td>\n",
       "      <td>0</td>\n",
       "    </tr>\n",
       "    <tr>\n",
       "      <th>3</th>\n",
       "      <td>TEL</td>\n",
       "      <td>Travelling is usually considered as good recre...</td>\n",
       "      <td>9</td>\n",
       "      <td>14</td>\n",
       "      <td>344</td>\n",
       "      <td>None</td>\n",
       "      <td>1448</td>\n",
       "      <td>17</td>\n",
       "      <td>1</td>\n",
       "      <td>5.796296</td>\n",
       "      <td>129.571429</td>\n",
       "      <td>25.857143</td>\n",
       "      <td>0.411602</td>\n",
       "      <td>travelling is usually considered as good recre...</td>\n",
       "      <td>IND</td>\n",
       "      <td>1</td>\n",
       "    </tr>\n",
       "    <tr>\n",
       "      <th>5</th>\n",
       "      <td>SPA</td>\n",
       "      <td>In my opinion , travel in group with a tour gu...</td>\n",
       "      <td>8</td>\n",
       "      <td>9</td>\n",
       "      <td>350</td>\n",
       "      <td>None</td>\n",
       "      <td>1336</td>\n",
       "      <td>8</td>\n",
       "      <td>491</td>\n",
       "      <td>5.076923</td>\n",
       "      <td>192.777778</td>\n",
       "      <td>42.000000</td>\n",
       "      <td>0.360526</td>\n",
       "      <td>in my opinion travel in group with a tour guid...</td>\n",
       "      <td>ROM</td>\n",
       "      <td>2</td>\n",
       "    </tr>\n",
       "    <tr>\n",
       "      <th>8</th>\n",
       "      <td>HIN</td>\n",
       "      <td>In the era of science and technology , the peo...</td>\n",
       "      <td>4</td>\n",
       "      <td>18</td>\n",
       "      <td>331</td>\n",
       "      <td>None</td>\n",
       "      <td>1651</td>\n",
       "      <td>27</td>\n",
       "      <td>589</td>\n",
       "      <td>6.552083</td>\n",
       "      <td>113.611111</td>\n",
       "      <td>20.611111</td>\n",
       "      <td>0.490566</td>\n",
       "      <td>in the era of science and technology the peopl...</td>\n",
       "      <td>IND</td>\n",
       "      <td>1</td>\n",
       "    </tr>\n",
       "    <tr>\n",
       "      <th>9</th>\n",
       "      <td>JPN</td>\n",
       "      <td>I agree with this statement . I think that in ...</td>\n",
       "      <td>6</td>\n",
       "      <td>19</td>\n",
       "      <td>221</td>\n",
       "      <td>None</td>\n",
       "      <td>905</td>\n",
       "      <td>28</td>\n",
       "      <td>345</td>\n",
       "      <td>4.875969</td>\n",
       "      <td>61.947368</td>\n",
       "      <td>13.421053</td>\n",
       "      <td>0.400000</td>\n",
       "      <td>i agree with this statement i think that in tw...</td>\n",
       "      <td>ASA</td>\n",
       "      <td>0</td>\n",
       "    </tr>\n",
       "    <tr>\n",
       "      <th>...</th>\n",
       "      <td>...</td>\n",
       "      <td>...</td>\n",
       "      <td>...</td>\n",
       "      <td>...</td>\n",
       "      <td>...</td>\n",
       "      <td>...</td>\n",
       "      <td>...</td>\n",
       "      <td>...</td>\n",
       "      <td>...</td>\n",
       "      <td>...</td>\n",
       "      <td>...</td>\n",
       "      <td>...</td>\n",
       "      <td>...</td>\n",
       "      <td>...</td>\n",
       "      <td>...</td>\n",
       "      <td>...</td>\n",
       "    </tr>\n",
       "    <tr>\n",
       "      <th>9895</th>\n",
       "      <td>CHI</td>\n",
       "      <td>Nowadays , more and more people go abroad , no...</td>\n",
       "      <td>1</td>\n",
       "      <td>17</td>\n",
       "      <td>325</td>\n",
       "      <td>None</td>\n",
       "      <td>1339</td>\n",
       "      <td>14</td>\n",
       "      <td>471</td>\n",
       "      <td>5.032432</td>\n",
       "      <td>102.764706</td>\n",
       "      <td>21.882353</td>\n",
       "      <td>0.454301</td>\n",
       "      <td>nowadays more and more people go abroad no mat...</td>\n",
       "      <td>ASA</td>\n",
       "      <td>0</td>\n",
       "    </tr>\n",
       "    <tr>\n",
       "      <th>9896</th>\n",
       "      <td>KOR</td>\n",
       "      <td>In accomplishing something that is risky comes...</td>\n",
       "      <td>7</td>\n",
       "      <td>19</td>\n",
       "      <td>339</td>\n",
       "      <td>None</td>\n",
       "      <td>1529</td>\n",
       "      <td>35</td>\n",
       "      <td>545</td>\n",
       "      <td>5.884211</td>\n",
       "      <td>101.263158</td>\n",
       "      <td>19.684211</td>\n",
       "      <td>0.537433</td>\n",
       "      <td>in accomplishing something that is risky comes...</td>\n",
       "      <td>ASA</td>\n",
       "      <td>0</td>\n",
       "    </tr>\n",
       "    <tr>\n",
       "      <th>9897</th>\n",
       "      <td>SPA</td>\n",
       "      <td>At the beginning of the 21st century , the inc...</td>\n",
       "      <td>8</td>\n",
       "      <td>12</td>\n",
       "      <td>327</td>\n",
       "      <td>None</td>\n",
       "      <td>1531</td>\n",
       "      <td>17</td>\n",
       "      <td>558</td>\n",
       "      <td>6.325843</td>\n",
       "      <td>158.333333</td>\n",
       "      <td>29.333333</td>\n",
       "      <td>0.491477</td>\n",
       "      <td>at the beginning of the 21st century the incre...</td>\n",
       "      <td>ROM</td>\n",
       "      <td>2</td>\n",
       "    </tr>\n",
       "    <tr>\n",
       "      <th>9898</th>\n",
       "      <td>HIN</td>\n",
       "      <td>The number of cars in use across the world has...</td>\n",
       "      <td>4</td>\n",
       "      <td>20</td>\n",
       "      <td>497</td>\n",
       "      <td>None</td>\n",
       "      <td>2478</td>\n",
       "      <td>22</td>\n",
       "      <td>891</td>\n",
       "      <td>6.364865</td>\n",
       "      <td>152.750000</td>\n",
       "      <td>27.350000</td>\n",
       "      <td>0.453382</td>\n",
       "      <td>the number of cars in use across the world has...</td>\n",
       "      <td>IND</td>\n",
       "      <td>1</td>\n",
       "    </tr>\n",
       "    <tr>\n",
       "      <th>9899</th>\n",
       "      <td>CHI</td>\n",
       "      <td>Many people think it is betters to have borad ...</td>\n",
       "      <td>1</td>\n",
       "      <td>15</td>\n",
       "      <td>288</td>\n",
       "      <td>None</td>\n",
       "      <td>1275</td>\n",
       "      <td>21</td>\n",
       "      <td>480</td>\n",
       "      <td>5.756098</td>\n",
       "      <td>107.133333</td>\n",
       "      <td>21.066667</td>\n",
       "      <td>0.420886</td>\n",
       "      <td>many people think it is betters to have borad ...</td>\n",
       "      <td>ASA</td>\n",
       "      <td>0</td>\n",
       "    </tr>\n",
       "  </tbody>\n",
       "</table>\n",
       "<p>7200 rows × 16 columns</p>\n",
       "</div>"
      ],
      "text/plain": [
       "     country                                        description  y_country  \\\n",
       "2        CHI  Some people believe that young people can enjo...          1   \n",
       "3        TEL  Travelling is usually considered as good recre...          9   \n",
       "5        SPA  In my opinion , travel in group with a tour gu...          8   \n",
       "8        HIN  In the era of science and technology , the peo...          4   \n",
       "9        JPN  I agree with this statement . I think that in ...          6   \n",
       "...      ...                                                ...        ...   \n",
       "9895     CHI  Nowadays , more and more people go abroad , no...          1   \n",
       "9896     KOR  In accomplishing something that is risky comes...          7   \n",
       "9897     SPA  At the beginning of the 21st century , the inc...          8   \n",
       "9898     HIN  The number of cars in use across the world has...          4   \n",
       "9899     CHI  Many people think it is betters to have borad ...          1   \n",
       "\n",
       "      nb_seq  nb_words len_text  nb_alpha  nb_uppercase  nb_syllable  \\\n",
       "2         26       362     None      1501            29          532   \n",
       "3         14       344     None      1448            17            1   \n",
       "5          9       350     None      1336             8          491   \n",
       "8         18       331     None      1651            27          589   \n",
       "9         19       221     None       905            28          345   \n",
       "...      ...       ...      ...       ...           ...          ...   \n",
       "9895      17       325     None      1339            14          471   \n",
       "9896      19       339     None      1529            35          545   \n",
       "9897      12       327     None      1531            17          558   \n",
       "9898      20       497     None      2478            22          891   \n",
       "9899      15       288     None      1275            21          480   \n",
       "\n",
       "      mean_word_length  mean_sentence_length  mean_sentence_length_byWords  \\\n",
       "2             5.212435             73.730769                     15.423077   \n",
       "3             5.796296            129.571429                     25.857143   \n",
       "5             5.076923            192.777778                     42.000000   \n",
       "8             6.552083            113.611111                     20.611111   \n",
       "9             4.875969             61.947368                     13.421053   \n",
       "...                ...                   ...                           ...   \n",
       "9895          5.032432            102.764706                     21.882353   \n",
       "9896          5.884211            101.263158                     19.684211   \n",
       "9897          6.325843            158.333333                     29.333333   \n",
       "9898          6.364865            152.750000                     27.350000   \n",
       "9899          5.756098            107.133333                     21.066667   \n",
       "\n",
       "      tot_diff_words                                cleaned_description  \\\n",
       "2           0.412935  some people believe that young people can enjo...   \n",
       "3           0.411602  travelling is usually considered as good recre...   \n",
       "5           0.360526  in my opinion travel in group with a tour guid...   \n",
       "8           0.490566  in the era of science and technology the peopl...   \n",
       "9           0.400000  i agree with this statement i think that in tw...   \n",
       "...              ...                                                ...   \n",
       "9895        0.454301  nowadays more and more people go abroad no mat...   \n",
       "9896        0.537433  in accomplishing something that is risky comes...   \n",
       "9897        0.491477  at the beginning of the 21st century the incre...   \n",
       "9898        0.453382  the number of cars in use across the world has...   \n",
       "9899        0.420886  many people think it is betters to have borad ...   \n",
       "\n",
       "     language_group  y_group  \n",
       "2               ASA        0  \n",
       "3               IND        1  \n",
       "5               ROM        2  \n",
       "8               IND        1  \n",
       "9               ASA        0  \n",
       "...             ...      ...  \n",
       "9895            ASA        0  \n",
       "9896            ASA        0  \n",
       "9897            ROM        2  \n",
       "9898            IND        1  \n",
       "9899            ASA        0  \n",
       "\n",
       "[7200 rows x 16 columns]"
      ]
     },
     "execution_count": 247,
     "metadata": {},
     "output_type": "execute_result"
    }
   ],
   "source": [
    "df_group"
   ]
  },
  {
   "cell_type": "code",
   "execution_count": 248,
   "metadata": {},
   "outputs": [],
   "source": [
    "X_group = df_group['cleaned_description'].values.tolist() \n",
    "Y_group = df_group['y_group'].values.tolist()"
   ]
  },
  {
   "cell_type": "code",
   "execution_count": 17,
   "metadata": {},
   "outputs": [],
   "source": [
    "from sklearn.calibration import CalibratedClassifierCV\n",
    "\n",
    "linear_svc = LinearSVC(max_iter=1000)"
   ]
  },
  {
   "cell_type": "code",
   "execution_count": 250,
   "metadata": {},
   "outputs": [
    {
     "name": "stdout",
     "output_type": "stream",
     "text": [
      "accuracy 0.91625\n",
      "['ASA', 'IND', 'ROM']\n",
      "['IND' 'ASA' 'IND' 'ROM' 'IND' 'ASA' 'ROM' 'ROM' 'ROM' 'IND']\n",
      "['IND' 'ASA' 'IND' 'ROM' 'IND' 'ASA' 'ROM' 'ROM' 'ROM' 'IND']\n",
      "[[7.10157246e-03 9.69629257e-01 2.32691703e-02]\n",
      " [6.78265759e-01 2.27784878e-01 9.39493631e-02]\n",
      " [2.01940770e-03 9.81687619e-01 1.62929732e-02]\n",
      " [1.75301413e-02 3.30849341e-02 9.49384925e-01]\n",
      " [1.49213158e-02 9.62425550e-01 2.26531343e-02]\n",
      " [9.99150176e-01 4.58140475e-04 3.91683606e-04]\n",
      " [1.19163460e-03 3.19126206e-01 6.79682160e-01]\n",
      " [7.14179242e-02 2.69002132e-01 6.59579944e-01]\n",
      " [3.43955298e-03 2.80385522e-01 7.16174925e-01]\n",
      " [2.52482049e-03 9.96609646e-01 8.65533063e-04]]\n",
      "[0 1 2]\n"
     ]
    }
   ],
   "source": [
    "# Use calibratedclassifier as a model\n",
    "cf_df_group_2, y_proba_group_2, model_group = model_cascade(X_group,Y_group, CalibratedClassifierCV(linear_svc, cv=5), group_without_oth, le_group)\n"
   ]
  },
  {
   "cell_type": "code",
   "execution_count": 255,
   "metadata": {},
   "outputs": [
    {
     "name": "stdout",
     "output_type": "stream",
     "text": [
      "accuracy 0.92375\n"
     ]
    }
   ],
   "source": [
    "X_train, X_test, y_train, y_test  = train_test_split(X_group, \n",
    "                                                    Y_group,stratify=Y_group,\n",
    "                                                    test_size=0.1111, shuffle=True)\n",
    "\n",
    "#would be better if u split data before then fit then transform  \n",
    "tf = TfidfVectorizer(stop_words='english', ngram_range=(1,2))\n",
    "tf_Xtrain = tf.fit_transform(X_train)\n",
    "tf_Xtest = tf.transform(X_test)\n",
    "\n",
    "clf = CalibratedClassifierCV(linear_svc, cv=5)\n",
    "clf.fit(tf_Xtrain,y_train)\n",
    "y_pred = clf.predict(tf_Xtest)\n",
    "y_pred_proba = clf.predict_proba(tf_Xtest)\n",
    "print(\"accuracy\", accuracy_score(y_test,y_pred))\n",
    "\n",
    "y_test = le_group.inverse_transform(y_test)\n",
    "y_pred = le_group.inverse_transform(y_pred)\n",
    "\n",
    "labels = group_without_oth\n",
    "# print(y_test)\n",
    "# print(y_pred)\n",
    "# print(language_group)\n",
    "cf = confusion_matrix(y_test, y_pred, labels = labels)\n",
    "# print(y_test)\n",
    "cf_df_group_2 = pd.DataFrame(cf ,index = labels, columns = labels)"
   ]
  },
  {
   "attachments": {},
   "cell_type": "markdown",
   "metadata": {},
   "source": [
    "Accuracy of language groups separation is 0.92"
   ]
  },
  {
   "cell_type": "code",
   "execution_count": 256,
   "metadata": {},
   "outputs": [
    {
     "data": {
      "text/plain": [
       "<AxesSubplot:>"
      ]
     },
     "execution_count": 256,
     "metadata": {},
     "output_type": "execute_result"
    },
    {
     "data": {
      "image/png": "[encoded data removed]",
      "text/plain": [
       "<Figure size 1170x827 with 2 Axes>"
      ]
     },
     "metadata": {},
     "output_type": "display_data"
    }
   ],
   "source": [
    "sns.heatmap(cf_df_group_2, annot=True, fmt='g')"
   ]
  },
  {
   "cell_type": "code",
   "execution_count": 257,
   "metadata": {},
   "outputs": [],
   "source": [
    "# tf = TfidfVectorizer(stop_words='english', ngram_range=(1,2))\n",
    "tf_Xtest_all = tf.transform(X_test)"
   ]
  },
  {
   "cell_type": "code",
   "execution_count": 263,
   "metadata": {},
   "outputs": [],
   "source": [
    "full_y_pred_proba = clf.predict_proba(tf_Xtest)"
   ]
  },
  {
   "cell_type": "code",
   "execution_count": 189,
   "metadata": {},
   "outputs": [],
   "source": [
    "df_asian = df[df['country'].isin(asian)]\n",
    "df_indian = df[df['country'].isin(indian)]\n",
    "df_roman = df[df['country'].isin(roman)]\n",
    "df_other = df[df['country'].isin(other)]\n"
   ]
  },
  {
   "cell_type": "code",
   "execution_count": 269,
   "metadata": {},
   "outputs": [],
   "source": [
    "language_group_distint = []\n",
    "for language_group_proba in full_y_pred_proba:\n",
    "    highest_index = [i for i, x in enumerate(language_group_proba) if x > 0.5]\n",
    "    if highest_index:\n",
    "        language_group_distint.append(highest_index[0])# Output: 2\n",
    "    else:\n",
    "        language_group_distint.append(\"NaN\")"
   ]
  },
  {
   "attachments": {},
   "cell_type": "markdown",
   "metadata": {},
   "source": [
    "Main function to do the cascade, further information is in the report."
   ]
  },
  {
   "cell_type": "code",
   "execution_count": 99,
   "metadata": {},
   "outputs": [],
   "source": [
    "def hierarchical_predict(X, group_clf, classifiers, threshold_group=0.8, threshold_specific=0.5):\n",
    "    # Predict group probabilities for each instance in X\n",
    "    group_probabilities = group_clf.predict_proba(X)\n",
    "    final_predictions = []\n",
    "    \n",
    "    # Iterate through each instance's group probabilities\n",
    "    for i, group_probs in enumerate(group_probabilities):\n",
    "        # Sort group probabilities in descending order and get the corresponding group indices\n",
    "        sorted_group_probs = sorted(enumerate(group_probs), key=lambda x: x[1], reverse=True)\n",
    "\n",
    "        specific_prediction = None\n",
    "        specific_prob = 0\n",
    "\n",
    "        # Iterate through sorted group probabilities until a specific label is found or all groups are checked\n",
    "        for group_idx, group_prob in sorted_group_probs:\n",
    "            # Check if the group probability is above the threshold_group\n",
    "            if group_prob >= threshold_group:\n",
    "                # Get the predicted group label\n",
    "                group_pred = group_clf.classes_[group_idx]\n",
    "                # Get the specific classifier for the predicted group\n",
    "                specific_clf = classifiers[group_pred]\n",
    "\n",
    "                # Check if the specific classifier supports predict_proba method\n",
    "                if hasattr(specific_clf, \"predict_proba\"):\n",
    "                    # Get specific label probabilities for the current instance\n",
    "                    specific_probs = specific_clf.predict_proba(X[i])[0]\n",
    "                    if group_pred == 'other':\n",
    "                        print(f'specific_probs {specific_probs}')\n",
    "                    # Find the specific label with the highest probability and its value\n",
    "                    specific_idx, specific_prob = max(enumerate(specific_probs), key=lambda x: x[1])\n",
    "\n",
    "                    # Check if the specific probability is above the threshold_specific\n",
    "                    if specific_prob >= threshold_specific:\n",
    "                        # Get the specific label and break the loop\n",
    "                        specific_prediction = specific_clf.classes_[specific_idx]\n",
    "                        break\n",
    "                else:\n",
    "                    # If the specific classifier doesn't support predict_proba, get the prediction directly\n",
    "                    specific_prediction = specific_clf.predict(X[i])[0]\n",
    "                    break\n",
    "\n",
    "        # If no specific prediction was found that meets the thresholds, fall back to the highest probability label\n",
    "        if specific_prediction is None:\n",
    "            # Get the group with the highest probability\n",
    "            group_idx, _ = sorted_group_probs[0]\n",
    "            group_pred = group_clf.classes_[group_idx]\n",
    "            # Get the specific classifier for the highest probability group\n",
    "            specific_clf = classifiers[group_pred]\n",
    "            # Predict the specific label for the current instance\n",
    "            specific_prediction = specific_clf.predict(X[i])[0]\n",
    "\n",
    "        # Append the specific prediction to the final_predictions list\n",
    "        final_predictions.append(specific_prediction)\n",
    "        \n",
    "    return final_predictions"
   ]
  },
  {
   "attachments": {},
   "cell_type": "markdown",
   "metadata": {},
   "source": [
    "Split train test before feed the cascade"
   ]
  },
  {
   "cell_type": "code",
   "execution_count": 105,
   "metadata": {},
   "outputs": [],
   "source": [
    "X = df['cleaned_description'].values.tolist() \n",
    "Y = df[['country', 'group']]\n",
    "# Y = zip(df['y_country'].values.tolist(), df['group'].values.)"
   ]
  },
  {
   "cell_type": "code",
   "execution_count": 106,
   "metadata": {},
   "outputs": [],
   "source": [
    "X_train, X_test, y_train, y_test  = train_test_split(X, \n",
    "                                                    Y,stratify=Y,\n",
    "                                                    test_size=0.1111, shuffle=True)\n",
    "\n",
    "#would be better if u split data before then fit then transform  \n",
    "tf = TfidfVectorizer(stop_words='english', ngram_range=(1,2))\n",
    "tf_Xtrain = tf.fit_transform(X_train)\n",
    "tf_Xtest = tf.transform(X_test)"
   ]
  },
  {
   "cell_type": "code",
   "execution_count": 111,
   "metadata": {},
   "outputs": [
    {
     "name": "stdout",
     "output_type": "stream",
     "text": [
      "specific_probs [0.37628986 0.31614883 0.30756131]\n",
      "specific_probs [0.04717505 0.74921283 0.20361212]\n",
      "specific_probs [0.03357858 0.08879964 0.87762178]\n",
      "specific_probs [0.07396583 0.77904059 0.14699358]\n",
      "specific_probs [0.18842777 0.00841373 0.80315851]\n",
      "specific_probs [0.57381476 0.35433349 0.07185175]\n",
      "specific_probs [9.17305590e-01 9.38111140e-05 8.26005991e-02]\n",
      "specific_probs [0.00705078 0.89358371 0.09936551]\n",
      "specific_probs [6.71663639e-01 1.02232368e-04 3.28234128e-01]\n",
      "specific_probs [0.16993277 0.01036288 0.81970434]\n",
      "specific_probs [0.13086772 0.00789196 0.86124032]\n",
      "specific_probs [0.0446564  0.44112673 0.51421687]\n",
      "specific_probs [0.04024859 0.35597126 0.60378014]\n",
      "specific_probs [0.72749041 0.00072778 0.27178181]\n",
      "specific_probs [0.0189476  0.00427492 0.97677748]\n",
      "specific_probs [0.0332512  0.34268237 0.62406643]\n",
      "specific_probs [0.20769148 0.04690291 0.74540561]\n",
      "specific_probs [0.05171822 0.02411445 0.92416733]\n",
      "specific_probs [0.01429397 0.02304757 0.96265846]\n",
      "specific_probs [0.34303141 0.14162964 0.51533895]\n",
      "specific_probs [0.62078681 0.01336606 0.36584713]\n",
      "specific_probs [0.10081763 0.28345232 0.61573004]\n",
      "specific_probs [0.68643816 0.30703063 0.00653121]\n",
      "specific_probs [5.64276279e-02 2.62462822e-04 9.43309909e-01]\n",
      "specific_probs [0.03897044 0.61075217 0.35027738]\n",
      "specific_probs [0.05861439 0.01284456 0.92854105]\n",
      "specific_probs [0.05411826 0.19357487 0.75230687]\n",
      "specific_probs [0.01405663 0.66591851 0.32002485]\n",
      "specific_probs [0.70025558 0.27006755 0.02967686]\n",
      "specific_probs [0.19112435 0.70547824 0.10339741]\n",
      "specific_probs [0.17509974 0.0975283  0.72737196]\n",
      "specific_probs [0.10896307 0.00175027 0.88928665]\n",
      "specific_probs [9.96802359e-01 4.86642524e-04 2.71099881e-03]\n",
      "specific_probs [0.03807693 0.95227775 0.00964532]\n",
      "specific_probs [0.59472722 0.00127272 0.40400005]\n",
      "specific_probs [9.86026021e-01 1.41252751e-04 1.38327266e-02]\n",
      "specific_probs [0.00687418 0.98878736 0.00433846]\n",
      "specific_probs [0.95809772 0.01616021 0.02574207]\n",
      "specific_probs [0.04104696 0.00451954 0.9544335 ]\n",
      "specific_probs [0.26518317 0.02830137 0.70651546]\n",
      "specific_probs [0.06646131 0.80901547 0.12452321]\n",
      "specific_probs [0.01333292 0.04227505 0.94439202]\n",
      "specific_probs [0.98574142 0.00264784 0.01161074]\n",
      "specific_probs [0.01509604 0.02598505 0.95891891]\n",
      "specific_probs [0.06362806 0.00102506 0.93534688]\n",
      "specific_probs [9.76781899e-01 4.80346372e-04 2.27377550e-02]\n",
      "specific_probs [0.00846151 0.25844649 0.733092  ]\n",
      "specific_probs [0.93819346 0.05718717 0.00461937]\n",
      "specific_probs [0.1229455 0.8676797 0.0093748]\n",
      "specific_probs [0.00347892 0.99029946 0.00622163]\n",
      "specific_probs [0.31677212 0.55189405 0.13133383]\n",
      "specific_probs [0.01711767 0.79553936 0.18734297]\n",
      "specific_probs [0.25225712 0.11320791 0.63453496]\n",
      "specific_probs [0.06647118 0.84061292 0.0929159 ]\n",
      "specific_probs [0.12254656 0.03647824 0.8409752 ]\n",
      "specific_probs [0.00816955 0.98640597 0.00542448]\n",
      "specific_probs [0.93964022 0.05920826 0.00115152]\n",
      "specific_probs [0.06813805 0.89319586 0.03866609]\n",
      "specific_probs [0.11008187 0.04114307 0.84877506]\n",
      "specific_probs [0.01307516 0.11361148 0.87331336]\n",
      "specific_probs [0.28392533 0.66972386 0.04635081]\n",
      "specific_probs [0.22849904 0.08465027 0.68685069]\n",
      "specific_probs [0.03378436 0.62731898 0.33889666]\n",
      "specific_probs [0.37013559 0.00072804 0.62913636]\n",
      "specific_probs [3.67114090e-01 3.64498320e-04 6.32521412e-01]\n",
      "specific_probs [0.0268184  0.82385692 0.14932469]\n",
      "specific_probs [9.95372304e-01 5.74783653e-04 4.05291272e-03]\n",
      "specific_probs [0.9239487  0.04901428 0.02703702]\n",
      "specific_probs [0.04310692 0.9150869  0.04180618]\n",
      "specific_probs [0.18487183 0.00289561 0.81223256]\n",
      "specific_probs [0.76258723 0.18709541 0.05031736]\n",
      "specific_probs [0.06020592 0.1296187  0.81017539]\n",
      "specific_probs [0.59633234 0.00079493 0.40287273]\n",
      "specific_probs [0.02118621 0.31567308 0.66314071]\n",
      "specific_probs [0.5130444  0.22881794 0.25813766]\n",
      "specific_probs [0.83076732 0.00414737 0.16508531]\n",
      "specific_probs [0.1032865  0.00206616 0.89464734]\n",
      "specific_probs [0.00376179 0.99279215 0.00344606]\n",
      "specific_probs [9.42206598e-01 2.86358933e-04 5.75070431e-02]\n",
      "specific_probs [9.62746830e-01 1.36621649e-04 3.71165483e-02]\n",
      "specific_probs [0.87794115 0.07929755 0.04276129]\n",
      "specific_probs [0.01734596 0.95454143 0.02811261]\n",
      "specific_probs [0.04669093 0.87882947 0.0744796 ]\n",
      "specific_probs [0.14282791 0.00779207 0.84938002]\n",
      "specific_probs [0.97449967 0.00160455 0.02389578]\n",
      "specific_probs [0.12107546 0.00665174 0.8722728 ]\n",
      "specific_probs [0.11607214 0.33500222 0.54892565]\n",
      "specific_probs [0.09836215 0.01133814 0.89029971]\n",
      "specific_probs [0.97277143 0.00309504 0.02413352]\n",
      "specific_probs [0.01267171 0.97928932 0.00803897]\n",
      "specific_probs [0.08360639 0.05181375 0.86457986]\n",
      "specific_probs [0.34288624 0.13989014 0.51722362]\n",
      "specific_probs [0.00157709 0.99285724 0.00556567]\n",
      "specific_probs [0.04317649 0.92296224 0.03386127]\n",
      "specific_probs [0.0116198  0.01135247 0.97702773]\n",
      "specific_probs [0.9499572 0.0032965 0.0467463]\n",
      "specific_probs [0.58166412 0.00259492 0.41574096]\n",
      "specific_probs [0.88879501 0.06067411 0.05053087]\n",
      "specific_probs [0.90930722 0.00872879 0.081964  ]\n",
      "specific_probs [0.02478876 0.95390943 0.02130181]\n",
      "specific_probs [9.39449430e-01 8.49801662e-04 5.97007683e-02]\n",
      "specific_probs [0.05811225 0.00353926 0.93834849]\n",
      "specific_probs [0.36355841 0.49316492 0.14327667]\n",
      "specific_probs [0.0042487  0.22749789 0.76825341]\n",
      "specific_probs [0.41385534 0.42072427 0.16542039]\n",
      "specific_probs [0.37030446 0.60660847 0.02308707]\n",
      "specific_probs [0.01496362 0.98322685 0.00180953]\n",
      "specific_probs [0.04510079 0.41589532 0.53900389]\n",
      "specific_probs [9.76350229e-01 1.14375407e-04 2.35353959e-02]\n",
      "specific_probs [0.31826733 0.04409198 0.63764068]\n",
      "specific_probs [0.01252876 0.84456706 0.14290419]\n",
      "specific_probs [0.07014    0.15123038 0.77862962]\n",
      "specific_probs [0.02273238 0.01301266 0.96425496]\n",
      "specific_probs [0.01434744 0.9596267  0.02602586]\n",
      "specific_probs [0.09500739 0.89779071 0.00720191]\n",
      "specific_probs [0.25084022 0.70306073 0.04609905]\n",
      "specific_probs [0.60835572 0.03856083 0.35308345]\n",
      "specific_probs [0.7447717  0.08982165 0.16540664]\n",
      "specific_probs [2.71067699e-02 2.50860997e-04 9.72642369e-01]\n",
      "specific_probs [0.02142627 0.95666178 0.02191195]\n",
      "specific_probs [0.95151503 0.03435905 0.01412592]\n",
      "specific_probs [0.93949172 0.0079444  0.05256388]\n",
      "specific_probs [0.01534291 0.00541477 0.97924232]\n",
      "specific_probs [0.63979236 0.35409284 0.0061148 ]\n",
      "specific_probs [0.03479095 0.9304221  0.03478696]\n",
      "specific_probs [0.03018071 0.90303651 0.06678278]\n",
      "specific_probs [0.71607301 0.26460645 0.01932054]\n",
      "specific_probs [0.06722875 0.18370719 0.74906406]\n",
      "specific_probs [0.93851255 0.0018696  0.05961785]\n",
      "specific_probs [0.13396463 0.01735974 0.84867563]\n",
      "specific_probs [0.18401985 0.55478268 0.26119747]\n",
      "specific_probs [0.09181574 0.0022087  0.90597556]\n",
      "specific_probs [0.02102691 0.90517332 0.07379977]\n",
      "specific_probs [8.21456776e-01 7.76954253e-04 1.77766270e-01]\n",
      "specific_probs [0.43840777 0.44477786 0.11681437]\n",
      "specific_probs [0.03890177 0.90063096 0.06046727]\n",
      "specific_probs [0.28910931 0.01067068 0.70022   ]\n",
      "specific_probs [9.97922582e-01 4.29582310e-04 1.64783532e-03]\n",
      "specific_probs [0.93566929 0.03410198 0.03022873]\n",
      "specific_probs [0.88403688 0.00780893 0.10815419]\n",
      "specific_probs [0.90641696 0.00225768 0.09132536]\n",
      "specific_probs [0.04279758 0.20528346 0.75191896]\n",
      "specific_probs [0.94153968 0.00899378 0.04946654]\n",
      "specific_probs [0.97150448 0.00611612 0.02237941]\n",
      "specific_probs [0.2246081  0.00640849 0.76898341]\n",
      "specific_probs [0.42348284 0.06801932 0.50849784]\n",
      "specific_probs [0.30515239 0.01173152 0.68311609]\n",
      "specific_probs [0.18629239 0.63586068 0.17784693]\n",
      "specific_probs [0.13844162 0.85968734 0.00187104]\n",
      "specific_probs [0.02233027 0.94610424 0.03156549]\n",
      "specific_probs [0.06999079 0.92679993 0.00320928]\n",
      "specific_probs [0.02347317 0.01542883 0.961098  ]\n",
      "specific_probs [0.01280052 0.0134193  0.97378018]\n",
      "['KOR', 'CHI', 'FRE', 'TEL', 'FRE', 'SPA', 'TUR', 'FRE', 'SPA', 'KOR', 'HIN', 'SPA', 'JPN', 'ARA', 'GER', 'GER', 'KOR', 'KOR', 'TUR', 'GER', 'SPA', 'TUR', 'CHI', 'FRE', 'KOR', 'SPA', 'TEL', 'HIN', 'CHI', 'ARA', 'CHI', 'SPA', 'KOR', 'JPN', 'ARA', 'KOR', 'FRE', 'ARA', 'KOR', 'GER', 'ARA', 'FRE', 'FRE', 'HIN', 'GER', 'ITA', 'JPN', 'FRE', 'TUR', 'JPN', 'GER', 'ARA', 'SPA', 'HIN', 'KOR', 'JPN', 'TUR', 'GER', 'HIN', 'CHI', 'CHI', 'ITA', 'FRE', 'KOR', 'CHI', 'FRE', 'ARA', 'TEL', 'TEL', 'CHI', 'FRE', 'ITA', 'KOR', 'TUR', 'TUR', 'ITA', 'HIN', 'SPA', 'TUR', 'TEL', 'KOR', 'ITA', 'KOR', 'JPN', 'KOR', 'ITA', 'GER', 'ARA', 'HIN', 'SPA', 'JPN', 'ARA', 'JPN', 'ITA', 'CHI', 'JPN', 'JPN', 'GER', 'FRE', 'FRE', 'JPN', 'JPN', 'KOR', 'JPN', 'JPN', 'CHI', 'CHI', 'ARA', 'ITA', 'HIN', 'ARA', 'CHI', 'TEL', 'TUR', 'CHI', 'TEL', 'HIN', 'SPA', 'JPN', 'TUR', 'FRE', 'TEL', 'TEL', 'SPA', 'KOR', 'GER', 'TUR', 'TUR', 'FRE', 'JPN', 'SPA', 'CHI', 'KOR', 'HIN', 'TUR', 'FRE', 'HIN', 'KOR', 'TUR', 'JPN', 'CHI', 'TUR', 'HIN', 'ARA', 'FRE', 'TEL', 'CHI', 'ARA', 'TEL', 'FRE', 'FRE', 'TUR', 'ARA', 'TUR', 'ITA', 'KOR', 'KOR', 'TUR', 'HIN', 'KOR', 'ARA', 'ARA', 'CHI', 'CHI', 'TEL', 'SPA', 'TEL', 'HIN', 'ITA', 'TUR', 'KOR', 'FRE', 'FRE', 'KOR', 'KOR', 'TEL', 'GER', 'TEL', 'ITA', 'TEL', 'TEL', 'KOR', 'TEL', 'ITA', 'HIN', 'SPA', 'HIN', 'KOR', 'HIN', 'HIN', 'SPA', 'JPN', 'TEL', 'ARA', 'GER', 'JPN', 'HIN', 'TEL', 'FRE', 'SPA', 'ARA', 'JPN', 'FRE', 'CHI', 'TEL', 'ITA', 'HIN', 'TUR', 'CHI', 'HIN', 'CHI', 'FRE', 'TEL', 'ARA', 'TEL', 'SPA', 'TEL', 'HIN', 'TUR', 'HIN', 'ARA', 'FRE', 'FRE', 'GER', 'HIN', 'JPN', 'ITA', 'TUR', 'TUR', 'CHI', 'ARA', 'ITA', 'ITA', 'CHI', 'FRE', 'FRE', 'TEL', 'KOR', 'FRE', 'GER', 'ITA', 'CHI', 'JPN', 'FRE', 'TUR', 'TEL', 'ARA', 'TUR', 'CHI', 'TUR', 'TUR', 'FRE', 'ARA', 'CHI', 'ITA', 'FRE', 'KOR', 'HIN', 'CHI', 'GER', 'KOR', 'ITA', 'CHI', 'ITA', 'HIN', 'CHI', 'SPA', 'JPN', 'CHI', 'SPA', 'JPN', 'CHI', 'HIN', 'JPN', 'ITA', 'FRE', 'CHI', 'CHI', 'KOR', 'HIN', 'ARA', 'KOR', 'JPN', 'FRE', 'CHI', 'TUR', 'ITA', 'TEL', 'ITA', 'ARA', 'GER', 'JPN', 'GER', 'FRE', 'ITA', 'TUR', 'KOR', 'TUR', 'GER', 'HIN', 'TEL', 'SPA', 'SPA', 'SPA', 'TUR', 'TUR', 'SPA', 'TUR', 'HIN', 'ITA', 'GER', 'CHI', 'CHI', 'FRE', 'ARA', 'TEL', 'FRE', 'ARA', 'FRE', 'ARA', 'TEL', 'SPA', 'JPN', 'KOR', 'KOR', 'TUR', 'JPN', 'TEL', 'SPA', 'ARA', 'CHI', 'CHI', 'GER', 'ITA', 'HIN', 'TEL', 'ITA', 'ARA', 'TUR', 'TEL', 'GER', 'HIN', 'KOR', 'GER', 'SPA', 'GER', 'GER', 'FRE', 'TEL', 'HIN', 'HIN', 'ARA', 'TUR', 'JPN', 'CHI', 'ITA', 'ITA', 'ITA', 'FRE', 'TUR', 'KOR', 'ITA', 'HIN', 'ITA', 'ARA', 'ITA', 'GER', 'HIN', 'SPA', 'CHI', 'JPN', 'ARA', 'SPA', 'ITA', 'CHI', 'SPA', 'CHI', 'TEL', 'CHI', 'TUR', 'CHI', 'JPN', 'KOR', 'ARA', 'HIN', 'ITA', 'ARA', 'HIN', 'GER', 'HIN', 'ARA', 'SPA', 'CHI', 'CHI', 'KOR', 'FRE', 'CHI', 'ITA', 'JPN', 'CHI', 'TEL', 'FRE', 'GER', 'TEL', 'TUR', 'GER', 'GER', 'FRE', 'TEL', 'FRE', 'SPA', 'JPN', 'HIN', 'ARA', 'GER', 'SPA', 'HIN', 'SPA', 'CHI', 'JPN', 'TUR', 'CHI', 'KOR', 'ITA', 'TUR', 'CHI', 'CHI', 'SPA', 'KOR', 'TEL', 'GER', 'SPA', 'TEL', 'TEL', 'HIN', 'ITA', 'ITA', 'ITA', 'TEL', 'CHI', 'CHI', 'CHI', 'HIN', 'HIN', 'ITA', 'TUR', 'TEL', 'ARA', 'ARA', 'ARA', 'TEL', 'GER', 'JPN', 'FRE', 'FRE', 'TUR', 'FRE', 'GER', 'ARA', 'TEL', 'FRE', 'TUR', 'KOR', 'HIN', 'HIN', 'CHI', 'FRE', 'TEL', 'SPA', 'HIN', 'TEL', 'KOR', 'TEL', 'HIN', 'TUR', 'ITA', 'JPN', 'KOR', 'FRE', 'HIN', 'GER', 'JPN', 'CHI', 'CHI', 'JPN', 'SPA', 'CHI', 'FRE', 'CHI', 'GER', 'CHI', 'TEL', 'CHI', 'SPA', 'CHI', 'KOR', 'JPN', 'ITA', 'TUR', 'TEL', 'JPN', 'ARA', 'TUR', 'CHI', 'CHI', 'TUR', 'JPN', 'CHI', 'SPA', 'KOR', 'JPN', 'ARA', 'HIN', 'FRE', 'ARA', 'TUR', 'ITA', 'HIN', 'CHI', 'JPN', 'ITA', 'CHI', 'TUR', 'HIN', 'KOR', 'CHI', 'TEL', 'FRE', 'FRE', 'SPA', 'GER', 'JPN', 'TUR', 'SPA', 'HIN', 'TEL', 'ARA', 'KOR', 'ARA', 'JPN', 'SPA', 'ITA', 'JPN', 'KOR', 'TEL', 'TUR', 'HIN', 'KOR', 'TUR', 'TEL', 'ITA', 'SPA', 'ARA', 'GER', 'ITA', 'JPN', 'GER', 'GER', 'ITA', 'SPA', 'HIN', 'JPN', 'KOR', 'TEL', 'CHI', 'KOR', 'FRE', 'FRE', 'FRE', 'ITA', 'SPA', 'HIN', 'JPN', 'TUR', 'KOR', 'GER', 'KOR', 'ITA', 'CHI', 'FRE', 'JPN', 'TEL', 'TUR', 'KOR', 'TUR', 'KOR', 'TUR', 'FRE', 'SPA', 'FRE', 'GER', 'CHI', 'GER', 'FRE', 'FRE', 'GER', 'ITA', 'ITA', 'FRE', 'KOR', 'JPN', 'JPN', 'GER', 'CHI', 'SPA', 'ARA', 'TUR', 'ITA', 'ARA', 'HIN', 'JPN', 'JPN', 'ARA', 'FRE', 'ITA', 'ARA', 'GER', 'KOR', 'TUR', 'KOR', 'CHI', 'KOR', 'SPA', 'FRE', 'GER', 'TUR', 'GER', 'GER', 'KOR', 'SPA', 'JPN', 'SPA', 'ARA', 'SPA', 'JPN', 'ITA', 'GER', 'CHI', 'KOR', 'KOR', 'JPN', 'TEL', 'CHI', 'CHI', 'GER', 'CHI', 'ITA', 'HIN', 'KOR', 'CHI', 'ARA', 'ITA', 'FRE', 'KOR', 'TEL', 'KOR', 'TUR', 'KOR', 'HIN', 'ITA', 'GER', 'TUR', 'JPN', 'ARA', 'SPA', 'TEL', 'TEL', 'HIN', 'HIN', 'FRE', 'ITA', 'ARA', 'TEL', 'SPA', 'HIN', 'SPA', 'CHI', 'CHI', 'SPA', 'SPA', 'TUR', 'HIN', 'TUR', 'HIN', 'KOR', 'ARA', 'CHI', 'ITA', 'SPA', 'HIN', 'CHI', 'TEL', 'SPA', 'CHI', 'JPN', 'JPN', 'HIN', 'SPA', 'JPN', 'FRE', 'GER', 'GER', 'GER', 'KOR', 'JPN', 'SPA', 'ITA', 'CHI', 'ARA', 'TUR', 'HIN', 'TUR', 'TEL', 'ITA', 'ARA', 'ITA', 'GER', 'JPN', 'HIN', 'ARA', 'CHI', 'KOR', 'TEL', 'SPA', 'JPN', 'JPN', 'ARA', 'JPN', 'KOR', 'ITA', 'SPA', 'CHI', 'TUR', 'JPN', 'CHI', 'KOR', 'ITA', 'ITA', 'ITA', 'TEL', 'TUR', 'HIN', 'FRE', 'KOR', 'TEL', 'SPA', 'ITA', 'KOR', 'TUR', 'KOR', 'TUR', 'TUR', 'TEL', 'HIN', 'ARA', 'KOR', 'HIN', 'TUR', 'FRE', 'TEL', 'ARA', 'SPA', 'TUR', 'JPN', 'GER', 'FRE', 'KOR', 'HIN', 'ARA', 'TUR', 'HIN', 'KOR', 'JPN', 'TUR', 'CHI', 'KOR', 'JPN', 'HIN', 'CHI', 'ITA', 'CHI', 'GER', 'HIN', 'KOR', 'KOR', 'FRE', 'ARA', 'TEL', 'KOR', 'JPN', 'GER', 'SPA', 'TEL', 'ITA', 'KOR', 'FRE', 'TEL', 'TUR', 'ITA', 'ITA', 'TEL', 'CHI', 'HIN', 'TEL', 'ITA', 'KOR', 'KOR', 'FRE', 'SPA', 'GER', 'JPN', 'TEL', 'HIN', 'FRE', 'GER', 'SPA', 'ARA', 'TEL', 'ITA', 'ITA', 'CHI', 'SPA', 'TUR', 'FRE', 'TUR', 'CHI', 'SPA', 'JPN', 'HIN', 'HIN', 'KOR', 'JPN', 'TEL', 'ITA', 'HIN', 'GER', 'CHI', 'HIN', 'CHI', 'FRE', 'JPN', 'HIN', 'FRE', 'ITA', 'HIN', 'ITA', 'ITA', 'ARA', 'ITA', 'CHI', 'HIN', 'ITA', 'TEL', 'TEL', 'CHI', 'ARA', 'HIN', 'KOR', 'KOR', 'GER', 'CHI', 'TUR', 'GER', 'ARA', 'TEL', 'SPA', 'ARA', 'KOR', 'HIN', 'JPN', 'HIN', 'JPN', 'JPN', 'FRE', 'TUR', 'ITA', 'TUR', 'GER', 'CHI', 'KOR', 'KOR', 'FRE', 'SPA', 'SPA', 'CHI', 'GER', 'ITA', 'TEL', 'TUR', 'KOR', 'TEL', 'HIN', 'CHI', 'FRE', 'TUR', 'TUR', 'SPA', 'HIN', 'TUR', 'CHI', 'SPA', 'JPN', 'TUR', 'TUR', 'FRE', 'CHI', 'FRE', 'TEL', 'KOR', 'KOR', 'KOR', 'JPN', 'FRE', 'TEL', 'SPA', 'CHI', 'ARA', 'TUR', 'ITA', 'HIN', 'CHI', 'SPA', 'FRE', 'JPN', 'HIN', 'ITA', 'SPA', 'HIN', 'KOR', 'SPA', 'SPA', 'ARA', 'CHI', 'JPN', 'ARA', 'KOR', 'TUR', 'TUR', 'FRE', 'SPA', 'KOR', 'KOR', 'KOR', 'GER', 'FRE', 'TEL', 'HIN', 'FRE', 'HIN', 'KOR', 'HIN', 'KOR', 'TEL', 'JPN', 'JPN', 'FRE', 'HIN', 'TUR', 'ARA', 'HIN', 'ITA', 'KOR', 'SPA', 'ARA', 'TEL', 'GER', 'HIN', 'JPN', 'FRE', 'CHI', 'TEL', 'KOR', 'SPA', 'GER', 'FRE', 'FRE', 'JPN', 'TEL', 'KOR', 'FRE', 'ARA', 'CHI', 'HIN', 'TUR', 'HIN', 'ITA', 'ARA', 'JPN', 'ARA', 'TUR', 'TEL', 'FRE', 'FRE', 'TEL', 'ITA', 'JPN', 'KOR', 'ITA', 'GER', 'JPN', 'ITA', 'KOR', 'JPN', 'SPA', 'JPN', 'HIN', 'CHI', 'HIN', 'ARA', 'ARA', 'JPN', 'SPA', 'ARA', 'HIN', 'ITA', 'HIN', 'ITA', 'ITA', 'SPA', 'ITA', 'FRE', 'TEL', 'KOR', 'ITA', 'CHI', 'JPN', 'TUR', 'TEL', 'ARA', 'TUR', 'KOR', 'ITA', 'ARA', 'GER', 'TUR', 'CHI', 'CHI', 'SPA', 'JPN', 'KOR', 'JPN', 'HIN', 'CHI', 'GER', 'TEL', 'CHI', 'ARA', 'SPA', 'TUR', 'CHI', 'KOR', 'GER', 'SPA', 'TUR', 'CHI', 'KOR', 'ARA', 'ARA', 'FRE', 'GER', 'TEL', 'TEL', 'HIN', 'GER', 'TEL', 'JPN', 'CHI', 'CHI', 'KOR', 'KOR', 'TEL', 'KOR', 'TUR', 'GER', 'TUR', 'ARA', 'TUR', 'JPN', 'KOR', 'TEL', 'TUR', 'TEL', 'TEL', 'HIN', 'KOR', 'SPA', 'FRE', 'JPN', 'ITA', 'GER', 'KOR', 'TUR', 'JPN', 'TUR', 'FRE', 'JPN', 'KOR', 'KOR', 'ITA', 'ARA', 'TUR', 'JPN', 'CHI', 'FRE', 'FRE', 'SPA', 'CHI', 'KOR', 'ITA', 'KOR', 'SPA', 'SPA', 'TUR', 'ITA', 'GER', 'TEL', 'TUR', 'TEL', 'ITA', 'ITA', 'KOR', 'TUR', 'HIN', 'TEL', 'SPA', 'CHI', 'HIN', 'GER', 'ITA', 'TEL', 'TUR', 'JPN', 'ITA', 'KOR', 'ARA', 'FRE', 'ARA', 'ARA', 'KOR', 'GER', 'CHI', 'SPA', 'KOR', 'ARA', 'ITA', 'JPN', 'JPN', 'GER', 'SPA', 'CHI', 'ARA', 'ITA', 'TUR', 'KOR', 'KOR', 'HIN', 'CHI', 'KOR', 'CHI', 'SPA', 'JPN', 'FRE', 'TUR', 'KOR', 'HIN', 'KOR', 'GER', 'ITA', 'ARA', 'HIN', 'GER', 'TUR', 'FRE', 'TEL', 'ARA', 'TEL', 'KOR', 'GER', 'TEL', 'HIN', 'GER', 'GER', 'ITA', 'JPN', 'KOR', 'ITA', 'SPA', 'TEL', 'CHI', 'JPN', 'ITA', 'ARA', 'FRE', 'TUR', 'HIN', 'TEL', 'KOR', 'CHI', 'HIN', 'JPN', 'JPN', 'GER', 'ARA', 'FRE', 'ITA', 'ARA', 'CHI', 'ITA', 'ARA', 'FRE', 'ITA', 'JPN', 'TUR', 'SPA', 'ITA', 'HIN', 'GER', 'SPA', 'TUR', 'FRE', 'TEL', 'KOR', 'JPN', 'GER', 'JPN', 'KOR', 'SPA', 'TUR', 'TEL', 'FRE', 'CHI', 'GER', 'CHI', 'SPA', 'JPN', 'KOR', 'ARA', 'HIN', 'TEL', 'KOR', 'GER', 'ITA', 'JPN', 'KOR', 'KOR', 'GER', 'KOR', 'SPA', 'ITA', 'ARA', 'FRE', 'CHI', 'JPN', 'ITA', 'FRE', 'ITA', 'ITA', 'SPA', 'HIN', 'TEL', 'TEL', 'FRE', 'GER', 'SPA', 'ARA', 'HIN', 'ARA', 'FRE', 'ARA', 'ARA', 'FRE', 'FRE', 'GER', 'KOR', 'GER', 'ARA', 'KOR', 'ARA', 'JPN', 'TEL', 'SPA', 'FRE', 'HIN', 'KOR', 'ARA', 'SPA', 'ARA', 'KOR', 'SPA', 'CHI', 'HIN', 'JPN', 'JPN', 'HIN', 'FRE', 'ARA', 'FRE', 'TUR', 'TUR', 'TUR', 'JPN', 'FRE', 'ARA', 'TEL', 'HIN', 'ITA', 'JPN', 'KOR', 'CHI', 'JPN', 'FRE', 'JPN', 'SPA', 'KOR', 'JPN', 'JPN', 'TEL', 'JPN', 'TEL', 'GER', 'KOR', 'KOR', 'TUR', 'JPN', 'TUR', 'JPN', 'SPA', 'JPN', 'SPA', 'FRE', 'SPA', 'ITA', 'SPA', 'ARA', 'TEL', 'GER', 'JPN', 'TEL', 'CHI', 'TEL', 'ITA', 'HIN', 'HIN', 'ITA', 'TUR', 'JPN', 'GER', 'ITA', 'SPA', 'KOR', 'TEL', 'CHI', 'FRE', 'TUR', 'KOR', 'SPA', 'JPN', 'HIN', 'GER', 'FRE', 'ITA', 'ITA', 'ARA', 'SPA', 'KOR', 'ITA', 'JPN', 'TUR', 'TEL', 'KOR', 'FRE', 'ITA', 'ITA', 'TUR', 'JPN', 'SPA', 'SPA', 'FRE', 'ARA', 'HIN', 'GER', 'CHI', 'ARA', 'GER', 'TUR', 'JPN', 'KOR', 'GER', 'SPA', 'ARA', 'TEL', 'KOR', 'GER', 'SPA', 'ITA', 'CHI', 'JPN', 'SPA', 'TEL', 'HIN', 'JPN', 'JPN', 'CHI', 'TEL', 'TUR', 'GER', 'KOR', 'ITA', 'CHI', 'ARA', 'ARA', 'SPA', 'GER', 'CHI', 'CHI', 'SPA', 'FRE', 'SPA', 'CHI', 'JPN', 'TUR', 'CHI', 'FRE', 'FRE', 'JPN', 'HIN', 'JPN', 'CHI', 'TUR', 'SPA', 'TUR', 'TUR', 'KOR', 'ITA', 'JPN', 'ARA', 'SPA', 'ITA', 'GER', 'KOR', 'GER', 'HIN', 'SPA', 'HIN', 'HIN', 'ARA', 'TUR', 'JPN', 'FRE', 'ITA', 'SPA', 'SPA', 'SPA', 'ITA', 'CHI', 'GER', 'TUR', 'HIN', 'JPN', 'HIN', 'HIN', 'KOR', 'TEL', 'HIN', 'HIN', 'KOR', 'JPN', 'CHI', 'JPN', 'HIN', 'JPN', 'ITA', 'SPA', 'CHI', 'FRE', 'FRE', 'ITA', 'JPN', 'FRE', 'FRE', 'CHI', 'TUR', 'TUR', 'SPA', 'CHI', 'ARA', 'TUR', 'CHI', 'SPA', 'ITA', 'FRE', 'KOR', 'JPN', 'SPA', 'ITA', 'HIN', 'CHI', 'JPN', 'KOR', 'GER', 'GER', 'JPN', 'TUR', 'TEL', 'ARA', 'CHI', 'SPA', 'ARA', 'TEL', 'HIN', 'SPA', 'KOR', 'KOR', 'JPN', 'SPA', 'GER', 'KOR', 'TUR', 'ITA', 'KOR', 'KOR', 'HIN', 'TEL', 'ITA', 'GER', 'TUR', 'SPA', 'FRE', 'CHI', 'JPN', 'TEL', 'ITA', 'HIN', 'ARA', 'SPA', 'JPN', 'HIN', 'ARA', 'SPA', 'HIN', 'KOR', 'CHI', 'ARA', 'KOR', 'HIN', 'ITA', 'SPA', 'HIN', 'HIN', 'JPN', 'CHI', 'CHI', 'ARA', 'HIN', 'HIN', 'JPN', 'CHI', 'ARA', 'ITA', 'ITA', 'GER', 'FRE', 'GER', 'ITA', 'ITA', 'KOR', 'TEL', 'FRE', 'CHI', 'HIN', 'CHI', 'SPA', 'KOR', 'FRE', 'SPA', 'HIN', 'JPN', 'TUR', 'HIN', 'TEL', 'SPA', 'SPA', 'GER', 'TUR', 'SPA', 'FRE', 'HIN', 'FRE', 'SPA', 'TEL', 'TUR', 'FRE', 'TEL', 'GER', 'JPN', 'SPA', 'ITA', 'JPN', 'HIN', 'TUR', 'SPA', 'FRE', 'FRE', 'CHI', 'ITA', 'CHI', 'ITA', 'ARA', 'HIN', 'HIN', 'GER', 'HIN', 'HIN', 'GER', 'ITA', 'KOR', 'TEL', 'ITA', 'KOR', 'GER', 'SPA', 'GER', 'JPN', 'TEL', 'KOR', 'TEL', 'CHI', 'JPN', 'ARA', 'TEL', 'GER', 'SPA', 'ARA', 'TUR', 'FRE', 'CHI', 'CHI', 'ITA', 'ARA', 'GER', 'TUR', 'TEL', 'HIN', 'CHI', 'HIN', 'JPN', 'ITA', 'JPN', 'ITA', 'HIN', 'ITA', 'ARA', 'SPA', 'CHI', 'CHI', 'SPA', 'ITA', 'SPA', 'ITA', 'SPA', 'KOR', 'TUR', 'FRE', 'ARA', 'TEL', 'JPN', 'JPN', 'GER', 'ITA', 'CHI', 'HIN', 'ITA', 'TEL', 'JPN', 'JPN', 'HIN', 'SPA', 'HIN', 'HIN', 'KOR', 'ARA', 'ITA', 'ITA', 'FRE', 'TUR', 'HIN', 'JPN', 'CHI', 'TUR', 'ARA', 'GER', 'ITA', 'JPN', 'ARA', 'HIN', 'GER', 'KOR', 'HIN', 'ARA', 'HIN', 'SPA', 'KOR', 'TUR', 'KOR', 'JPN', 'SPA', 'CHI', 'GER', 'KOR', 'ITA', 'TEL', 'CHI', 'ARA', 'HIN', 'KOR', 'TUR', 'CHI', 'GER', 'ARA', 'KOR', 'FRE', 'TUR', 'JPN', 'ITA', 'JPN', 'HIN', 'FRE', 'ITA', 'TEL', 'JPN', 'FRE', 'TUR', 'HIN', 'TEL', 'TUR', 'ARA', 'TUR', 'ITA', 'GER', 'FRE', 'TUR', 'TUR', 'ITA', 'HIN', 'TEL', 'JPN', 'TUR', 'SPA', 'FRE', 'TEL', 'GER', 'HIN', 'GER', 'HIN', 'HIN', 'TEL', 'HIN', 'KOR', 'TEL', 'FRE', 'FRE', 'KOR', 'JPN', 'ARA', 'KOR', 'KOR', 'ITA', 'TUR', 'ITA', 'HIN', 'ARA', 'TUR', 'JPN', 'JPN', 'CHI', 'KOR', 'ITA', 'GER', 'SPA', 'JPN', 'ITA', 'KOR', 'CHI', 'HIN', 'TEL', 'FRE', 'GER', 'HIN', 'TEL', 'FRE', 'SPA', 'HIN', 'SPA', 'SPA', 'JPN', 'HIN', 'SPA', 'TUR', 'GER', 'JPN', 'TEL', 'HIN', 'CHI', 'ARA', 'JPN', 'KOR', 'ITA', 'CHI', 'CHI', 'SPA', 'CHI', 'TUR', 'GER', 'JPN', 'ARA', 'HIN', 'SPA', 'GER', 'HIN', 'TEL', 'TEL', 'TEL', 'JPN', 'ITA', 'CHI', 'TEL', 'CHI', 'HIN', 'CHI', 'SPA', 'KOR', 'ITA', 'ARA', 'HIN', 'ARA', 'JPN', 'SPA', 'GER', 'SPA', 'TUR', 'FRE', 'CHI', 'ARA', 'SPA', 'HIN', 'FRE', 'ITA', 'ITA', 'ARA', 'JPN', 'ITA', 'FRE', 'SPA', 'CHI', 'ITA', 'SPA', 'TEL', 'JPN', 'ITA', 'TEL', 'TEL', 'CHI', 'ITA', 'CHI', 'CHI', 'ARA', 'ITA', 'JPN', 'ARA', 'SPA', 'CHI', 'TUR', 'TUR', 'FRE', 'HIN', 'FRE', 'ITA', 'GER', 'ITA', 'ARA', 'KOR', 'TUR', 'ARA', 'KOR', 'TEL', 'CHI', 'SPA', 'SPA', 'JPN', 'ARA', 'JPN', 'FRE', 'ARA', 'HIN', 'KOR', 'ARA', 'ITA', 'ARA', 'FRE', 'TUR', 'SPA', 'ARA', 'ITA', 'TEL', 'TUR', 'JPN', 'KOR', 'FRE', 'JPN', 'TUR', 'HIN', 'FRE', 'ARA', 'HIN', 'GER', 'ARA', 'CHI', 'JPN', 'SPA', 'KOR', 'TUR', 'HIN', 'CHI', 'FRE', 'TEL', 'ITA', 'TUR', 'SPA', 'CHI', 'CHI', 'HIN', 'CHI', 'SPA', 'GER', 'TEL', 'GER', 'JPN', 'KOR', 'SPA', 'CHI', 'KOR', 'JPN', 'KOR', 'GER', 'CHI', 'FRE', 'SPA', 'GER', 'KOR', 'ARA', 'CHI', 'ARA', 'GER', 'JPN', 'JPN', 'TUR', 'JPN', 'JPN', 'CHI', 'ARA', 'TUR', 'TEL', 'TUR', 'CHI', 'JPN', 'JPN', 'KOR', 'HIN', 'FRE', 'GER', 'KOR', 'TEL', 'ITA', 'JPN', 'JPN', 'FRE', 'JPN', 'ARA', 'SPA', 'HIN']\n",
      "specific_probs [0.45984458 0.53108961 0.00906581]\n",
      "specific_probs [0.50594733 0.02705915 0.46699352]\n",
      "specific_probs [0.02181536 0.89854064 0.079644  ]\n",
      "specific_probs [0.04859153 0.02264648 0.92876199]\n",
      "specific_probs [0.00179786 0.94232234 0.0558798 ]\n",
      "specific_probs [0.27221033 0.00094941 0.72684026]\n",
      "specific_probs [0.98540284 0.00103766 0.01355949]\n",
      "specific_probs [0.08215673 0.90004362 0.01779965]\n",
      "specific_probs [0.24170469 0.01668796 0.74160735]\n",
      "specific_probs [9.76698796e-01 2.12062320e-05 2.32799975e-02]\n",
      "specific_probs [0.00918037 0.76750201 0.22331762]\n",
      "specific_probs [0.58697027 0.17601701 0.23701272]\n",
      "specific_probs [0.9584753  0.00193426 0.03959044]\n",
      "specific_probs [0.53926244 0.27159969 0.18913786]\n",
      "specific_probs [0.0032149  0.73795777 0.25882733]\n",
      "specific_probs [4.23700223e-01 4.03681529e-05 5.76259409e-01]\n",
      "specific_probs [0.0060481  0.91842108 0.07553081]\n",
      "specific_probs [0.94640918 0.01172219 0.04186863]\n",
      "specific_probs [7.06218642e-01 3.12115838e-04 2.93469242e-01]\n",
      "specific_probs [6.18255081e-01 2.19774923e-04 3.81525144e-01]\n",
      "specific_probs [0.04138988 0.00312893 0.95548119]\n",
      "specific_probs [0.01836792 0.93257173 0.04906034]\n",
      "specific_probs [0.81337438 0.00317136 0.18345426]\n",
      "specific_probs [0.15078578 0.0404084  0.80880583]\n",
      "specific_probs [0.46984129 0.09209446 0.43806426]\n",
      "specific_probs [0.16498684 0.74613983 0.08887333]\n",
      "specific_probs [0.00259061 0.03469557 0.96271381]\n",
      "specific_probs [0.80812016 0.10908228 0.08279756]\n",
      "specific_probs [0.00562234 0.91518821 0.07918945]\n",
      "specific_probs [0.07927478 0.26141861 0.65930661]\n",
      "specific_probs [0.12236484 0.07475    0.80288517]\n",
      "specific_probs [0.0475641 0.8952555 0.0571804]\n",
      "specific_probs [0.91968214 0.02808045 0.05223741]\n",
      "specific_probs [0.08423562 0.00160483 0.91415955]\n",
      "specific_probs [0.07702576 0.87797469 0.04499955]\n",
      "specific_probs [0.15974079 0.72769631 0.1125629 ]\n",
      "specific_probs [0.03730685 0.29184005 0.6708531 ]\n",
      "specific_probs [0.09539085 0.0016984  0.90291075]\n",
      "specific_probs [0.20487121 0.00925412 0.78587466]\n",
      "specific_probs [0.93024423 0.05922356 0.01053221]\n",
      "specific_probs [8.51179334e-01 7.01940001e-04 1.48118726e-01]\n",
      "specific_probs [0.0065899  0.95958847 0.03382163]\n",
      "specific_probs [0.18986848 0.7945034  0.01562812]\n",
      "specific_probs [0.57551706 0.00429732 0.42018562]\n",
      "specific_probs [0.13839819 0.00251903 0.85908279]\n",
      "specific_probs [8.88098252e-01 1.11659652e-01 2.42095895e-04]\n",
      "specific_probs [0.69291606 0.00263373 0.30445021]\n",
      "specific_probs [0.03830005 0.5834737  0.37822625]\n",
      "specific_probs [0.97571535 0.00283412 0.02145053]\n",
      "specific_probs [0.11289621 0.59186141 0.29524238]\n",
      "specific_probs [0.01626294 0.34333517 0.64040189]\n",
      "specific_probs [0.98667051 0.00710471 0.00622479]\n",
      "specific_probs [0.04985936 0.93689477 0.01324586]\n",
      "specific_probs [0.03758347 0.09824664 0.86416989]\n",
      "specific_probs [0.02586544 0.82595919 0.14817537]\n",
      "specific_probs [0.67918322 0.19805076 0.12276603]\n",
      "specific_probs [0.96546436 0.01156281 0.02297283]\n",
      "specific_probs [0.04004926 0.37161715 0.58833359]\n",
      "specific_probs [0.60504315 0.001344   0.39361285]\n",
      "specific_probs [0.01402496 0.88744567 0.09852936]\n",
      "specific_probs [0.11068658 0.02620384 0.86310959]\n",
      "specific_probs [0.2022073  0.00743114 0.79036155]\n",
      "specific_probs [0.84776324 0.01013658 0.14210018]\n",
      "specific_probs [0.95180621 0.04626721 0.00192658]\n",
      "specific_probs [9.80117278e-01 1.65728153e-04 1.97169935e-02]\n",
      "specific_probs [0.00601486 0.03723737 0.95674777]\n",
      "specific_probs [4.13138724e-01 1.78920882e-04 5.86682355e-01]\n",
      "specific_probs [0.08527376 0.86957769 0.04514855]\n",
      "specific_probs [0.00225302 0.41496566 0.58278132]\n",
      "specific_probs [0.96828085 0.00864916 0.02306998]\n",
      "specific_probs [0.04073328 0.94409338 0.01517334]\n",
      "specific_probs [0.29825293 0.38306394 0.31868313]\n",
      "specific_probs [0.30783929 0.00744007 0.68472064]\n",
      "specific_probs [0.8158755  0.17870881 0.00541569]\n",
      "specific_probs [0.27554154 0.02500059 0.69945787]\n",
      "specific_probs [0.43972648 0.36228274 0.19799078]\n",
      "specific_probs [8.75632374e-01 4.08129415e-05 1.24326813e-01]\n",
      "specific_probs [0.64113339 0.00426829 0.35459832]\n",
      "specific_probs [2.82489456e-01 1.34201541e-05 7.17497124e-01]\n",
      "specific_probs [0.76032329 0.00290486 0.23677185]\n",
      "specific_probs [0.98006663 0.00211774 0.01781563]\n",
      "specific_probs [0.01917283 0.82642342 0.15440375]\n",
      "specific_probs [0.04144665 0.93260633 0.02594702]\n",
      "specific_probs [0.54939282 0.29059539 0.16001179]\n",
      "specific_probs [0.04011372 0.03007994 0.92980634]\n",
      "specific_probs [0.78031422 0.01336958 0.2063162 ]\n",
      "specific_probs [0.79300135 0.04308347 0.16391518]\n",
      "specific_probs [0.30379876 0.09802206 0.59817918]\n",
      "specific_probs [0.02304805 0.00207382 0.97487812]\n",
      "specific_probs [0.81428604 0.01370784 0.17200612]\n",
      "specific_probs [0.81001571 0.04405942 0.14592487]\n",
      "specific_probs [0.48101452 0.10724271 0.41174278]\n",
      "specific_probs [0.00598377 0.12074892 0.87326731]\n",
      "specific_probs [0.02530043 0.04164107 0.9330585 ]\n",
      "specific_probs [0.30420655 0.09012373 0.60566972]\n",
      "specific_probs [2.27716311e-01 7.46588574e-05 7.72209030e-01]\n",
      "specific_probs [0.1861546  0.65869709 0.15514831]\n",
      "specific_probs [0.30477931 0.18087699 0.5143437 ]\n",
      "specific_probs [0.37514742 0.00149879 0.62335379]\n",
      "specific_probs [9.62068817e-01 1.44852488e-04 3.77863303e-02]\n",
      "specific_probs [0.0290725  0.01720127 0.95372623]\n",
      "specific_probs [0.37542918 0.07420721 0.55036361]\n",
      "specific_probs [0.04795517 0.93207009 0.01997474]\n",
      "specific_probs [0.00927107 0.68411902 0.30660991]\n",
      "specific_probs [0.79265945 0.00296658 0.20437396]\n",
      "specific_probs [0.05813498 0.09762891 0.84423611]\n",
      "specific_probs [0.91581    0.00140507 0.08278493]\n",
      "specific_probs [0.03534611 0.01296066 0.95169324]\n",
      "specific_probs [0.07280714 0.8771544  0.05003846]\n",
      "specific_probs [0.05062952 0.91368827 0.03568221]\n",
      "specific_probs [0.31399208 0.02127964 0.66472827]\n",
      "specific_probs [0.81592576 0.0026462  0.18142804]\n",
      "specific_probs [0.8690961  0.00152519 0.12937871]\n",
      "specific_probs [0.75268816 0.22330521 0.02400663]\n",
      "specific_probs [0.79299357 0.20161139 0.00539504]\n",
      "specific_probs [0.00557696 0.00203438 0.99238867]\n",
      "specific_probs [0.01435549 0.38731285 0.59833166]\n",
      "specific_probs [7.61671600e-01 4.49866635e-04 2.37878534e-01]\n",
      "specific_probs [0.18226238 0.81376854 0.00396908]\n",
      "specific_probs [0.39259672 0.00137561 0.60602767]\n",
      "specific_probs [0.12694509 0.87018606 0.00286886]\n",
      "specific_probs [0.19249241 0.44805473 0.35945286]\n",
      "specific_probs [9.37850622e-01 1.72980772e-04 6.19763972e-02]\n",
      "specific_probs [0.01159232 0.89482142 0.09358626]\n",
      "specific_probs [0.07828516 0.87660313 0.04511171]\n",
      "specific_probs [0.02179779 0.96260443 0.01559778]\n",
      "specific_probs [0.00912392 0.91066501 0.08021107]\n",
      "specific_probs [0.34024019 0.08708107 0.57267874]\n",
      "specific_probs [0.01501199 0.94467956 0.04030845]\n",
      "specific_probs [1.86916724e-01 5.89417052e-04 8.12493859e-01]\n",
      "specific_probs [2.98809521e-01 6.11238974e-04 7.00579240e-01]\n",
      "specific_probs [0.67413777 0.14526378 0.18059846]\n",
      "specific_probs [0.07142392 0.8658338  0.06274228]\n",
      "specific_probs [0.1342861  0.86400501 0.00170889]\n",
      "specific_probs [0.75395723 0.00910785 0.23693492]\n",
      "specific_probs [0.16307556 0.82756274 0.00936171]\n",
      "specific_probs [0.04251752 0.71194484 0.24553764]\n",
      "specific_probs [0.04991053 0.92117798 0.02891149]\n",
      "specific_probs [0.22970724 0.74011981 0.03017295]\n",
      "specific_probs [0.9294272  0.01667138 0.05390143]\n",
      "specific_probs [0.25736007 0.73729921 0.00534071]\n",
      "specific_probs [0.01556152 0.97687369 0.00756478]\n",
      "specific_probs [0.95361163 0.01722101 0.02916736]\n",
      "specific_probs [0.03305739 0.91913816 0.04780445]\n",
      "specific_probs [0.85843624 0.07626199 0.06530177]\n",
      "specific_probs [0.00288981 0.92848669 0.0686235 ]\n",
      "specific_probs [0.9177808  0.01380261 0.06841659]\n",
      "specific_probs [0.17390193 0.01228527 0.8138128 ]\n",
      "['ARA', 'HIN', 'GER', 'HIN', 'JPN', 'FRE', 'ITA', 'ARA', 'ARA', 'KOR', 'ARA', 'TUR', 'JPN', 'TUR', 'GER', 'GER', 'TEL', 'KOR', 'ITA', 'JPN', 'TEL', 'GER', 'TEL', 'ARA', 'JPN', 'TUR', 'SPA', 'FRE', 'SPA', 'TUR', 'GER', 'TUR', 'FRE', 'ITA', 'KOR', 'ITA', 'JPN', 'GER', 'HIN', 'CHI', 'SPA', 'KOR', 'FRE', 'JPN', 'SPA', 'GER', 'TEL', 'KOR', 'JPN', 'CHI', 'TEL', 'ITA', 'TUR', 'ARA', 'CHI', 'FRE', 'JPN', 'ARA', 'CHI', 'HIN', 'SPA', 'CHI', 'TUR', 'JPN', 'KOR', 'ITA', 'JPN', 'FRE', 'ITA', 'HIN', 'TEL', 'TEL', 'ITA', 'TEL', 'JPN', 'ITA', 'CHI', 'GER', 'CHI', 'TEL', 'TUR', 'TEL', 'JPN', 'CHI', 'ITA', 'TUR', 'TUR', 'ARA', 'TEL', 'TEL', 'GER', 'FRE', 'TEL', 'ITA', 'ARA', 'GER', 'JPN', 'ARA', 'TUR', 'KOR', 'HIN', 'ARA', 'TEL', 'SPA', 'TUR', 'TEL', 'JPN', 'ARA', 'ARA', 'HIN', 'TEL', 'ARA', 'SPA', 'TEL', 'ITA', 'GER', 'TEL', 'HIN', 'CHI', 'GER', 'TUR', 'KOR', 'CHI', 'KOR', 'KOR', 'TEL', 'TUR', 'HIN', 'SPA', 'ARA', 'ARA', 'ITA', 'JPN', 'JPN', 'CHI', 'KOR', 'GER', 'ITA', 'GER', 'CHI', 'ARA', 'ITA', 'ITA', 'TEL', 'TUR', 'GER', 'JPN', 'KOR', 'CHI', 'FRE', 'ARA', 'ITA', 'SPA', 'KOR', 'JPN', 'ITA', 'CHI', 'SPA', 'JPN', 'HIN', 'CHI', 'ARA', 'ARA', 'SPA', 'HIN', 'JPN', 'TEL', 'CHI', 'SPA', 'FRE', 'TEL', 'SPA', 'ARA', 'TUR', 'TEL', 'CHI', 'ARA', 'SPA', 'HIN', 'TUR', 'CHI', 'FRE', 'SPA', 'TEL', 'KOR', 'ARA', 'GER', 'HIN', 'TEL', 'TEL', 'TEL', 'ITA', 'CHI', 'SPA', 'HIN', 'CHI', 'KOR', 'SPA', 'ITA', 'SPA', 'ARA', 'HIN', 'CHI', 'HIN', 'TEL', 'KOR', 'HIN', 'CHI', 'FRE', 'JPN', 'FRE', 'JPN', 'TUR', 'SPA', 'SPA', 'GER', 'JPN', 'TUR', 'KOR', 'GER', 'TUR', 'FRE', 'TEL', 'FRE', 'ARA', 'ARA', 'ARA', 'TEL', 'TUR', 'ARA', 'ITA', 'ITA', 'JPN', 'JPN', 'CHI', 'GER', 'ITA', 'ARA', 'JPN', 'TUR', 'ITA', 'ITA', 'GER', 'ITA', 'CHI', 'CHI', 'ARA', 'ITA', 'TEL', 'GER', 'CHI', 'JPN', 'GER', 'ARA', 'CHI', 'JPN', 'JPN', 'TEL', 'GER', 'TUR', 'ITA', 'HIN', 'FRE', 'FRE', 'JPN', 'FRE', 'GER', 'FRE', 'TUR', 'SPA', 'TEL', 'FRE', 'GER', 'HIN', 'FRE', 'TUR', 'KOR', 'TUR', 'SPA', 'TUR', 'SPA', 'FRE', 'FRE', 'KOR', 'CHI', 'TEL', 'KOR', 'ARA', 'KOR', 'KOR', 'JPN', 'CHI', 'TUR', 'FRE', 'ARA', 'KOR', 'TUR', 'JPN', 'TEL', 'KOR', 'TEL', 'SPA', 'TUR', 'JPN', 'FRE', 'HIN', 'KOR', 'TEL', 'CHI', 'SPA', 'CHI', 'KOR', 'ARA', 'GER', 'HIN', 'SPA', 'CHI', 'GER', 'ITA', 'ITA', 'TUR', 'JPN', 'ITA', 'TUR', 'GER', 'CHI', 'ITA', 'SPA', 'SPA', 'KOR', 'ITA', 'GER', 'KOR', 'FRE', 'HIN', 'JPN', 'ARA', 'TEL', 'FRE', 'ARA', 'CHI', 'JPN', 'ARA', 'ARA', 'KOR', 'ITA', 'ITA', 'HIN', 'GER', 'ARA', 'KOR', 'TEL', 'TEL', 'JPN', 'CHI', 'TUR', 'SPA', 'KOR', 'HIN', 'FRE', 'TEL', 'JPN', 'KOR', 'TEL', 'TUR', 'ARA', 'KOR', 'TUR', 'KOR', 'JPN', 'FRE', 'GER', 'HIN', 'SPA', 'GER', 'JPN', 'CHI', 'ITA', 'GER', 'SPA', 'HIN', 'SPA', 'TUR', 'HIN', 'TEL', 'GER', 'JPN', 'JPN', 'TUR', 'JPN', 'JPN', 'SPA', 'HIN', 'KOR', 'ARA', 'HIN', 'GER', 'ITA', 'ARA', 'FRE', 'ARA', 'TUR', 'JPN', 'FRE', 'TUR', 'HIN', 'FRE', 'ITA', 'TEL', 'TUR', 'JPN', 'ITA', 'GER', 'FRE', 'TUR', 'SPA', 'ARA', 'HIN', 'ITA', 'SPA', 'FRE', 'ITA', 'FRE', 'TUR', 'JPN', 'FRE', 'CHI', 'KOR', 'FRE', 'SPA', 'TEL', 'KOR', 'CHI', 'SPA', 'TEL', 'GER', 'TUR', 'ITA', 'SPA', 'GER', 'JPN', 'GER', 'TEL', 'JPN', 'SPA', 'GER', 'CHI', 'ITA', 'GER', 'JPN', 'FRE', 'FRE', 'KOR', 'JPN', 'ITA', 'TUR', 'KOR', 'KOR', 'TEL', 'SPA', 'HIN', 'TEL', 'TUR', 'JPN', 'TUR', 'GER', 'GER', 'ITA', 'TUR', 'JPN', 'SPA', 'ARA', 'TUR', 'CHI', 'KOR', 'JPN', 'GER', 'HIN', 'SPA', 'HIN', 'JPN', 'SPA', 'KOR', 'TUR', 'JPN', 'TEL', 'TEL', 'GER', 'TEL', 'SPA', 'KOR', 'FRE', 'ITA', 'SPA', 'FRE', 'KOR', 'ARA', 'HIN', 'KOR', 'HIN', 'FRE', 'JPN', 'TEL', 'FRE', 'GER', 'JPN', 'ITA', 'KOR', 'HIN', 'TUR', 'TUR', 'HIN', 'GER', 'KOR', 'CHI', 'SPA', 'ARA', 'TUR', 'KOR', 'CHI', 'HIN', 'JPN', 'TEL', 'ITA', 'TUR', 'FRE', 'GER', 'ITA', 'SPA', 'HIN', 'ARA', 'KOR', 'ITA', 'SPA', 'ITA', 'TUR', 'FRE', 'HIN', 'ARA', 'TUR', 'JPN', 'KOR', 'SPA', 'ARA', 'TUR', 'CHI', 'FRE', 'SPA', 'TEL', 'ITA', 'SPA', 'JPN', 'SPA', 'JPN', 'SPA', 'FRE', 'JPN', 'GER', 'JPN', 'TEL', 'TEL', 'ARA', 'CHI', 'GER', 'ITA', 'KOR', 'FRE', 'ARA', 'JPN', 'CHI', 'FRE', 'FRE', 'KOR', 'FRE', 'GER', 'CHI', 'ARA', 'ARA', 'FRE', 'GER', 'TEL', 'TEL', 'ITA', 'TEL', 'TEL', 'CHI', 'FRE', 'TEL', 'JPN', 'SPA', 'TUR', 'SPA', 'HIN', 'JPN', 'TEL', 'TUR', 'TEL', 'HIN', 'CHI', 'ITA', 'FRE', 'ARA', 'CHI', 'ITA', 'FRE', 'KOR', 'ARA', 'FRE', 'ITA', 'CHI', 'HIN', 'FRE', 'ITA', 'SPA', 'CHI', 'JPN', 'KOR', 'TEL', 'JPN', 'SPA', 'ITA', 'KOR', 'ITA', 'ARA', 'ITA', 'HIN', 'TEL', 'ITA', 'KOR', 'TEL', 'TUR', 'ARA', 'GER', 'ITA', 'ARA', 'SPA', 'TEL', 'ITA', 'SPA', 'ARA', 'TUR', 'CHI', 'JPN', 'CHI', 'HIN', 'FRE', 'GER', 'ITA', 'ARA', 'CHI', 'TEL', 'HIN', 'HIN', 'FRE', 'TUR', 'CHI', 'ARA', 'ARA', 'TUR', 'ARA', 'TUR', 'GER', 'ITA', 'HIN', 'HIN', 'JPN', 'KOR', 'KOR', 'JPN', 'CHI', 'TUR', 'SPA', 'SPA', 'SPA', 'KOR', 'TEL', 'ARA', 'KOR', 'SPA', 'CHI', 'FRE', 'ITA', 'ITA', 'ITA', 'TUR', 'TUR', 'HIN', 'TEL', 'GER', 'SPA', 'GER', 'ITA', 'GER', 'JPN', 'TEL', 'FRE', 'ITA', 'SPA', 'HIN', 'GER', 'ITA', 'TEL', 'ITA', 'TUR', 'KOR', 'JPN', 'ITA', 'GER', 'TEL', 'FRE', 'GER', 'FRE', 'ARA', 'CHI', 'ARA', 'SPA', 'CHI', 'JPN', 'CHI', 'HIN', 'CHI', 'HIN', 'ARA', 'CHI', 'JPN', 'TUR', 'FRE', 'JPN', 'TUR', 'CHI', 'SPA', 'TUR', 'TEL', 'SPA', 'JPN', 'ITA', 'ARA', 'TEL', 'HIN', 'HIN', 'CHI', 'GER', 'KOR', 'TEL', 'FRE', 'ITA', 'ITA', 'CHI', 'ITA', 'CHI', 'SPA', 'ITA', 'TEL', 'ITA', 'ARA', 'KOR', 'HIN', 'ITA', 'ITA', 'SPA', 'TUR', 'ARA', 'ITA', 'ARA', 'HIN', 'HIN', 'FRE', 'CHI', 'GER', 'FRE', 'KOR', 'CHI', 'JPN', 'SPA', 'FRE', 'GER', 'JPN', 'SPA', 'KOR', 'CHI', 'CHI', 'CHI', 'GER', 'SPA', 'TEL', 'KOR', 'CHI', 'HIN', 'TUR', 'KOR', 'ARA', 'TEL', 'KOR', 'KOR', 'TUR', 'FRE', 'JPN', 'CHI', 'JPN', 'CHI', 'TUR', 'FRE', 'CHI', 'CHI', 'ITA', 'JPN', 'ITA', 'FRE', 'FRE', 'CHI', 'TUR', 'ITA', 'FRE', 'GER', 'FRE', 'ARA', 'SPA', 'TUR', 'TUR', 'ITA', 'ARA', 'ITA', 'CHI', 'SPA', 'SPA', 'SPA', 'KOR', 'ITA', 'JPN', 'ITA', 'HIN', 'ITA', 'ARA', 'KOR', 'GER', 'CHI', 'TUR', 'HIN', 'CHI', 'HIN', 'TEL', 'TEL', 'JPN', 'ARA', 'TUR', 'ITA', 'TUR', 'CHI', 'ITA', 'TEL', 'FRE', 'ITA', 'HIN', 'KOR', 'KOR', 'HIN', 'SPA', 'GER', 'ITA', 'SPA', 'TEL', 'HIN', 'TEL', 'SPA', 'CHI', 'ITA', 'SPA', 'ARA', 'FRE', 'JPN', 'TUR', 'FRE', 'SPA', 'ARA', 'CHI', 'GER', 'TUR', 'FRE', 'FRE', 'TUR', 'HIN', 'JPN', 'JPN', 'ITA', 'FRE', 'ARA', 'GER', 'TUR', 'ARA', 'FRE', 'FRE', 'HIN', 'JPN', 'KOR', 'JPN', 'GER', 'SPA', 'HIN', 'ARA', 'JPN', 'ITA', 'ARA', 'ARA', 'JPN', 'GER', 'ITA', 'TUR', 'SPA', 'SPA', 'FRE', 'JPN', 'SPA', 'GER', 'CHI', 'FRE', 'KOR', 'JPN', 'ITA', 'ARA', 'FRE', 'HIN', 'TUR', 'SPA', 'CHI', 'TEL', 'KOR', 'KOR', 'HIN', 'FRE', 'SPA', 'SPA', 'HIN', 'JPN', 'TEL', 'ITA', 'KOR', 'KOR', 'ITA', 'CHI', 'GER', 'JPN', 'GER', 'SPA', 'ARA', 'ITA', 'SPA', 'HIN', 'TEL', 'SPA', 'JPN', 'KOR', 'SPA', 'CHI', 'TEL', 'KOR', 'FRE', 'TUR', 'JPN', 'TEL', 'GER', 'TUR', 'FRE', 'TUR', 'KOR', 'ARA', 'SPA', 'SPA', 'CHI', 'KOR', 'KOR', 'TUR', 'TUR', 'ARA', 'ARA', 'ITA', 'TEL', 'HIN', 'TUR', 'FRE', 'CHI', 'FRE', 'TEL', 'ARA', 'HIN', 'ARA', 'SPA', 'SPA', 'ITA', 'TEL', 'KOR', 'HIN', 'GER', 'TEL', 'HIN', 'FRE', 'JPN', 'GER', 'CHI', 'SPA', 'TEL', 'FRE', 'CHI', 'KOR', 'ITA', 'FRE', 'GER', 'JPN', 'KOR', 'TEL', 'ITA', 'HIN', 'TUR', 'FRE', 'TEL', 'JPN', 'FRE', 'KOR', 'TUR', 'FRE', 'FRE', 'SPA', 'HIN', 'SPA', 'CHI', 'CHI', 'ARA', 'CHI', 'ARA', 'SPA', 'ITA', 'ITA', 'ARA', 'ARA', 'FRE', 'KOR', 'HIN', 'ARA', 'HIN', 'JPN', 'CHI', 'KOR', 'CHI', 'ITA', 'KOR', 'SPA', 'FRE', 'GER', 'JPN', 'HIN', 'KOR', 'CHI', 'HIN', 'JPN', 'HIN', 'SPA', 'FRE', 'CHI', 'TEL', 'ITA', 'JPN', 'SPA', 'JPN', 'TUR', 'GER', 'JPN', 'ITA', 'JPN', 'KOR', 'CHI', 'ARA', 'FRE', 'SPA', 'TUR', 'TUR', 'ARA', 'HIN', 'ITA', 'TEL', 'SPA', 'CHI', 'ITA', 'FRE', 'TUR', 'TEL', 'ITA', 'FRE', 'ARA', 'SPA', 'TEL', 'JPN', 'ARA', 'KOR', 'TEL', 'GER', 'TEL', 'TUR', 'TEL', 'ITA', 'TUR', 'CHI', 'CHI', 'ITA', 'KOR', 'CHI', 'HIN', 'HIN', 'KOR', 'GER', 'CHI', 'JPN', 'TEL', 'SPA', 'TEL', 'ARA', 'SPA', 'HIN', 'ITA', 'TUR', 'ITA', 'HIN', 'JPN', 'KOR', 'CHI', 'TEL', 'GER', 'ITA', 'TUR', 'HIN', 'TUR', 'TUR', 'GER', 'HIN', 'TUR', 'KOR', 'ARA', 'CHI', 'CHI', 'ARA', 'KOR', 'KOR', 'ARA', 'SPA', 'ITA', 'CHI', 'GER', 'KOR', 'FRE', 'ITA', 'ARA', 'GER', 'TUR', 'TEL', 'FRE', 'SPA', 'CHI', 'GER', 'JPN', 'TEL', 'CHI', 'CHI', 'ITA', 'TEL', 'FRE', 'HIN', 'ITA', 'SPA', 'ITA', 'ARA', 'CHI', 'HIN', 'FRE', 'FRE', 'HIN', 'JPN', 'HIN', 'FRE', 'KOR', 'JPN', 'HIN', 'CHI', 'ITA', 'KOR', 'GER', 'SPA', 'FRE', 'ITA', 'HIN', 'TEL', 'FRE', 'TUR', 'GER', 'TEL', 'GER', 'CHI', 'CHI', 'FRE', 'HIN', 'SPA', 'ITA', 'HIN', 'HIN', 'TEL', 'CHI', 'ARA', 'JPN', 'JPN', 'JPN', 'ARA', 'ITA', 'KOR', 'SPA', 'KOR', 'GER', 'KOR', 'JPN', 'TEL', 'SPA', 'GER', 'SPA', 'CHI', 'KOR', 'SPA', 'TUR', 'CHI', 'HIN', 'HIN', 'KOR', 'TUR', 'ITA', 'JPN', 'TEL', 'JPN', 'TUR', 'ARA', 'TEL', 'ITA', 'ITA', 'SPA', 'GER', 'TUR', 'FRE', 'CHI', 'ARA', 'SPA', 'TEL', 'ITA', 'KOR', 'JPN', 'TEL', 'GER', 'GER', 'TEL', 'JPN', 'ARA', 'CHI', 'ITA', 'KOR', 'SPA', 'TUR', 'ITA', 'ITA', 'JPN', 'TUR', 'TEL', 'CHI', 'KOR', 'CHI', 'ITA', 'CHI', 'JPN', 'GER', 'SPA', 'ITA', 'CHI', 'ITA', 'TEL', 'KOR', 'KOR', 'TUR', 'ARA', 'CHI', 'JPN', 'SPA', 'KOR', 'JPN', 'CHI', 'KOR', 'FRE', 'HIN', 'TEL', 'ARA', 'HIN', 'SPA', 'TEL', 'CHI', 'CHI', 'ITA', 'JPN', 'CHI', 'KOR', 'JPN', 'TEL', 'GER', 'ITA', 'TUR', 'SPA', 'TUR', 'SPA', 'ITA', 'CHI', 'CHI', 'HIN', 'SPA', 'ARA', 'HIN', 'GER', 'HIN', 'JPN', 'JPN', 'ARA', 'TUR', 'CHI', 'JPN', 'SPA', 'KOR', 'FRE', 'CHI', 'KOR', 'FRE', 'JPN', 'TUR', 'JPN', 'TUR', 'FRE', 'CHI', 'HIN', 'HIN', 'TEL', 'CHI', 'SPA', 'ARA', 'FRE', 'ITA', 'TUR', 'HIN', 'SPA', 'JPN', 'ITA', 'CHI', 'TEL', 'KOR', 'TEL', 'JPN', 'SPA', 'ARA', 'FRE', 'TUR', 'KOR', 'GER', 'CHI', 'FRE', 'ITA', 'HIN', 'TEL', 'ITA', 'TEL', 'SPA', 'TUR', 'GER', 'KOR', 'JPN', 'HIN', 'JPN', 'JPN', 'HIN', 'CHI', 'HIN', 'FRE', 'TEL', 'ITA', 'HIN', 'TEL', 'SPA', 'GER', 'SPA', 'FRE', 'JPN', 'GER', 'GER', 'HIN', 'SPA', 'ARA', 'FRE', 'HIN', 'CHI', 'GER', 'CHI', 'FRE', 'CHI', 'GER', 'SPA', 'KOR', 'JPN', 'JPN', 'KOR', 'GER', 'ARA', 'ITA', 'TUR', 'JPN', 'CHI', 'GER', 'CHI', 'GER', 'TEL', 'HIN', 'GER', 'SPA', 'HIN', 'KOR', 'ITA', 'TUR', 'TEL', 'ITA', 'ARA', 'KOR', 'TEL', 'FRE', 'ARA', 'KOR', 'CHI', 'CHI', 'ITA', 'ITA', 'KOR', 'KOR', 'CHI', 'ARA', 'KOR', 'TUR', 'JPN', 'JPN', 'FRE', 'GER', 'HIN', 'ITA', 'FRE', 'HIN', 'TUR', 'CHI', 'TUR', 'KOR', 'TEL', 'TEL', 'ITA', 'SPA', 'ITA', 'JPN', 'SPA', 'TEL', 'SPA', 'JPN', 'HIN', 'CHI', 'GER', 'TUR', 'CHI', 'FRE', 'SPA', 'FRE', 'TEL', 'ITA', 'HIN', 'JPN', 'TEL', 'ITA', 'TEL', 'TEL', 'ITA', 'FRE', 'TEL', 'FRE', 'TEL', 'SPA', 'SPA', 'CHI', 'CHI', 'SPA', 'FRE', 'TUR', 'CHI', 'JPN', 'FRE', 'JPN', 'FRE', 'GER', 'ITA', 'JPN', 'ARA', 'KOR', 'ARA', 'ARA', 'TEL', 'HIN', 'CHI', 'HIN', 'HIN', 'HIN', 'CHI', 'TEL', 'SPA', 'GER', 'TEL', 'JPN', 'JPN', 'CHI', 'ARA', 'CHI', 'KOR', 'SPA', 'FRE', 'FRE', 'GER', 'SPA', 'CHI', 'FRE', 'ARA', 'ARA', 'HIN', 'JPN', 'KOR', 'FRE', 'CHI', 'TUR', 'ARA', 'JPN', 'ITA', 'HIN', 'GER', 'ARA', 'TUR', 'ITA', 'GER', 'SPA', 'TEL', 'ARA', 'SPA', 'TUR', 'ARA', 'ARA', 'HIN', 'KOR', 'ARA', 'TUR', 'FRE', 'SPA', 'GER', 'SPA', 'TUR', 'TEL', 'JPN', 'JPN', 'TEL', 'FRE', 'CHI', 'HIN', 'SPA', 'ARA', 'TEL', 'ARA', 'FRE', 'TEL', 'CHI', 'GER', 'JPN', 'CHI', 'CHI', 'HIN', 'ITA', 'ARA', 'CHI', 'GER', 'FRE', 'ARA', 'CHI', 'TEL', 'FRE', 'JPN', 'TEL', 'TEL', 'ITA', 'ITA', 'CHI', 'TEL', 'JPN', 'TEL', 'FRE', 'FRE', 'CHI', 'GER', 'TUR', 'KOR', 'ITA', 'SPA', 'ARA', 'GER', 'CHI', 'GER', 'JPN', 'GER', 'ARA', 'HIN', 'GER', 'KOR', 'TUR', 'TUR', 'TEL', 'SPA', 'HIN', 'JPN', 'TEL', 'JPN', 'CHI', 'CHI', 'KOR', 'CHI', 'TEL', 'TUR', 'HIN', 'TUR', 'FRE', 'TUR', 'FRE', 'JPN', 'FRE', 'TUR', 'FRE', 'FRE', 'CHI', 'FRE', 'SPA', 'ARA', 'JPN', 'KOR', 'FRE', 'JPN', 'FRE', 'GER', 'TEL', 'HIN', 'GER', 'ITA', 'ITA', 'JPN', 'SPA', 'TEL', 'TEL', 'TUR', 'TUR', 'HIN', 'TEL', 'TUR', 'TEL', 'SPA', 'HIN', 'ITA', 'GER', 'HIN', 'TUR', 'FRE', 'ITA', 'GER', 'KOR', 'HIN', 'FRE', 'ITA', 'GER', 'KOR', 'HIN', 'ARA', 'TEL', 'TUR', 'GER', 'CHI', 'ARA', 'KOR', 'ITA', 'JPN', 'ITA', 'TEL', 'GER', 'JPN', 'ITA', 'TUR', 'ARA', 'FRE', 'TEL', 'KOR', 'FRE', 'SPA', 'GER', 'ITA', 'JPN', 'JPN', 'FRE', 'TEL', 'SPA', 'TUR', 'KOR', 'TEL', 'JPN', 'SPA', 'HIN', 'HIN', 'GER', 'CHI', 'GER', 'GER', 'SPA', 'KOR', 'FRE', 'TEL', 'TUR', 'TUR', 'ARA', 'GER', 'CHI', 'ARA', 'TEL', 'JPN', 'TEL', 'TUR', 'SPA', 'FRE', 'TUR', 'FRE', 'CHI', 'ARA', 'CHI', 'ARA', 'TUR', 'GER', 'SPA', 'SPA', 'CHI', 'ITA', 'HIN', 'TUR', 'HIN', 'GER', 'SPA', 'ARA', 'HIN', 'SPA', 'SPA', 'KOR', 'FRE', 'TUR', 'HIN', 'CHI', 'GER', 'GER', 'TEL', 'FRE', 'TEL', 'TUR', 'HIN', 'KOR', 'CHI', 'CHI', 'TUR', 'SPA', 'SPA', 'ARA', 'GER', 'GER', 'TUR', 'CHI', 'KOR', 'FRE', 'FRE', 'GER', 'SPA', 'FRE', 'ITA', 'GER', 'SPA', 'TEL', 'ITA', 'HIN', 'FRE', 'JPN', 'KOR', 'JPN', 'GER', 'SPA', 'FRE', 'SPA', 'FRE', 'ARA', 'HIN', 'GER', 'ARA', 'FRE', 'FRE', 'TUR', 'GER', 'CHI', 'CHI', 'KOR', 'TUR', 'SPA', 'HIN', 'JPN', 'FRE', 'TUR', 'TUR', 'ARA', 'SPA', 'TEL', 'SPA', 'HIN', 'FRE', 'HIN', 'TEL', 'SPA', 'ITA', 'JPN', 'FRE', 'CHI', 'CHI', 'SPA', 'TEL', 'JPN', 'ITA', 'CHI', 'ITA', 'JPN', 'ITA', 'GER', 'KOR', 'FRE', 'GER', 'CHI', 'HIN', 'KOR', 'JPN', 'TUR', 'ARA', 'CHI', 'JPN', 'JPN', 'GER', 'CHI', 'JPN', 'TEL', 'ARA', 'FRE', 'TEL', 'ARA', 'KOR', 'KOR', 'GER', 'SPA', 'CHI', 'FRE', 'HIN', 'CHI', 'SPA', 'JPN', 'ARA', 'ARA', 'CHI', 'TUR', 'ITA', 'CHI', 'KOR', 'HIN', 'TEL', 'TEL', 'HIN', 'FRE', 'CHI', 'GER', 'CHI', 'ITA', 'KOR', 'SPA', 'KOR', 'TEL', 'FRE', 'SPA', 'FRE', 'KOR', 'ITA', 'ITA', 'CHI', 'TUR', 'TUR', 'HIN', 'JPN', 'FRE', 'TUR', 'FRE', 'JPN', 'GER', 'SPA', 'FRE', 'ARA', 'TEL', 'KOR', 'KOR', 'KOR', 'CHI', 'FRE', 'TEL', 'FRE', 'CHI', 'ARA', 'CHI', 'GER', 'GER', 'ITA', 'CHI', 'ARA', 'FRE', 'SPA', 'HIN', 'JPN', 'JPN', 'CHI', 'ARA', 'ITA', 'ARA', 'CHI', 'TEL', 'ITA', 'SPA', 'ITA', 'HIN', 'KOR', 'FRE', 'SPA', 'KOR', 'ARA', 'KOR', 'TUR', 'TUR', 'FRE', 'HIN', 'ARA', 'JPN', 'FRE', 'GER', 'ARA', 'ARA', 'TUR', 'ARA', 'FRE', 'HIN', 'SPA', 'ARA', 'HIN', 'JPN', 'CHI', 'GER', 'FRE', 'FRE', 'JPN', 'HIN', 'HIN', 'FRE', 'TUR', 'HIN', 'CHI', 'JPN', 'TEL', 'HIN', 'JPN', 'HIN']\n",
      "specific_probs [0.98941673 0.00684461 0.00373866]\n",
      "specific_probs [9.98183863e-01 8.70771484e-04 9.45365731e-04]\n",
      "specific_probs [0.02362108 0.94161219 0.03476673]\n",
      "specific_probs [9.85222291e-01 5.00664384e-04 1.42770441e-02]\n",
      "specific_probs [0.83751317 0.05081168 0.11167515]\n",
      "specific_probs [0.82040187 0.00146367 0.17813446]\n",
      "specific_probs [0.33298961 0.01490313 0.65210726]\n",
      "specific_probs [9.72022832e-01 5.86935016e-04 2.73902330e-02]\n",
      "specific_probs [0.16047995 0.82834481 0.01117523]\n",
      "specific_probs [0.75212203 0.00176941 0.24610856]\n",
      "specific_probs [0.17213435 0.00538695 0.8224787 ]\n",
      "specific_probs [0.10099485 0.77340448 0.12560067]\n",
      "specific_probs [0.06957668 0.01490662 0.9155167 ]\n",
      "specific_probs [0.01791845 0.8060461  0.17603546]\n",
      "specific_probs [0.08529704 0.04781496 0.866888  ]\n",
      "specific_probs [0.64384917 0.02268398 0.33346686]\n",
      "specific_probs [0.512905   0.18399379 0.30310121]\n",
      "specific_probs [0.64081736 0.00417275 0.35500989]\n",
      "specific_probs [0.01406025 0.86543884 0.12050091]\n",
      "specific_probs [0.16839154 0.53004869 0.30155977]\n",
      "specific_probs [7.69214989e-01 4.79069913e-05 2.30737104e-01]\n",
      "specific_probs [0.04035352 0.85680839 0.10283809]\n",
      "specific_probs [9.33470142e-02 2.74650822e-04 9.06378335e-01]\n",
      "specific_probs [0.66340895 0.00384698 0.33274407]\n",
      "specific_probs [0.01255918 0.87995599 0.10748483]\n",
      "specific_probs [0.29840447 0.65347443 0.0481211 ]\n",
      "specific_probs [6.87660957e-01 5.94664765e-04 3.11744378e-01]\n",
      "specific_probs [1.39105782e-01 8.60480448e-01 4.13769933e-04]\n",
      "specific_probs [9.97238161e-01 1.18751038e-04 2.64308767e-03]\n",
      "specific_probs [0.0480347  0.73197386 0.21999144]\n",
      "specific_probs [0.09319747 0.08070141 0.82610112]\n",
      "specific_probs [0.01270772 0.86150653 0.12578576]\n",
      "specific_probs [9.49608118e-01 4.33234681e-04 4.99586473e-02]\n",
      "specific_probs [0.51093206 0.00265018 0.48641777]\n",
      "specific_probs [0.00385514 0.8376873  0.15845756]\n",
      "specific_probs [0.02421565 0.19056557 0.78521878]\n",
      "specific_probs [0.42461591 0.4133557  0.16202839]\n",
      "specific_probs [0.01221575 0.91479895 0.0729853 ]\n",
      "specific_probs [0.04518055 0.7729866  0.18183286]\n",
      "specific_probs [0.99425441 0.004129   0.00161658]\n",
      "specific_probs [0.45987174 0.51943965 0.02068861]\n",
      "specific_probs [0.11924211 0.58641564 0.29434225]\n",
      "specific_probs [0.48400022 0.20624646 0.30975332]\n",
      "specific_probs [0.01670393 0.91327419 0.07002188]\n",
      "specific_probs [0.12018466 0.00807489 0.87174045]\n",
      "specific_probs [0.12618685 0.01050373 0.86330942]\n",
      "specific_probs [0.04180361 0.95459451 0.00360187]\n",
      "specific_probs [2.28924067e-01 2.77206726e-04 7.70798726e-01]\n",
      "specific_probs [0.07356705 0.07059014 0.85584281]\n",
      "specific_probs [0.0114186  0.76232017 0.22626123]\n",
      "specific_probs [0.12159206 0.00654771 0.87186023]\n",
      "specific_probs [0.03254766 0.96015776 0.00729458]\n",
      "specific_probs [3.61632835e-01 9.60491231e-05 6.38271115e-01]\n",
      "specific_probs [0.63141192 0.36448286 0.00410522]\n",
      "specific_probs [0.73933    0.00400791 0.2566621 ]\n",
      "specific_probs [0.00504247 0.87694576 0.11801177]\n",
      "specific_probs [0.06311803 0.00101557 0.9358664 ]\n",
      "specific_probs [0.02138314 0.96590168 0.01271518]\n",
      "specific_probs [0.81705087 0.01088077 0.17206836]\n",
      "specific_probs [0.02533331 0.0080915  0.96657519]\n",
      "specific_probs [6.62516916e-01 1.29599395e-04 3.37353485e-01]\n",
      "specific_probs [0.01791404 0.81261244 0.16947352]\n",
      "specific_probs [0.03197886 0.93612427 0.03189687]\n",
      "specific_probs [0.97801424 0.00886032 0.01312544]\n",
      "specific_probs [0.13873321 0.83602959 0.02523721]\n",
      "specific_probs [0.02746102 0.70319549 0.2693435 ]\n",
      "specific_probs [0.25797821 0.00255505 0.73946674]\n",
      "specific_probs [0.01082874 0.97601407 0.01315718]\n",
      "specific_probs [0.1362345  0.85875791 0.00500759]\n",
      "specific_probs [0.30286573 0.15450221 0.54263206]\n",
      "specific_probs [0.11183595 0.1082508  0.77991325]\n",
      "specific_probs [0.02593302 0.81575853 0.15830844]\n",
      "specific_probs [8.87536615e-01 2.21810530e-04 1.12241574e-01]\n",
      "specific_probs [0.19503064 0.57443681 0.23053255]\n",
      "specific_probs [0.11063858 0.88155734 0.00780408]\n",
      "specific_probs [0.02833074 0.87971293 0.09195633]\n",
      "specific_probs [0.32795038 0.63444068 0.03760894]\n",
      "specific_probs [0.58638397 0.39493308 0.01868295]\n",
      "specific_probs [0.00324462 0.71371687 0.28303852]\n",
      "specific_probs [0.61370302 0.17971824 0.20657874]\n",
      "specific_probs [0.0622504  0.04945497 0.88829463]\n",
      "specific_probs [0.03256527 0.42653124 0.54090349]\n",
      "specific_probs [0.57345855 0.26281737 0.16372408]\n",
      "specific_probs [0.3561676  0.00371697 0.64011543]\n",
      "specific_probs [0.68127269 0.02555236 0.29317495]\n",
      "specific_probs [0.02203869 0.34885978 0.62910154]\n",
      "specific_probs [0.01681376 0.96751606 0.01567017]\n",
      "specific_probs [0.17193296 0.00261661 0.82545042]\n",
      "specific_probs [0.02524527 0.97057597 0.00417876]\n",
      "specific_probs [0.01265266 0.42308956 0.56425778]\n",
      "specific_probs [0.96158592 0.0161272  0.02228688]\n",
      "specific_probs [0.32198399 0.0009291  0.67708691]\n",
      "specific_probs [0.0601909  0.01708787 0.92272123]\n",
      "specific_probs [0.93856843 0.02239733 0.03903424]\n",
      "specific_probs [0.82370936 0.01571658 0.16057405]\n",
      "specific_probs [0.29509251 0.0459227  0.6589848 ]\n",
      "specific_probs [0.09586316 0.09282299 0.81131386]\n",
      "specific_probs [0.37953579 0.09105155 0.52941266]\n",
      "specific_probs [0.95634753 0.02652002 0.01713245]\n",
      "specific_probs [0.01230397 0.11863436 0.86906167]\n",
      "specific_probs [0.02861476 0.95123934 0.0201459 ]\n",
      "specific_probs [0.00529386 0.97810489 0.01660125]\n",
      "specific_probs [0.00503951 0.34438752 0.65057298]\n",
      "specific_probs [0.74295733 0.00868437 0.2483583 ]\n",
      "specific_probs [0.07046632 0.10765981 0.82187386]\n",
      "specific_probs [0.27187671 0.01185562 0.71626767]\n",
      "specific_probs [9.50463323e-01 4.82637045e-04 4.90540395e-02]\n",
      "specific_probs [0.09230065 0.30777029 0.59992906]\n",
      "specific_probs [0.20636416 0.76332507 0.03031077]\n",
      "specific_probs [0.08639359 0.89184742 0.02175898]\n",
      "specific_probs [0.88395428 0.02305874 0.09298697]\n",
      "specific_probs [0.47590518 0.00059625 0.52349857]\n",
      "specific_probs [0.94967236 0.01437269 0.03595495]\n",
      "specific_probs [0.03279754 0.9011581  0.06604436]\n",
      "specific_probs [0.04583947 0.78104057 0.17311996]\n",
      "specific_probs [0.04281955 0.41322883 0.54395163]\n",
      "specific_probs [0.01673908 0.02667297 0.95658795]\n",
      "specific_probs [0.0222991  0.93785559 0.03984531]\n",
      "specific_probs [0.51650523 0.0148008  0.46869398]\n",
      "specific_probs [0.01591564 0.00242611 0.98165825]\n",
      "specific_probs [0.00926329 0.05650759 0.93422911]\n",
      "specific_probs [0.01159384 0.7573336  0.23107256]\n",
      "specific_probs [0.40019017 0.22422613 0.3755837 ]\n",
      "specific_probs [0.98392203 0.01217035 0.00390761]\n",
      "specific_probs [0.35313339 0.63949394 0.00737267]\n",
      "specific_probs [0.09566112 0.77939418 0.1249447 ]\n",
      "specific_probs [0.11565938 0.01481483 0.8695258 ]\n",
      "specific_probs [0.14770428 0.04303053 0.80926519]\n",
      "specific_probs [0.07780385 0.89434978 0.02784637]\n",
      "specific_probs [0.02334111 0.01595356 0.96070533]\n",
      "specific_probs [0.0059925  0.98658189 0.00742561]\n",
      "specific_probs [0.01874754 0.97226481 0.00898766]\n",
      "specific_probs [0.04560344 0.01295536 0.9414412 ]\n",
      "specific_probs [0.07383415 0.15571999 0.77044585]\n",
      "specific_probs [0.48481722 0.02230266 0.49288012]\n",
      "specific_probs [0.13866248 0.83348245 0.02785508]\n",
      "specific_probs [0.9935313  0.00223337 0.00423533]\n",
      "specific_probs [0.2288166 0.008463  0.7627204]\n",
      "specific_probs [0.00690425 0.51629202 0.47680373]\n",
      "specific_probs [0.00458841 0.97347069 0.0219409 ]\n",
      "specific_probs [0.46471501 0.00440847 0.53087652]\n",
      "specific_probs [0.32724081 0.04755284 0.62520635]\n",
      "specific_probs [0.01283305 0.98310744 0.0040595 ]\n",
      "specific_probs [0.07074227 0.2291528  0.70010493]\n",
      "specific_probs [0.88711579 0.00403913 0.10884508]\n",
      "specific_probs [0.01874112 0.93824244 0.04301644]\n",
      "specific_probs [0.33750583 0.65811668 0.00437749]\n",
      "specific_probs [0.77958191 0.0324054  0.18801269]\n",
      "specific_probs [2.47512452e-01 2.43994598e-04 7.52243553e-01]\n",
      "specific_probs [0.01096921 0.9042926  0.08473819]\n",
      "specific_probs [0.33443264 0.0056454  0.65992195]\n",
      "specific_probs [0.96440694 0.00201314 0.03357992]\n",
      "specific_probs [0.22072692 0.00141301 0.77786007]\n",
      "specific_probs [0.05274272 0.8149449  0.13231238]\n",
      "specific_probs [8.31735971e-02 1.27567181e-04 9.16698836e-01]\n",
      "specific_probs [0.0168238  0.11345457 0.86972163]\n",
      "specific_probs [0.83564044 0.01091013 0.15344942]\n",
      "specific_probs [0.2793691  0.60628285 0.11434805]\n",
      "specific_probs [0.04004026 0.11183425 0.8481255 ]\n",
      "specific_probs [0.00832177 0.97954227 0.01213596]\n",
      "['FRE', 'SPA', 'JPN', 'HIN', 'TUR', 'TEL', 'SPA', 'TUR', 'CHI', 'ARA', 'HIN', 'ITA', 'ARA', 'TUR', 'FRE', 'ARA', 'GER', 'TUR', 'GER', 'KOR', 'HIN', 'FRE', 'HIN', 'GER', 'ITA', 'SPA', 'HIN', 'HIN', 'ARA', 'ITA', 'ARA', 'HIN', 'TEL', 'KOR', 'JPN', 'FRE', 'GER', 'ITA', 'KOR', 'TEL', 'SPA', 'ARA', 'ITA', 'SPA', 'KOR', 'ITA', 'GER', 'TUR', 'KOR', 'GER', 'TUR', 'SPA', 'FRE', 'HIN', 'TUR', 'ARA', 'KOR', 'ITA', 'FRE', 'KOR', 'GER', 'HIN', 'FRE', 'ARA', 'SPA', 'HIN', 'JPN', 'FRE', 'HIN', 'JPN', 'TEL', 'FRE', 'SPA', 'CHI', 'CHI', 'HIN', 'CHI', 'ARA', 'TUR', 'KOR', 'JPN', 'TEL', 'KOR', 'FRE', 'ITA', 'JPN', 'TEL', 'JPN', 'JPN', 'FRE', 'KOR', 'CHI', 'KOR', 'ITA', 'CHI', 'ARA', 'FRE', 'TUR', 'TEL', 'CHI', 'CHI', 'ITA', 'SPA', 'ARA', 'ITA', 'KOR', 'FRE', 'HIN', 'ITA', 'GER', 'JPN', 'KOR', 'TUR', 'SPA', 'GER', 'FRE', 'JPN', 'GER', 'SPA', 'FRE', 'ITA', 'JPN', 'TEL', 'KOR', 'ARA', 'ITA', 'KOR', 'ITA', 'KOR', 'FRE', 'ITA', 'KOR', 'SPA', 'CHI', 'JPN', 'JPN', 'SPA', 'CHI', 'SPA', 'GER', 'SPA', 'CHI', 'KOR', 'SPA', 'CHI', 'GER', 'TUR', 'ITA', 'FRE', 'CHI', 'ARA', 'CHI', 'JPN', 'TUR', 'GER', 'ITA', 'ITA', 'TEL', 'ITA', 'GER', 'TUR', 'TEL', 'SPA', 'KOR', 'KOR', 'JPN', 'FRE', 'JPN', 'CHI', 'KOR', 'JPN', 'ARA', 'TUR', 'TUR', 'GER', 'TUR', 'GER', 'FRE', 'ARA', 'JPN', 'GER', 'KOR', 'GER', 'SPA', 'TUR', 'ITA', 'TUR', 'ITA', 'GER', 'ARA', 'ARA', 'HIN', 'SPA', 'TEL', 'CHI', 'CHI', 'KOR', 'HIN', 'JPN', 'ARA', 'KOR', 'ARA', 'ARA', 'SPA', 'SPA', 'ITA', 'CHI', 'KOR', 'TEL', 'KOR', 'ITA', 'FRE', 'TUR', 'TEL', 'ITA', 'CHI', 'CHI', 'SPA', 'KOR', 'GER', 'GER', 'CHI', 'HIN', 'JPN', 'HIN', 'GER', 'GER', 'HIN', 'HIN', 'ITA', 'ITA', 'SPA', 'FRE', 'TUR', 'HIN', 'SPA', 'CHI', 'TEL', 'TUR', 'GER', 'FRE', 'FRE', 'CHI', 'ARA', 'FRE', 'ARA', 'HIN', 'KOR', 'CHI', 'TUR', 'ITA', 'SPA', 'KOR', 'CHI', 'TUR', 'HIN', 'CHI', 'HIN', 'CHI', 'FRE', 'ITA', 'GER', 'KOR', 'TUR', 'GER', 'GER', 'ITA', 'JPN', 'CHI', 'SPA', 'TEL', 'TEL', 'KOR', 'ARA', 'JPN', 'HIN', 'HIN', 'CHI', 'TUR', 'ITA', 'FRE', 'KOR', 'KOR', 'ARA', 'FRE', 'GER', 'KOR', 'ARA', 'KOR', 'SPA', 'SPA', 'SPA', 'FRE', 'JPN', 'ARA', 'CHI', 'FRE', 'JPN', 'HIN', 'JPN', 'FRE', 'KOR', 'ITA', 'ITA', 'TUR', 'SPA', 'JPN', 'ITA', 'GER', 'TUR', 'ARA', 'JPN', 'HIN', 'SPA', 'FRE', 'ITA', 'TUR', 'TEL', 'CHI', 'JPN', 'SPA', 'FRE', 'ARA', 'HIN', 'HIN', 'TEL', 'ARA', 'GER', 'CHI', 'HIN', 'TUR', 'JPN', 'FRE', 'GER', 'HIN', 'TUR', 'GER', 'JPN', 'ITA', 'JPN', 'ARA', 'TEL', 'TEL', 'KOR', 'FRE', 'GER', 'SPA', 'FRE', 'ARA', 'TEL', 'GER', 'TEL', 'ITA', 'TEL', 'ARA', 'CHI', 'SPA', 'SPA', 'SPA', 'CHI', 'TEL', 'TUR', 'JPN', 'TEL', 'HIN', 'CHI', 'HIN', 'SPA', 'GER', 'TEL', 'TEL', 'SPA', 'TUR', 'ARA', 'GER', 'TUR', 'HIN', 'ITA', 'KOR', 'GER', 'FRE', 'ITA', 'HIN', 'FRE', 'ITA', 'ITA', 'HIN', 'JPN', 'JPN', 'TUR', 'CHI', 'FRE', 'ITA', 'FRE', 'HIN', 'FRE', 'KOR', 'ITA', 'JPN', 'TEL', 'SPA', 'CHI', 'SPA', 'ITA', 'CHI', 'CHI', 'FRE', 'HIN', 'GER', 'CHI', 'CHI', 'KOR', 'TEL', 'FRE', 'HIN', 'ARA', 'HIN', 'ITA', 'SPA', 'SPA', 'HIN', 'TEL', 'TEL', 'KOR', 'FRE', 'KOR', 'GER', 'TEL', 'ITA', 'GER', 'TEL', 'ARA', 'GER', 'CHI', 'SPA', 'KOR', 'JPN', 'CHI', 'ITA', 'ITA', 'KOR', 'GER', 'KOR', 'CHI', 'ARA', 'ARA', 'ITA', 'GER', 'TEL', 'GER', 'ITA', 'TUR', 'ARA', 'ITA', 'ARA', 'JPN', 'ITA', 'GER', 'FRE', 'ARA', 'GER', 'JPN', 'TEL', 'TEL', 'KOR', 'JPN', 'HIN', 'ITA', 'TUR', 'TUR', 'SPA', 'TUR', 'HIN', 'JPN', 'CHI', 'CHI', 'CHI', 'TEL', 'KOR', 'ITA', 'TUR', 'CHI', 'GER', 'KOR', 'TUR', 'HIN', 'TUR', 'GER', 'CHI', 'FRE', 'CHI', 'GER', 'FRE', 'HIN', 'CHI', 'GER', 'CHI', 'ARA', 'ARA', 'KOR', 'CHI', 'KOR', 'CHI', 'HIN', 'TEL', 'TUR', 'KOR', 'HIN', 'GER', 'GER', 'SPA', 'CHI', 'TUR', 'TEL', 'GER', 'CHI', 'TEL', 'TUR', 'CHI', 'FRE', 'TEL', 'ITA', 'TEL', 'SPA', 'TEL', 'HIN', 'ARA', 'ARA', 'CHI', 'ITA', 'TEL', 'GER', 'CHI', 'CHI', 'TUR', 'FRE', 'ITA', 'KOR', 'JPN', 'SPA', 'KOR', 'TEL', 'FRE', 'ITA', 'SPA', 'GER', 'ITA', 'TUR', 'KOR', 'SPA', 'TEL', 'TEL', 'TEL', 'CHI', 'ITA', 'TUR', 'GER', 'HIN', 'TUR', 'JPN', 'TEL', 'FRE', 'TUR', 'HIN', 'TUR', 'CHI', 'ITA', 'KOR', 'ITA', 'TEL', 'JPN', 'KOR', 'ITA', 'KOR', 'ARA', 'GER', 'CHI', 'HIN', 'TUR', 'ITA', 'TEL', 'SPA', 'HIN', 'FRE', 'ARA', 'CHI', 'GER', 'FRE', 'TUR', 'CHI', 'ITA', 'TEL', 'ITA', 'KOR', 'CHI', 'ITA', 'FRE', 'JPN', 'CHI', 'FRE', 'TEL', 'TUR', 'CHI', 'TEL', 'CHI', 'SPA', 'ITA', 'CHI', 'TUR', 'GER', 'GER', 'FRE', 'ARA', 'SPA', 'GER', 'SPA', 'FRE', 'FRE', 'TEL', 'GER', 'JPN', 'ARA', 'TEL', 'CHI', 'ITA', 'KOR', 'TEL', 'ITA', 'HIN', 'TUR', 'FRE', 'ITA', 'CHI', 'KOR', 'CHI', 'SPA', 'KOR', 'JPN', 'FRE', 'TUR', 'KOR', 'HIN', 'TUR', 'TUR', 'JPN', 'FRE', 'ARA', 'SPA', 'FRE', 'CHI', 'KOR', 'FRE', 'TEL', 'TEL', 'JPN', 'KOR', 'FRE', 'GER', 'HIN', 'FRE', 'FRE', 'TEL', 'ITA', 'ITA', 'FRE', 'ARA', 'KOR', 'HIN', 'TUR', 'HIN', 'GER', 'TEL', 'ITA', 'SPA', 'SPA', 'ARA', 'ITA', 'TEL', 'ITA', 'TEL', 'HIN', 'HIN', 'TEL', 'TUR', 'ARA', 'TUR', 'SPA', 'TEL', 'ITA', 'ITA', 'ITA', 'JPN', 'FRE', 'SPA', 'ARA', 'ITA', 'CHI', 'CHI', 'HIN', 'FRE', 'HIN', 'HIN', 'SPA', 'GER', 'CHI', 'ARA', 'GER', 'CHI', 'JPN', 'CHI', 'JPN', 'TUR', 'CHI', 'ITA', 'KOR', 'SPA', 'TUR', 'HIN', 'ARA', 'FRE', 'TUR', 'GER', 'FRE', 'JPN', 'JPN', 'TEL', 'KOR', 'TEL', 'FRE', 'SPA', 'GER', 'ARA', 'HIN', 'CHI', 'KOR', 'ITA', 'ITA', 'TUR', 'KOR', 'SPA', 'GER', 'TEL', 'ARA', 'FRE', 'CHI', 'GER', 'HIN', 'ARA', 'ITA', 'TEL', 'GER', 'ITA', 'ITA', 'CHI', 'HIN', 'HIN', 'FRE', 'ARA', 'TUR', 'CHI', 'JPN', 'TEL', 'KOR', 'ARA', 'GER', 'FRE', 'JPN', 'CHI', 'TEL', 'JPN', 'KOR', 'HIN', 'CHI', 'ARA', 'JPN', 'TEL', 'GER', 'TUR', 'HIN', 'HIN', 'TEL', 'SPA', 'JPN', 'CHI', 'CHI', 'CHI', 'KOR', 'GER', 'ARA', 'ARA', 'FRE', 'TUR', 'FRE', 'FRE', 'TEL', 'TUR', 'TEL', 'ARA', 'CHI', 'FRE', 'ARA', 'ITA', 'SPA', 'TEL', 'JPN', 'CHI', 'TEL', 'TEL', 'TUR', 'JPN', 'TUR', 'JPN', 'KOR', 'ITA', 'TEL', 'JPN', 'CHI', 'TUR', 'ITA', 'ITA', 'CHI', 'ITA', 'KOR', 'KOR', 'ITA', 'ARA', 'KOR', 'FRE', 'TEL', 'ITA', 'JPN', 'GER', 'CHI', 'GER', 'CHI', 'ARA', 'ITA', 'CHI', 'TUR', 'FRE', 'HIN', 'FRE', 'HIN', 'HIN', 'FRE', 'KOR', 'ITA', 'SPA', 'CHI', 'CHI', 'KOR', 'SPA', 'TUR', 'FRE', 'HIN', 'TUR', 'CHI', 'CHI', 'GER', 'GER', 'CHI', 'HIN', 'TEL', 'FRE', 'TUR', 'HIN', 'ARA', 'TUR', 'TEL', 'HIN', 'JPN', 'SPA', 'HIN', 'KOR', 'HIN', 'TEL', 'GER', 'GER', 'JPN', 'JPN', 'SPA', 'ITA', 'TUR', 'SPA', 'ITA', 'ITA', 'ITA', 'TUR', 'FRE', 'JPN', 'KOR', 'JPN', 'KOR', 'SPA', 'HIN', 'HIN', 'GER', 'KOR', 'KOR', 'TEL', 'HIN', 'GER', 'HIN', 'TUR', 'KOR', 'SPA', 'ARA', 'ITA', 'TEL', 'TEL', 'HIN', 'KOR', 'TUR', 'KOR', 'SPA', 'KOR', 'HIN', 'GER', 'KOR', 'TEL', 'KOR', 'CHI', 'TUR', 'SPA', 'CHI', 'KOR', 'TUR', 'TEL', 'TEL', 'SPA', 'TEL', 'CHI', 'KOR', 'KOR', 'FRE', 'TUR', 'HIN', 'ARA', 'TUR', 'FRE', 'ARA', 'JPN', 'KOR', 'GER', 'KOR', 'GER', 'SPA', 'KOR', 'SPA', 'TUR', 'FRE', 'TEL', 'ARA', 'SPA', 'ARA', 'CHI', 'HIN', 'FRE', 'ITA', 'SPA', 'GER', 'SPA', 'JPN', 'ITA', 'TEL', 'HIN', 'ITA', 'JPN', 'ITA', 'KOR', 'FRE', 'SPA', 'ARA', 'HIN', 'TEL', 'TEL', 'SPA', 'TEL', 'JPN', 'HIN', 'TEL', 'HIN', 'GER', 'HIN', 'CHI', 'GER', 'GER', 'GER', 'SPA', 'JPN', 'JPN', 'ITA', 'GER', 'KOR', 'SPA', 'CHI', 'GER', 'ITA', 'GER', 'ITA', 'TEL', 'ARA', 'GER', 'HIN', 'FRE', 'TEL', 'KOR', 'KOR', 'JPN', 'HIN', 'FRE', 'CHI', 'CHI', 'SPA', 'TEL', 'ITA', 'JPN', 'GER', 'CHI', 'HIN', 'CHI', 'SPA', 'HIN', 'TEL', 'JPN', 'TUR', 'TUR', 'ARA', 'GER', 'TUR', 'FRE', 'HIN', 'TEL', 'JPN', 'KOR', 'ARA', 'TEL', 'FRE', 'HIN', 'ARA', 'TEL', 'ITA', 'CHI', 'ITA', 'SPA', 'CHI', 'KOR', 'ITA', 'TUR', 'ITA', 'SPA', 'TEL', 'ARA', 'ITA', 'TEL', 'SPA', 'GER', 'ARA', 'JPN', 'TUR', 'TUR', 'SPA', 'KOR', 'JPN', 'ITA', 'TEL', 'HIN', 'TUR', 'HIN', 'TUR', 'FRE', 'TEL', 'ITA', 'SPA', 'ITA', 'ITA', 'TEL', 'ITA', 'GER', 'SPA', 'HIN', 'ARA', 'SPA', 'JPN', 'CHI', 'ARA', 'TUR', 'JPN', 'JPN', 'JPN', 'TEL', 'SPA', 'JPN', 'CHI', 'CHI', 'ARA', 'JPN', 'JPN', 'GER', 'HIN', 'CHI', 'TEL', 'CHI', 'TUR', 'TUR', 'ARA', 'FRE', 'ITA', 'SPA', 'SPA', 'FRE', 'KOR', 'JPN', 'TEL', 'KOR', 'ARA', 'ITA', 'CHI', 'SPA', 'JPN', 'KOR', 'TEL', 'TUR', 'CHI', 'KOR', 'TUR', 'GER', 'CHI', 'TUR', 'TUR', 'GER', 'ARA', 'FRE', 'HIN', 'SPA', 'CHI', 'HIN', 'KOR', 'KOR', 'SPA', 'TUR', 'HIN', 'JPN', 'FRE', 'ITA', 'FRE', 'TUR', 'HIN', 'TEL', 'SPA', 'ITA', 'GER', 'HIN', 'SPA', 'TUR', 'KOR', 'SPA', 'ARA', 'JPN', 'ITA', 'GER', 'CHI', 'FRE', 'KOR', 'HIN', 'CHI', 'CHI', 'CHI', 'SPA', 'HIN', 'TEL', 'ARA', 'JPN', 'JPN', 'SPA', 'CHI', 'SPA', 'JPN', 'SPA', 'HIN', 'HIN', 'TEL', 'SPA', 'ARA', 'SPA', 'SPA', 'FRE', 'SPA', 'ARA', 'JPN', 'JPN', 'HIN', 'SPA', 'GER', 'ARA', 'TUR', 'CHI', 'SPA', 'CHI', 'SPA', 'GER', 'HIN', 'FRE', 'KOR', 'ARA', 'SPA', 'TUR', 'ARA', 'GER', 'TEL', 'FRE', 'HIN', 'ARA', 'FRE', 'CHI', 'ITA', 'ITA', 'SPA', 'JPN', 'JPN', 'SPA', 'SPA', 'CHI', 'TUR', 'JPN', 'KOR', 'SPA', 'TEL', 'SPA', 'FRE', 'FRE', 'HIN', 'JPN', 'KOR', 'KOR', 'TEL', 'GER', 'CHI', 'ITA', 'ARA', 'TEL', 'FRE', 'JPN', 'CHI', 'ARA', 'TUR', 'KOR', 'KOR', 'SPA', 'TUR', 'ITA', 'KOR', 'FRE', 'TEL', 'CHI', 'JPN', 'FRE', 'KOR', 'JPN', 'TUR', 'CHI', 'FRE', 'CHI', 'CHI', 'ARA', 'CHI', 'JPN', 'ITA', 'ARA', 'GER', 'HIN', 'JPN', 'HIN', 'ITA', 'CHI', 'KOR', 'HIN', 'ITA', 'ARA', 'JPN', 'ITA', 'CHI', 'FRE', 'FRE', 'ITA', 'KOR', 'ITA', 'FRE', 'TUR', 'TEL', 'HIN', 'CHI', 'TEL', 'SPA', 'HIN', 'TEL', 'CHI', 'CHI', 'TUR', 'HIN', 'ARA', 'FRE', 'CHI', 'HIN', 'CHI', 'CHI', 'TEL', 'JPN', 'TEL', 'FRE', 'GER', 'JPN', 'ITA', 'SPA', 'GER', 'HIN', 'JPN', 'JPN', 'ARA', 'CHI', 'TEL', 'TUR', 'ARA', 'ITA', 'KOR', 'CHI', 'CHI', 'CHI', 'ITA', 'ARA', 'KOR', 'ARA', 'HIN', 'CHI', 'SPA', 'KOR', 'ITA', 'KOR', 'CHI', 'FRE', 'HIN', 'CHI', 'KOR', 'TEL', 'TEL', 'ITA', 'CHI', 'ARA', 'SPA', 'SPA', 'SPA', 'ITA', 'ARA', 'GER', 'FRE', 'TUR', 'KOR', 'CHI', 'CHI', 'HIN', 'SPA', 'SPA', 'SPA', 'TEL', 'FRE', 'HIN', 'FRE', 'SPA', 'CHI', 'TUR', 'TUR', 'JPN', 'HIN', 'GER', 'TEL', 'JPN', 'JPN', 'JPN', 'KOR', 'JPN', 'SPA', 'ITA', 'KOR', 'ITA', 'TUR', 'SPA', 'GER', 'FRE', 'JPN', 'SPA', 'ARA', 'JPN', 'TUR', 'KOR', 'TEL', 'ITA', 'CHI', 'GER', 'HIN', 'HIN', 'TUR', 'TEL', 'FRE', 'ARA', 'SPA', 'KOR', 'SPA', 'TEL', 'CHI', 'SPA', 'KOR', 'JPN', 'GER', 'SPA', 'TEL', 'ITA', 'FRE', 'KOR', 'ARA', 'TUR', 'HIN', 'SPA', 'FRE', 'GER', 'ARA', 'CHI', 'TEL', 'TEL', 'KOR', 'HIN', 'KOR', 'ARA', 'CHI', 'FRE', 'TUR', 'CHI', 'TUR', 'TUR', 'SPA', 'HIN', 'HIN', 'HIN', 'HIN', 'TEL', 'ITA', 'TUR', 'CHI', 'CHI', 'HIN', 'FRE', 'TEL', 'FRE', 'ARA', 'ARA', 'SPA', 'TEL', 'CHI', 'JPN', 'JPN', 'SPA', 'ITA', 'JPN', 'HIN', 'ITA', 'TEL', 'TUR', 'GER', 'SPA', 'TUR', 'GER', 'HIN', 'SPA', 'KOR', 'HIN', 'HIN', 'ARA', 'KOR', 'ITA', 'TEL', 'ITA', 'GER', 'TEL', 'ITA', 'TEL', 'JPN', 'TEL', 'FRE', 'SPA', 'FRE', 'FRE', 'SPA', 'JPN', 'HIN', 'GER', 'JPN', 'FRE', 'ITA', 'GER', 'CHI', 'JPN', 'HIN', 'GER', 'TEL', 'GER', 'SPA', 'ITA', 'KOR', 'ARA', 'FRE', 'FRE', 'SPA', 'KOR', 'ARA', 'KOR', 'TUR', 'ITA', 'ARA', 'ARA', 'KOR', 'KOR', 'GER', 'KOR', 'KOR', 'FRE', 'TEL', 'HIN', 'TEL', 'KOR', 'ITA', 'CHI', 'GER', 'FRE', 'KOR', 'FRE', 'HIN', 'TEL', 'KOR', 'GER', 'FRE', 'TEL', 'GER', 'HIN', 'TUR', 'KOR', 'HIN', 'ARA', 'FRE', 'ARA', 'CHI', 'JPN', 'JPN', 'ARA', 'JPN', 'JPN', 'TEL', 'JPN', 'ITA', 'HIN', 'KOR', 'SPA', 'KOR', 'TEL', 'CHI', 'TUR', 'TEL', 'ITA', 'TEL', 'ARA', 'TUR', 'ARA', 'HIN', 'SPA', 'FRE', 'GER', 'ITA', 'TUR', 'GER', 'FRE', 'ARA', 'JPN', 'CHI', 'TUR', 'CHI', 'SPA', 'TUR', 'JPN', 'GER', 'SPA', 'FRE', 'FRE', 'TEL', 'HIN', 'TEL', 'TEL', 'TEL', 'CHI', 'CHI', 'CHI', 'CHI', 'HIN', 'GER', 'GER', 'JPN', 'TEL', 'TUR', 'KOR', 'GER', 'TEL', 'JPN', 'ITA', 'ARA', 'TEL', 'ITA', 'KOR', 'TEL', 'SPA', 'CHI', 'CHI', 'ARA', 'FRE', 'HIN', 'GER', 'TEL', 'TEL', 'FRE', 'GER', 'ITA', 'GER', 'TUR', 'GER', 'JPN', 'GER', 'TEL', 'CHI', 'KOR', 'TUR', 'ITA', 'JPN', 'CHI', 'FRE', 'GER', 'GER', 'TUR', 'GER', 'TUR', 'GER', 'KOR', 'KOR', 'SPA', 'SPA', 'FRE', 'KOR', 'ARA', 'TEL', 'TUR', 'HIN', 'KOR', 'CHI', 'HIN', 'KOR', 'KOR', 'SPA', 'GER', 'FRE', 'ITA', 'ITA', 'JPN', 'ARA', 'TEL', 'SPA', 'SPA', 'KOR', 'FRE', 'ITA', 'SPA', 'FRE', 'CHI', 'ARA', 'HIN', 'CHI', 'TUR', 'CHI', 'KOR', 'GER', 'CHI', 'HIN', 'HIN', 'JPN', 'FRE', 'TUR', 'JPN', 'ITA', 'ARA', 'SPA', 'HIN', 'JPN', 'HIN', 'JPN', 'CHI', 'GER', 'FRE', 'SPA', 'SPA', 'TUR', 'TEL', 'CHI', 'TUR', 'TEL', 'ITA', 'GER', 'HIN', 'SPA', 'HIN', 'TUR', 'KOR', 'ITA', 'CHI', 'SPA', 'SPA', 'HIN', 'TUR', 'GER', 'GER', 'FRE', 'SPA', 'CHI', 'TUR', 'CHI', 'ARA', 'CHI', 'ITA', 'ARA', 'ITA', 'ARA', 'CHI', 'TEL', 'SPA', 'SPA', 'JPN', 'TEL', 'FRE', 'CHI', 'SPA', 'SPA', 'SPA', 'CHI', 'TUR', 'TUR', 'ITA', 'GER', 'TEL', 'GER', 'CHI', 'CHI', 'CHI', 'GER', 'GER', 'GER', 'KOR', 'KOR', 'KOR', 'CHI', 'KOR', 'ITA', 'HIN', 'TUR', 'TUR', 'CHI', 'CHI', 'JPN', 'FRE', 'KOR', 'TUR', 'SPA', 'ARA', 'KOR', 'SPA', 'FRE', 'TUR', 'GER', 'GER', 'JPN', 'TEL', 'TEL', 'GER', 'ARA', 'TUR', 'CHI', 'ARA', 'CHI', 'KOR', 'TEL', 'FRE', 'TEL', 'GER', 'FRE', 'CHI', 'ARA', 'TEL', 'FRE', 'ITA', 'SPA', 'TEL', 'JPN', 'KOR', 'JPN', 'KOR', 'HIN', 'GER', 'TEL', 'TEL', 'TEL', 'ITA', 'GER', 'ARA', 'TUR', 'ARA', 'CHI', 'TEL', 'ITA', 'ARA', 'ARA', 'SPA', 'ITA', 'SPA', 'SPA', 'CHI', 'ITA', 'KOR', 'ITA', 'FRE', 'GER', 'ARA', 'ITA', 'HIN', 'ITA', 'ITA', 'ITA', 'TUR', 'HIN', 'SPA', 'SPA', 'SPA', 'TEL', 'TUR', 'JPN', 'JPN', 'TUR', 'SPA', 'TUR', 'CHI', 'ARA', 'ARA', 'CHI', 'FRE', 'KOR', 'TEL', 'ITA', 'CHI', 'TEL', 'FRE', 'GER', 'KOR', 'TEL', 'JPN', 'FRE', 'FRE', 'HIN', 'KOR', 'JPN', 'GER', 'ARA', 'ITA', 'HIN', 'JPN', 'TUR', 'CHI', 'CHI', 'JPN', 'FRE', 'GER', 'KOR', 'TEL', 'TUR', 'TUR', 'KOR', 'KOR', 'GER', 'FRE', 'JPN', 'FRE', 'HIN', 'ITA', 'TEL', 'ARA', 'KOR', 'ARA', 'SPA', 'KOR', 'TEL', 'JPN', 'HIN', 'KOR', 'JPN', 'SPA', 'HIN', 'CHI', 'HIN', 'TUR', 'TUR', 'KOR', 'HIN', 'KOR', 'JPN', 'ITA', 'TUR', 'ITA', 'FRE', 'JPN', 'ARA', 'CHI', 'JPN', 'HIN', 'ARA', 'SPA', 'FRE', 'ARA', 'KOR', 'TEL', 'TEL', 'FRE', 'KOR', 'FRE', 'JPN', 'ARA', 'JPN', 'FRE', 'ITA', 'CHI', 'ITA', 'JPN', 'GER', 'ITA', 'ARA', 'JPN', 'TUR', 'KOR', 'GER', 'TEL', 'TUR', 'GER', 'KOR', 'TUR', 'TEL', 'FRE', 'SPA', 'JPN', 'CHI', 'TEL', 'SPA', 'HIN', 'CHI', 'SPA', 'CHI', 'ITA', 'JPN', 'SPA', 'SPA', 'KOR', 'HIN', 'ITA', 'ARA', 'ARA', 'ARA', 'ITA', 'ITA', 'FRE', 'HIN', 'TEL', 'CHI']\n",
      "specific_probs [1.77202474e-01 1.30542052e-04 8.22666984e-01]\n",
      "specific_probs [0.01419826 0.97864609 0.00715565]\n",
      "specific_probs [9.20741062e-01 2.99523761e-04 7.89594139e-02]\n",
      "specific_probs [0.02438997 0.16943168 0.80617835]\n",
      "specific_probs [0.2868808  0.0716045  0.64151471]\n",
      "specific_probs [0.40057261 0.09929721 0.50013018]\n",
      "specific_probs [0.06709412 0.00099033 0.93191555]\n",
      "specific_probs [0.35886579 0.43286846 0.20826575]\n",
      "specific_probs [0.07058828 0.03646547 0.89294625]\n",
      "specific_probs [0.06075902 0.45575894 0.48348204]\n",
      "specific_probs [0.88343133 0.02314174 0.09342694]\n",
      "specific_probs [1.33913096e-01 1.59324016e-04 8.65927580e-01]\n",
      "specific_probs [0.0183887 0.9290758 0.0525355]\n",
      "specific_probs [0.04319886 0.79014948 0.16665166]\n",
      "specific_probs [0.19418827 0.14006662 0.6657451 ]\n",
      "specific_probs [0.01081175 0.02594733 0.96324092]\n",
      "specific_probs [0.03365019 0.93816399 0.02818582]\n",
      "specific_probs [9.74509958e-01 2.94327147e-04 2.51957150e-02]\n",
      "specific_probs [0.09907072 0.01558628 0.88534301]\n",
      "specific_probs [0.07274483 0.9216231  0.00563208]\n",
      "specific_probs [9.70966507e-01 3.98791282e-04 2.86347018e-02]\n",
      "specific_probs [0.99013761 0.00771011 0.00215228]\n",
      "specific_probs [0.97385703 0.00746693 0.01867604]\n",
      "specific_probs [0.00491647 0.28341007 0.71167345]\n",
      "specific_probs [0.95099384 0.002882   0.04612416]\n",
      "specific_probs [0.12341721 0.0105314  0.86605139]\n",
      "specific_probs [0.54164747 0.00376466 0.45458786]\n",
      "specific_probs [7.57227747e-02 9.23815925e-01 4.61300540e-04]\n",
      "specific_probs [0.01753654 0.67688175 0.30558171]\n",
      "specific_probs [0.12292939 0.00180621 0.8752644 ]\n",
      "specific_probs [0.85323608 0.03356053 0.11320339]\n",
      "specific_probs [0.54682394 0.44945715 0.00371892]\n",
      "specific_probs [0.61920617 0.37623303 0.0045608 ]\n",
      "specific_probs [0.19543257 0.16723274 0.63733469]\n",
      "specific_probs [0.02767227 0.04029072 0.93203702]\n",
      "specific_probs [0.19119653 0.78297094 0.02583253]\n",
      "specific_probs [9.92475544e-01 4.35146652e-04 7.08930941e-03]\n",
      "specific_probs [0.07716991 0.04539573 0.87743435]\n",
      "specific_probs [0.7648561  0.00737141 0.22777249]\n",
      "specific_probs [0.0737082  0.05518576 0.87110604]\n",
      "specific_probs [0.83691999 0.00890679 0.15417322]\n",
      "specific_probs [0.06429581 0.11349208 0.8222121 ]\n",
      "specific_probs [0.15788806 0.81955502 0.02255692]\n",
      "specific_probs [9.98796558e-01 9.24130785e-04 2.79311446e-04]\n",
      "specific_probs [0.0237255  0.90884521 0.06742929]\n",
      "specific_probs [0.51541372 0.44340416 0.04118211]\n",
      "specific_probs [0.01876591 0.96879211 0.01244198]\n",
      "specific_probs [8.97132003e-01 8.96494266e-04 1.01971503e-01]\n",
      "specific_probs [0.01164753 0.34858055 0.63977192]\n",
      "specific_probs [0.02621711 0.02873392 0.94504897]\n",
      "specific_probs [0.03935185 0.0184875  0.94216065]\n",
      "specific_probs [0.00314472 0.88952092 0.10733436]\n",
      "specific_probs [0.13300804 0.00184278 0.86514919]\n",
      "specific_probs [0.04168255 0.0025528  0.95576465]\n",
      "specific_probs [0.06216149 0.75350254 0.18433597]\n",
      "specific_probs [0.08464273 0.90770392 0.00765334]\n",
      "specific_probs [5.59172882e-01 3.74016738e-05 4.40789716e-01]\n",
      "specific_probs [0.02035722 0.90618636 0.07345641]\n",
      "specific_probs [0.29527889 0.07275705 0.63196406]\n",
      "specific_probs [0.39665819 0.02432125 0.57902056]\n",
      "specific_probs [0.87324379 0.01985161 0.1069046 ]\n",
      "specific_probs [0.96022151 0.00192585 0.03785264]\n",
      "specific_probs [0.11026333 0.05264374 0.83709293]\n",
      "specific_probs [0.18434779 0.23727647 0.57837574]\n",
      "specific_probs [0.43182806 0.43902625 0.12914569]\n",
      "specific_probs [0.64134327 0.00109408 0.35756265]\n",
      "specific_probs [0.04745257 0.89394607 0.05860136]\n",
      "specific_probs [0.03976716 0.85777774 0.1024551 ]\n",
      "specific_probs [0.17476479 0.68424079 0.14099442]\n",
      "specific_probs [6.35573422e-02 3.42528624e-04 9.36100129e-01]\n",
      "specific_probs [0.12750846 0.83035921 0.04213233]\n",
      "specific_probs [0.11797656 0.86720372 0.01481972]\n",
      "specific_probs [0.00905064 0.80079058 0.19015879]\n",
      "specific_probs [0.01421624 0.9692731  0.01651066]\n",
      "specific_probs [5.53183122e-01 8.35845632e-06 4.46808520e-01]\n",
      "specific_probs [0.19661529 0.26458977 0.53879494]\n",
      "specific_probs [0.93571449 0.00221802 0.06206749]\n",
      "specific_probs [0.00599537 0.96694884 0.02705579]\n",
      "specific_probs [0.24868482 0.45960189 0.29171329]\n",
      "specific_probs [8.98824491e-01 1.28493694e-04 1.01047016e-01]\n",
      "specific_probs [0.86592561 0.01556404 0.11851036]\n",
      "specific_probs [0.94833044 0.00622408 0.04544548]\n",
      "specific_probs [0.51393381 0.04457834 0.44148785]\n",
      "specific_probs [0.96682664 0.00100464 0.03216872]\n",
      "specific_probs [0.77512686 0.05183479 0.17303835]\n",
      "specific_probs [0.96111697 0.02048538 0.01839765]\n",
      "specific_probs [0.93607152 0.01369849 0.05023   ]\n",
      "specific_probs [0.00535061 0.94262725 0.05202214]\n",
      "specific_probs [9.98328077e-01 1.17620068e-03 4.95722186e-04]\n",
      "specific_probs [0.01117339 0.75683122 0.23199539]\n",
      "specific_probs [0.87328083 0.12574648 0.00097269]\n",
      "specific_probs [0.00773772 0.96969319 0.02256909]\n",
      "specific_probs [0.11426805 0.00317525 0.8825567 ]\n",
      "specific_probs [0.11742429 0.00824175 0.87433396]\n",
      "specific_probs [0.32040724 0.15206817 0.52752459]\n",
      "specific_probs [0.00924971 0.83431271 0.15643758]\n",
      "specific_probs [0.87418581 0.08484923 0.04096497]\n",
      "specific_probs [0.00605011 0.50457355 0.48937633]\n",
      "specific_probs [0.1511402  0.01152913 0.83733067]\n",
      "specific_probs [0.36934172 0.03562423 0.59503406]\n",
      "specific_probs [0.20021174 0.0092424  0.79054586]\n",
      "specific_probs [0.91288505 0.00327162 0.08384333]\n",
      "specific_probs [0.11102338 0.21310777 0.67586886]\n",
      "specific_probs [0.26103373 0.49207509 0.24689118]\n",
      "specific_probs [0.71123842 0.00494305 0.28381853]\n",
      "specific_probs [0.07614114 0.02357784 0.90028103]\n",
      "specific_probs [0.9051502  0.0618153  0.03303451]\n",
      "specific_probs [2.21401726e-01 3.47911558e-04 7.78250363e-01]\n",
      "specific_probs [0.02767614 0.67211542 0.30020845]\n",
      "specific_probs [1.12331623e-01 2.93651042e-04 8.87374726e-01]\n",
      "specific_probs [0.59510053 0.22131227 0.1835872 ]\n",
      "specific_probs [0.0079814  0.132077   0.85994161]\n",
      "specific_probs [0.13701473 0.39742447 0.4655608 ]\n",
      "specific_probs [0.22011723 0.75062523 0.02925755]\n",
      "specific_probs [3.80847526e-02 9.61001197e-01 9.14050735e-04]\n",
      "specific_probs [0.02312312 0.92832645 0.04855043]\n",
      "specific_probs [0.88411578 0.00116887 0.11471535]\n",
      "specific_probs [0.02661698 0.82109867 0.15228436]\n",
      "specific_probs [0.01255402 0.00505404 0.98239194]\n",
      "specific_probs [0.55209206 0.23041669 0.21749126]\n",
      "specific_probs [0.04504865 0.94808035 0.00687099]\n",
      "specific_probs [0.02025369 0.89802159 0.08172472]\n",
      "specific_probs [0.01418636 0.91313577 0.07267787]\n",
      "specific_probs [0.08702354 0.00721012 0.90576634]\n",
      "specific_probs [0.12686742 0.05290402 0.82022855]\n",
      "specific_probs [0.96616114 0.00777022 0.02606864]\n",
      "specific_probs [0.08579854 0.50580365 0.4083978 ]\n",
      "specific_probs [0.05362928 0.92242094 0.02394979]\n",
      "specific_probs [0.78355979 0.02670157 0.18973864]\n",
      "specific_probs [0.05883944 0.12250374 0.81865682]\n",
      "specific_probs [0.1849156  0.19886778 0.61621662]\n",
      "specific_probs [0.00247964 0.06299645 0.93452391]\n",
      "specific_probs [0.01702233 0.00750373 0.97547393]\n",
      "specific_probs [0.03209366 0.89046285 0.07744349]\n",
      "specific_probs [0.98861139 0.00196569 0.00942292]\n",
      "specific_probs [0.01425569 0.98080555 0.00493876]\n",
      "specific_probs [0.06398317 0.01711579 0.91890104]\n",
      "specific_probs [0.41510269 0.01115532 0.57374199]\n",
      "specific_probs [5.87722351e-01 1.54533601e-04 4.12123116e-01]\n",
      "specific_probs [0.02561672 0.76823451 0.20614876]\n",
      "specific_probs [0.40292547 0.15513792 0.44193661]\n",
      "specific_probs [0.20658669 0.00111785 0.79229546]\n",
      "specific_probs [0.29940559 0.03301241 0.66758199]\n",
      "specific_probs [0.10521542 0.00297803 0.89180656]\n",
      "specific_probs [0.00165959 0.17696254 0.82137787]\n",
      "specific_probs [0.9794289  0.00470939 0.01586172]\n",
      "specific_probs [0.01277306 0.91309473 0.07413221]\n",
      "['SPA', 'HIN', 'TUR', 'JPN', 'GER', 'JPN', 'HIN', 'JPN', 'GER', 'CHI', 'SPA', 'JPN', 'HIN', 'SPA', 'CHI', 'SPA', 'ARA', 'HIN', 'ARA', 'KOR', 'CHI', 'HIN', 'SPA', 'TUR', 'ITA', 'HIN', 'FRE', 'TEL', 'JPN', 'ARA', 'ARA', 'ITA', 'FRE', 'TEL', 'TUR', 'KOR', 'JPN', 'JPN', 'SPA', 'SPA', 'ARA', 'HIN', 'CHI', 'TUR', 'ARA', 'TUR', 'FRE', 'ITA', 'JPN', 'CHI', 'JPN', 'JPN', 'ARA', 'TEL', 'ARA', 'FRE', 'TUR', 'CHI', 'SPA', 'TEL', 'SPA', 'TUR', 'TEL', 'TUR', 'FRE', 'TUR', 'ITA', 'JPN', 'CHI', 'KOR', 'GER', 'HIN', 'KOR', 'GER', 'HIN', 'KOR', 'KOR', 'SPA', 'HIN', 'GER', 'KOR', 'ITA', 'CHI', 'ARA', 'ITA', 'SPA', 'KOR', 'GER', 'ITA', 'TEL', 'TUR', 'SPA', 'SPA', 'GER', 'GER', 'KOR', 'HIN', 'HIN', 'GER', 'KOR', 'SPA', 'FRE', 'FRE', 'GER', 'HIN', 'TUR', 'ITA', 'GER', 'SPA', 'CHI', 'TEL', 'ARA', 'GER', 'ITA', 'ARA', 'TEL', 'HIN', 'CHI', 'FRE', 'TUR', 'FRE', 'TEL', 'KOR', 'FRE', 'FRE', 'JPN', 'JPN', 'TEL', 'TUR', 'JPN', 'ITA', 'GER', 'CHI', 'JPN', 'TEL', 'FRE', 'ITA', 'HIN', 'ITA', 'TUR', 'CHI', 'FRE', 'FRE', 'TEL', 'ARA', 'ARA', 'TEL', 'JPN', 'SPA', 'JPN', 'JPN', 'KOR', 'TUR', 'CHI', 'ITA', 'JPN', 'JPN', 'SPA', 'FRE', 'JPN', 'HIN', 'TUR', 'SPA', 'ARA', 'SPA', 'TUR', 'GER', 'FRE', 'TEL', 'KOR', 'TEL', 'GER', 'FRE', 'TEL', 'TEL', 'JPN', 'TUR', 'SPA', 'TUR', 'FRE', 'GER', 'SPA', 'ARA', 'CHI', 'KOR', 'TUR', 'GER', 'ARA', 'KOR', 'CHI', 'ITA', 'JPN', 'ITA', 'TUR', 'TUR', 'GER', 'HIN', 'GER', 'ITA', 'TEL', 'ITA', 'GER', 'KOR', 'ITA', 'HIN', 'ARA', 'ARA', 'SPA', 'SPA', 'FRE', 'ITA', 'SPA', 'KOR', 'SPA', 'FRE', 'ITA', 'FRE', 'FRE', 'JPN', 'CHI', 'FRE', 'TEL', 'HIN', 'HIN', 'KOR', 'SPA', 'TUR', 'TEL', 'KOR', 'HIN', 'ITA', 'SPA', 'KOR', 'CHI', 'ITA', 'FRE', 'ITA', 'TEL', 'FRE', 'FRE', 'ARA', 'KOR', 'ITA', 'ITA', 'TUR', 'KOR', 'ARA', 'TEL', 'ITA', 'TEL', 'CHI', 'JPN', 'TEL', 'ARA', 'HIN', 'FRE', 'CHI', 'ARA', 'FRE', 'TUR', 'ITA', 'ARA', 'CHI', 'CHI', 'TEL', 'SPA', 'TEL', 'FRE', 'ARA', 'TEL', 'TUR', 'ARA', 'KOR', 'TUR', 'CHI', 'GER', 'HIN', 'TEL', 'GER', 'JPN', 'SPA', 'ARA', 'CHI', 'ARA', 'TEL', 'KOR', 'JPN', 'CHI', 'JPN', 'SPA', 'FRE', 'HIN', 'GER', 'TEL', 'CHI', 'KOR', 'ARA', 'HIN', 'ARA', 'ARA', 'GER', 'JPN', 'GER', 'ITA', 'FRE', 'KOR', 'FRE', 'KOR', 'CHI', 'GER', 'ARA', 'TUR', 'TUR', 'JPN', 'KOR', 'HIN', 'TUR', 'ITA', 'ARA', 'HIN', 'SPA', 'SPA', 'HIN', 'SPA', 'SPA', 'ARA', 'HIN', 'JPN', 'TEL', 'SPA', 'TUR', 'HIN', 'ITA', 'KOR', 'TUR', 'SPA', 'TUR', 'FRE', 'ITA', 'TEL', 'FRE', 'TUR', 'CHI', 'SPA', 'TEL', 'JPN', 'KOR', 'ARA', 'CHI', 'TEL', 'TUR', 'JPN', 'TEL', 'JPN', 'FRE', 'CHI', 'KOR', 'TUR', 'CHI', 'FRE', 'CHI', 'CHI', 'ITA', 'TEL', 'TUR', 'TEL', 'FRE', 'ARA', 'JPN', 'GER', 'FRE', 'CHI', 'KOR', 'FRE', 'SPA', 'GER', 'TEL', 'ITA', 'ITA', 'FRE', 'ITA', 'FRE', 'ITA', 'KOR', 'FRE', 'TEL', 'SPA', 'JPN', 'ARA', 'CHI', 'KOR', 'HIN', 'SPA', 'JPN', 'JPN', 'SPA', 'JPN', 'ARA', 'TEL', 'HIN', 'CHI', 'HIN', 'HIN', 'SPA', 'KOR', 'CHI', 'FRE', 'SPA', 'ARA', 'ITA', 'CHI', 'TEL', 'JPN', 'HIN', 'FRE', 'TEL', 'ARA', 'JPN', 'SPA', 'HIN', 'FRE', 'SPA', 'JPN', 'TUR', 'HIN', 'ITA', 'TUR', 'KOR', 'TUR', 'FRE', 'CHI', 'CHI', 'TUR', 'HIN', 'JPN', 'TEL', 'ARA', 'KOR', 'KOR', 'GER', 'TUR', 'KOR', 'JPN', 'JPN', 'CHI', 'KOR', 'ARA', 'FRE', 'ITA', 'KOR', 'KOR', 'KOR', 'HIN', 'CHI', 'ARA', 'SPA', 'JPN', 'FRE', 'HIN', 'KOR', 'JPN', 'CHI', 'ITA', 'ARA', 'JPN', 'TEL', 'ARA', 'JPN', 'HIN', 'KOR', 'HIN', 'ARA', 'TUR', 'CHI', 'ITA', 'SPA', 'TUR', 'KOR', 'JPN', 'GER', 'GER', 'TUR', 'ITA', 'TUR', 'TEL', 'ITA', 'JPN', 'TEL', 'HIN', 'TEL', 'FRE', 'GER', 'HIN', 'HIN', 'SPA', 'TEL', 'ARA', 'HIN', 'HIN', 'TUR', 'ITA', 'CHI', 'FRE', 'CHI', 'ARA', 'GER', 'JPN', 'ARA', 'ARA', 'ARA', 'JPN', 'ARA', 'HIN', 'JPN', 'SPA', 'TEL', 'TEL', 'SPA', 'JPN', 'ITA', 'ARA', 'TEL', 'GER', 'ARA', 'TUR', 'GER', 'TUR', 'CHI', 'HIN', 'TUR', 'ARA', 'ITA', 'ARA', 'JPN', 'JPN', 'CHI', 'CHI', 'TEL', 'ITA', 'SPA', 'ARA', 'FRE', 'ARA', 'ITA', 'ARA', 'FRE', 'ARA', 'SPA', 'ITA', 'FRE', 'GER', 'JPN', 'HIN', 'SPA', 'ITA', 'KOR', 'ARA', 'JPN', 'GER', 'SPA', 'ITA', 'JPN', 'GER', 'CHI', 'FRE', 'GER', 'ITA', 'GER', 'TUR', 'KOR', 'JPN', 'TUR', 'TEL', 'SPA', 'CHI', 'JPN', 'CHI', 'ITA', 'ARA', 'GER', 'ITA', 'GER', 'JPN', 'HIN', 'ITA', 'GER', 'ITA', 'JPN', 'HIN', 'JPN', 'CHI', 'SPA', 'CHI', 'CHI', 'GER', 'FRE', 'GER', 'ITA', 'TUR', 'JPN', 'TUR', 'ARA', 'CHI', 'HIN', 'GER', 'JPN', 'CHI', 'KOR', 'HIN', 'ITA', 'JPN', 'JPN', 'HIN', 'JPN', 'FRE', 'JPN', 'CHI', 'JPN', 'HIN', 'CHI', 'TUR', 'SPA', 'FRE', 'CHI', 'HIN', 'GER', 'SPA', 'GER', 'KOR', 'GER', 'TUR', 'SPA', 'HIN', 'ARA', 'KOR', 'FRE', 'JPN', 'GER', 'HIN', 'CHI', 'CHI', 'TEL', 'JPN', 'ARA', 'FRE', 'CHI', 'ITA', 'FRE', 'ITA', 'CHI', 'TUR', 'SPA', 'TUR', 'JPN', 'FRE', 'GER', 'TEL', 'ITA', 'ARA', 'GER', 'JPN', 'HIN', 'TUR', 'SPA', 'GER', 'ITA', 'KOR', 'SPA', 'TUR', 'ARA', 'KOR', 'FRE', 'CHI', 'KOR', 'HIN', 'ARA', 'TEL', 'FRE', 'HIN', 'FRE', 'SPA', 'ITA', 'HIN', 'TEL', 'GER', 'ARA', 'ITA', 'HIN', 'FRE', 'FRE', 'TUR', 'SPA', 'ITA', 'HIN', 'FRE', 'ITA', 'ARA', 'ITA', 'ITA', 'HIN', 'ARA', 'ITA', 'JPN', 'FRE', 'GER', 'GER', 'TUR', 'GER', 'FRE', 'FRE', 'CHI', 'HIN', 'FRE', 'JPN', 'CHI', 'HIN', 'ITA', 'CHI', 'ITA', 'CHI', 'JPN', 'GER', 'TEL', 'KOR', 'KOR', 'GER', 'FRE', 'CHI', 'KOR', 'TEL', 'CHI', 'FRE', 'TUR', 'ITA', 'JPN', 'SPA', 'ARA', 'CHI', 'FRE', 'JPN', 'GER', 'ARA', 'ITA', 'TUR', 'HIN', 'ITA', 'ITA', 'TEL', 'FRE', 'GER', 'TEL', 'ARA', 'CHI', 'HIN', 'HIN', 'JPN', 'ARA', 'ITA', 'ITA', 'SPA', 'FRE', 'TEL', 'TEL', 'GER', 'SPA', 'HIN', 'CHI', 'CHI', 'JPN', 'CHI', 'TUR', 'TEL', 'ITA', 'CHI', 'ARA', 'TEL', 'ITA', 'TEL', 'HIN', 'ARA', 'ARA', 'FRE', 'CHI', 'ARA', 'GER', 'KOR', 'FRE', 'FRE', 'CHI', 'ARA', 'ITA', 'SPA', 'TEL', 'TUR', 'JPN', 'ITA', 'ITA', 'HIN', 'KOR', 'CHI', 'KOR', 'JPN', 'ITA', 'CHI', 'ARA', 'JPN', 'KOR', 'SPA', 'HIN', 'TUR', 'FRE', 'JPN', 'TUR', 'ARA', 'CHI', 'HIN', 'FRE', 'KOR', 'CHI', 'JPN', 'SPA', 'TUR', 'ITA', 'FRE', 'ITA', 'SPA', 'FRE', 'FRE', 'JPN', 'FRE', 'HIN', 'JPN', 'JPN', 'SPA', 'SPA', 'JPN', 'ITA', 'ARA', 'ARA', 'HIN', 'ITA', 'JPN', 'FRE', 'CHI', 'KOR', 'TUR', 'TUR', 'CHI', 'GER', 'ITA', 'CHI', 'KOR', 'HIN', 'FRE', 'ITA', 'TUR', 'HIN', 'ITA', 'CHI', 'CHI', 'ARA', 'ARA', 'ARA', 'GER', 'KOR', 'FRE', 'KOR', 'KOR', 'ITA', 'CHI', 'JPN', 'CHI', 'HIN', 'SPA', 'GER', 'CHI', 'GER', 'ARA', 'FRE', 'JPN', 'ITA', 'TEL', 'HIN', 'CHI', 'TUR', 'SPA', 'GER', 'ITA', 'ARA', 'TEL', 'ARA', 'FRE', 'TUR', 'KOR', 'HIN', 'GER', 'CHI', 'TUR', 'FRE', 'GER', 'TUR', 'JPN', 'TEL', 'HIN', 'JPN', 'FRE', 'CHI', 'TUR', 'KOR', 'ARA', 'ITA', 'CHI', 'KOR', 'KOR', 'FRE', 'ARA', 'GER', 'GER', 'SPA', 'ITA', 'HIN', 'KOR', 'FRE', 'ITA', 'KOR', 'ITA', 'JPN', 'TUR', 'ARA', 'ITA', 'KOR', 'HIN', 'FRE', 'JPN', 'CHI', 'TEL', 'TUR', 'GER', 'TEL', 'KOR', 'FRE', 'HIN', 'HIN', 'ITA', 'JPN', 'JPN', 'TEL', 'TUR', 'TEL', 'SPA', 'TEL', 'ITA', 'TUR', 'TEL', 'KOR', 'TEL', 'CHI', 'HIN', 'ARA', 'TUR', 'HIN', 'GER', 'GER', 'GER', 'TEL', 'TUR', 'TUR', 'ARA', 'KOR', 'CHI', 'TEL', 'TEL', 'KOR', 'SPA', 'TEL', 'TEL', 'TEL', 'JPN', 'TEL', 'TUR', 'TEL', 'FRE', 'CHI', 'HIN', 'KOR', 'CHI', 'TUR', 'ARA', 'ITA', 'ARA', 'HIN', 'HIN', 'CHI', 'HIN', 'CHI', 'JPN', 'JPN', 'CHI', 'CHI', 'TUR', 'KOR', 'GER', 'SPA', 'TEL', 'ITA', 'SPA', 'JPN', 'KOR', 'HIN', 'KOR', 'HIN', 'HIN', 'ARA', 'FRE', 'JPN', 'GER', 'ARA', 'KOR', 'GER', 'TUR', 'HIN', 'ITA', 'TUR', 'GER', 'HIN', 'TUR', 'ITA', 'CHI', 'ARA', 'HIN', 'HIN', 'FRE', 'ITA', 'JPN', 'FRE', 'FRE', 'TUR', 'HIN', 'FRE', 'ITA', 'FRE', 'JPN', 'TEL', 'GER', 'JPN', 'JPN', 'ITA', 'ITA', 'TUR', 'JPN', 'ARA', 'CHI', 'CHI', 'JPN', 'JPN', 'ARA', 'FRE', 'HIN', 'KOR', 'KOR', 'TEL', 'TUR', 'ARA', 'JPN', 'JPN', 'JPN', 'CHI', 'ITA', 'SPA', 'ITA', 'ARA', 'KOR', 'KOR', 'HIN', 'FRE', 'FRE', 'JPN', 'CHI', 'TUR', 'ITA', 'ITA', 'ARA', 'KOR', 'SPA', 'CHI', 'ITA', 'GER', 'CHI', 'TUR', 'GER', 'FRE', 'JPN', 'ITA', 'FRE', 'TEL', 'FRE', 'KOR', 'HIN', 'CHI', 'FRE', 'TUR', 'TUR', 'JPN', 'KOR', 'CHI', 'FRE', 'ITA', 'GER', 'HIN', 'SPA', 'JPN', 'CHI', 'JPN', 'KOR', 'TUR', 'ITA', 'KOR', 'TUR', 'JPN', 'FRE', 'GER', 'TUR', 'GER', 'TUR', 'SPA', 'TEL', 'GER', 'TEL', 'JPN', 'ARA', 'HIN', 'ARA', 'FRE', 'SPA', 'ITA', 'CHI', 'TEL', 'CHI', 'HIN', 'JPN', 'TEL', 'FRE', 'ITA', 'CHI', 'CHI', 'FRE', 'TEL', 'JPN', 'SPA', 'HIN', 'FRE', 'HIN', 'CHI', 'TEL', 'CHI', 'TEL', 'TUR', 'CHI', 'TEL', 'HIN', 'GER', 'CHI', 'ITA', 'HIN', 'TUR', 'TUR', 'GER', 'ITA', 'ARA', 'GER', 'ARA', 'JPN', 'TEL', 'TUR', 'ITA', 'KOR', 'GER', 'TUR', 'CHI', 'TUR', 'TUR', 'JPN', 'GER', 'TEL', 'TEL', 'HIN', 'ARA', 'ITA', 'GER', 'FRE', 'ITA', 'ARA', 'GER', 'ITA', 'JPN', 'CHI', 'JPN', 'FRE', 'TEL', 'FRE', 'ITA', 'ITA', 'JPN', 'TEL', 'HIN', 'SPA', 'FRE', 'CHI', 'HIN', 'GER', 'ARA', 'FRE', 'HIN', 'JPN', 'JPN', 'KOR', 'ARA', 'FRE', 'KOR', 'ARA', 'GER', 'FRE', 'CHI', 'CHI', 'SPA', 'KOR', 'CHI', 'ITA', 'ITA', 'SPA', 'ITA', 'ARA', 'TEL', 'JPN', 'ARA', 'GER', 'TEL', 'HIN', 'JPN', 'GER', 'JPN', 'ARA', 'KOR', 'JPN', 'CHI', 'ARA', 'SPA', 'KOR', 'ITA', 'TEL', 'TUR', 'ITA', 'TEL', 'FRE', 'JPN', 'ARA', 'FRE', 'CHI', 'FRE', 'TUR', 'ARA', 'ITA', 'ITA', 'SPA', 'FRE', 'HIN', 'ITA', 'TEL', 'KOR', 'HIN', 'ARA', 'SPA', 'HIN', 'ITA', 'TEL', 'JPN', 'FRE', 'CHI', 'HIN', 'TUR', 'ARA', 'HIN', 'JPN', 'CHI', 'CHI', 'CHI', 'CHI', 'FRE', 'SPA', 'ITA', 'CHI', 'GER', 'ITA', 'KOR', 'GER', 'SPA', 'HIN', 'ARA', 'ARA', 'CHI', 'GER', 'ARA', 'ITA', 'ARA', 'CHI', 'GER', 'ARA', 'SPA', 'KOR', 'JPN', 'KOR', 'FRE', 'JPN', 'SPA', 'CHI', 'GER', 'KOR', 'FRE', 'TUR', 'HIN', 'TEL', 'TEL', 'ITA', 'SPA', 'ITA', 'CHI', 'CHI', 'CHI', 'ITA', 'SPA', 'KOR', 'CHI', 'ITA', 'CHI', 'ARA', 'ARA', 'TEL', 'GER', 'TUR', 'ITA', 'ARA', 'TEL', 'TUR', 'ARA', 'SPA', 'HIN', 'KOR', 'ITA', 'KOR', 'JPN', 'SPA', 'KOR', 'CHI', 'TUR', 'GER', 'KOR', 'TUR', 'ARA', 'ARA', 'HIN', 'JPN', 'JPN', 'CHI', 'ITA', 'JPN', 'TEL', 'KOR', 'HIN', 'FRE', 'CHI', 'KOR', 'TUR', 'HIN', 'GER', 'ARA', 'TUR', 'TEL', 'TUR', 'SPA', 'HIN', 'JPN', 'ITA', 'CHI', 'JPN', 'ARA', 'SPA', 'FRE', 'ITA', 'HIN', 'TUR', 'ARA', 'HIN', 'SPA', 'ARA', 'HIN', 'TUR', 'JPN', 'ITA', 'ARA', 'JPN', 'ARA', 'ITA', 'FRE', 'SPA', 'HIN', 'TUR', 'ITA', 'SPA', 'KOR', 'JPN', 'ITA', 'GER', 'TUR', 'TEL', 'ITA', 'GER', 'TEL', 'CHI', 'GER', 'KOR', 'HIN', 'KOR', 'HIN', 'TUR', 'SPA', 'ITA', 'ITA', 'TEL', 'ITA', 'FRE', 'CHI', 'ITA', 'JPN', 'TEL', 'TEL', 'ARA', 'FRE', 'TUR', 'TUR', 'TEL', 'TUR', 'HIN', 'TEL', 'CHI', 'KOR', 'KOR', 'ITA', 'GER', 'ITA', 'GER', 'FRE', 'CHI', 'ARA', 'JPN', 'KOR', 'ITA', 'GER', 'TUR', 'SPA', 'KOR', 'SPA', 'HIN', 'CHI', 'ARA', 'JPN', 'TUR', 'CHI', 'JPN', 'SPA', 'TUR', 'KOR', 'JPN', 'CHI', 'JPN', 'JPN', 'JPN', 'GER', 'ARA', 'HIN', 'CHI', 'TUR', 'GER', 'ITA', 'HIN', 'ITA', 'KOR', 'TEL', 'SPA', 'SPA', 'HIN', 'SPA', 'ITA', 'TEL', 'ARA', 'KOR', 'CHI', 'KOR', 'ITA', 'ARA', 'CHI', 'GER', 'JPN', 'CHI', 'TUR', 'ITA', 'CHI', 'TEL', 'ITA', 'CHI', 'TEL', 'ARA', 'KOR', 'ITA', 'FRE', 'FRE', 'ITA', 'KOR', 'TUR', 'ARA', 'TUR', 'HIN', 'KOR', 'FRE', 'ARA', 'ITA', 'ITA', 'SPA', 'CHI', 'KOR', 'FRE', 'GER', 'KOR', 'HIN', 'JPN', 'FRE', 'JPN', 'HIN', 'JPN', 'TEL', 'ITA', 'ARA', 'ARA', 'HIN', 'HIN', 'HIN', 'TEL', 'CHI', 'FRE', 'FRE', 'ITA', 'TEL', 'CHI', 'GER', 'HIN', 'JPN', 'CHI', 'JPN', 'HIN', 'TUR', 'JPN', 'TEL', 'ARA', 'ARA', 'HIN', 'GER', 'HIN', 'HIN', 'SPA', 'TUR', 'ARA', 'GER', 'KOR', 'HIN', 'SPA', 'TUR', 'JPN', 'JPN', 'SPA', 'KOR', 'HIN', 'JPN', 'FRE', 'SPA', 'HIN', 'FRE', 'HIN', 'FRE', 'JPN', 'TEL', 'ARA', 'HIN', 'TUR', 'JPN', 'GER', 'CHI', 'GER', 'KOR', 'FRE', 'ARA', 'CHI', 'FRE', 'HIN', 'JPN', 'HIN', 'GER', 'ITA', 'KOR', 'KOR', 'ARA', 'TUR', 'HIN', 'FRE', 'HIN', 'SPA', 'ARA', 'FRE', 'GER', 'TEL', 'SPA', 'TEL', 'FRE', 'ITA', 'CHI', 'ITA', 'HIN', 'JPN', 'SPA', 'ARA', 'CHI', 'CHI', 'ARA', 'CHI', 'FRE', 'TUR', 'GER', 'HIN', 'KOR', 'CHI', 'HIN', 'SPA', 'FRE', 'ITA', 'ITA', 'TUR', 'FRE', 'CHI', 'TUR', 'GER', 'TUR', 'TUR', 'GER', 'ITA', 'KOR', 'TUR', 'ARA', 'GER', 'SPA', 'SPA', 'JPN', 'KOR', 'JPN', 'JPN', 'TUR', 'TEL', 'ITA', 'CHI', 'SPA', 'FRE', 'GER', 'HIN', 'ARA', 'ARA', 'TEL', 'CHI', 'SPA', 'SPA', 'FRE', 'FRE', 'JPN', 'CHI', 'CHI', 'HIN', 'ARA', 'ARA', 'ARA', 'CHI', 'GER', 'ITA', 'GER', 'HIN', 'KOR', 'SPA', 'TUR', 'FRE', 'TEL', 'ITA', 'FRE', 'SPA', 'TEL', 'KOR', 'TUR', 'HIN', 'CHI', 'TEL', 'ARA', 'FRE', 'GER', 'FRE', 'ARA', 'GER', 'HIN', 'SPA', 'TUR', 'GER', 'ITA', 'TEL', 'GER', 'TUR', 'ARA', 'TEL', 'ARA', 'TEL', 'KOR', 'HIN', 'SPA', 'TEL', 'JPN', 'ITA', 'GER', 'TUR', 'HIN', 'GER', 'FRE', 'KOR', 'HIN', 'JPN', 'GER', 'HIN', 'TEL', 'CHI', 'GER', 'FRE', 'JPN', 'JPN', 'SPA', 'KOR', 'CHI', 'JPN', 'HIN', 'TUR', 'ARA', 'TUR', 'CHI', 'ARA', 'CHI', 'TUR', 'SPA', 'ITA', 'TUR', 'ARA', 'CHI', 'SPA', 'SPA', 'FRE', 'ARA', 'ARA', 'JPN', 'GER', 'ITA', 'SPA', 'ITA', 'FRE', 'FRE', 'GER', 'SPA', 'GER', 'ARA', 'FRE', 'CHI', 'TUR', 'HIN', 'FRE', 'ITA', 'JPN', 'SPA', 'TUR', 'CHI', 'ITA', 'FRE', 'HIN', 'SPA', 'JPN', 'TUR', 'CHI', 'HIN', 'SPA', 'TUR', 'TUR', 'TEL', 'FRE', 'GER', 'JPN', 'ITA', 'JPN', 'ARA', 'ITA', 'TUR', 'GER', 'GER', 'TUR', 'TEL', 'FRE', 'SPA', 'ITA', 'TUR', 'JPN', 'FRE', 'ITA', 'CHI', 'TEL', 'SPA', 'GER', 'TEL', 'ITA', 'KOR', 'FRE', 'ARA', 'TEL', 'KOR', 'FRE', 'HIN', 'TUR', 'HIN', 'CHI', 'HIN', 'FRE', 'TEL', 'FRE', 'GER', 'GER', 'ITA', 'SPA', 'FRE', 'TEL', 'KOR', 'TEL', 'FRE', 'SPA', 'HIN', 'FRE', 'ITA', 'GER', 'TUR', 'ITA', 'FRE', 'KOR', 'KOR', 'GER', 'GER', 'ARA', 'KOR', 'CHI', 'TUR', 'TEL', 'SPA', 'ITA', 'GER', 'FRE', 'SPA', 'ARA', 'HIN', 'CHI', 'CHI', 'KOR', 'GER', 'JPN', 'JPN', 'ARA', 'ARA', 'ITA', 'TUR', 'CHI', 'CHI', 'TEL', 'SPA', 'TUR', 'HIN', 'JPN', 'FRE', 'FRE', 'JPN', 'ITA', 'SPA', 'TEL', 'HIN', 'TUR', 'ITA', 'HIN', 'TUR', 'TEL', 'CHI', 'SPA', 'ARA', 'ARA', 'GER', 'KOR', 'TEL', 'TUR', 'JPN', 'CHI', 'SPA', 'JPN', 'CHI', 'HIN', 'GER', 'TEL', 'TUR', 'GER', 'CHI', 'CHI', 'TUR', 'GER', 'SPA', 'TEL', 'GER', 'GER', 'GER', 'GER', 'GER', 'ITA', 'CHI', 'JPN', 'ITA', 'TEL', 'TEL', 'FRE', 'FRE', 'ARA', 'TEL', 'TUR', 'ITA', 'SPA', 'KOR', 'TUR', 'TUR', 'FRE', 'ITA', 'HIN', 'KOR', 'HIN', 'SPA', 'KOR', 'TUR', 'GER', 'HIN', 'ITA', 'HIN', 'FRE', 'JPN', 'GER', 'HIN', 'TEL', 'JPN', 'FRE', 'GER', 'ITA', 'TEL', 'CHI', 'SPA', 'ITA', 'SPA', 'CHI', 'HIN', 'KOR', 'ITA', 'HIN', 'GER', 'CHI', 'KOR', 'HIN']\n",
      "specific_probs [0.03542138 0.83292262 0.131656  ]\n",
      "specific_probs [0.00722538 0.80533054 0.18744409]\n",
      "specific_probs [0.00858651 0.95928791 0.03212558]\n",
      "specific_probs [0.15396754 0.0062719  0.83976056]\n",
      "specific_probs [0.00763238 0.63791224 0.35445538]\n",
      "specific_probs [0.05828026 0.0123403  0.92937944]\n",
      "specific_probs [0.27523066 0.02700197 0.69776738]\n",
      "specific_probs [0.23628511 0.03383659 0.72987831]\n",
      "specific_probs [0.20425672 0.7761866  0.01955667]\n",
      "specific_probs [0.71902409 0.16715276 0.11382315]\n",
      "specific_probs [0.02870042 0.00441    0.96688958]\n",
      "specific_probs [0.24175845 0.02647378 0.73176777]\n",
      "specific_probs [0.00472409 0.07857863 0.91669728]\n",
      "specific_probs [0.19721244 0.0452042  0.75758337]\n",
      "specific_probs [0.18200717 0.79351247 0.02448036]\n",
      "specific_probs [8.56712354e-01 2.40694645e-04 1.43046951e-01]\n",
      "specific_probs [0.99713497 0.00141559 0.00144944]\n",
      "specific_probs [0.40606945 0.41232623 0.18160433]\n",
      "specific_probs [0.50660488 0.16556338 0.32783174]\n",
      "specific_probs [0.08451337 0.00773555 0.90775107]\n",
      "specific_probs [0.0432043  0.78033184 0.17646386]\n",
      "specific_probs [0.80058668 0.19437043 0.00504289]\n",
      "specific_probs [0.00892211 0.9269191  0.06415879]\n",
      "specific_probs [0.62544323 0.00346813 0.37108864]\n",
      "specific_probs [0.49710024 0.10064687 0.40225289]\n",
      "specific_probs [0.23071138 0.24374034 0.52554828]\n",
      "specific_probs [0.01667011 0.98034236 0.00298753]\n",
      "specific_probs [0.95040308 0.02946538 0.02013154]\n",
      "specific_probs [0.10529109 0.0182228  0.87648611]\n",
      "specific_probs [0.01204594 0.005175   0.98277906]\n",
      "specific_probs [0.93695588 0.03763173 0.02541239]\n",
      "specific_probs [0.50979211 0.0260075  0.46420039]\n",
      "specific_probs [0.93679267 0.03218834 0.031019  ]\n",
      "specific_probs [0.04131636 0.10567105 0.85301259]\n",
      "specific_probs [0.18834166 0.05035551 0.76130283]\n",
      "specific_probs [9.31563097e-01 6.77453082e-04 6.77594498e-02]\n",
      "specific_probs [0.02068086 0.92648607 0.05283308]\n",
      "specific_probs [9.17729544e-01 4.98955590e-04 8.17715004e-02]\n",
      "specific_probs [0.96576757 0.00342658 0.03080585]\n",
      "specific_probs [0.18562036 0.80265685 0.01172279]\n",
      "specific_probs [0.84570177 0.04872904 0.10556919]\n",
      "specific_probs [0.0467089  0.67934093 0.27395017]\n",
      "specific_probs [0.90705205 0.01360413 0.07934382]\n",
      "specific_probs [0.01089702 0.9186651  0.07043788]\n",
      "specific_probs [0.0959053  0.89287044 0.01122425]\n",
      "specific_probs [0.84459495 0.11539197 0.04001308]\n",
      "specific_probs [0.57294902 0.05138015 0.37567083]\n",
      "specific_probs [0.95840771 0.01102281 0.03056948]\n",
      "specific_probs [0.00948076 0.92075484 0.0697644 ]\n",
      "specific_probs [0.00760748 0.93932919 0.05306333]\n",
      "specific_probs [0.03894311 0.0078314  0.95322549]\n",
      "specific_probs [0.02512759 0.00200707 0.97286534]\n",
      "specific_probs [0.75622326 0.24203644 0.0017403 ]\n",
      "specific_probs [0.03709857 0.95721096 0.00569047]\n",
      "specific_probs [0.971737   0.00985231 0.01841069]\n",
      "specific_probs [0.00531133 0.79787384 0.19681483]\n",
      "specific_probs [1.36813002e-01 8.59724684e-04 8.62327273e-01]\n",
      "specific_probs [8.86558725e-01 4.33199364e-04 1.13008076e-01]\n",
      "specific_probs [0.07547209 0.89507114 0.02945676]\n",
      "specific_probs [0.02092744 0.26890896 0.7101636 ]\n",
      "specific_probs [0.06384124 0.00924853 0.92691023]\n",
      "specific_probs [0.01724354 0.90306717 0.07968929]\n",
      "specific_probs [0.96847649 0.00153456 0.02998895]\n",
      "specific_probs [0.07356914 0.54457193 0.38185893]\n",
      "specific_probs [0.78020907 0.00096967 0.21882126]\n",
      "specific_probs [0.00537026 0.74258007 0.25204967]\n",
      "specific_probs [0.92631542 0.02421276 0.04947182]\n",
      "specific_probs [0.10626832 0.3156392  0.57809249]\n",
      "specific_probs [0.94670397 0.00537658 0.04791945]\n",
      "specific_probs [0.92359442 0.01061736 0.06578822]\n",
      "specific_probs [9.96832241e-01 3.45215020e-05 3.13323761e-03]\n",
      "specific_probs [0.97493529 0.01081637 0.01424834]\n",
      "specific_probs [9.98284468e-01 1.07602800e-03 6.39504317e-04]\n",
      "specific_probs [9.69053393e-01 8.91081682e-04 3.00555249e-02]\n",
      "specific_probs [0.37729264 0.08166694 0.54104042]\n",
      "specific_probs [0.07231949 0.76396984 0.16371066]\n",
      "specific_probs [0.02523108 0.00264368 0.97212524]\n",
      "specific_probs [0.68503976 0.24630527 0.06865496]\n",
      "specific_probs [0.90469433 0.0859214  0.00938428]\n",
      "specific_probs [0.95551565 0.00765603 0.03682832]\n",
      "specific_probs [0.04768619 0.24766679 0.70464703]\n",
      "specific_probs [0.33443642 0.46927037 0.19629321]\n",
      "specific_probs [0.72009576 0.10289465 0.17700959]\n",
      "specific_probs [0.03753511 0.83206772 0.13039717]\n",
      "specific_probs [0.0784495  0.01797318 0.90357732]\n",
      "specific_probs [0.02262119 0.06007472 0.91730409]\n",
      "specific_probs [0.95222762 0.01342989 0.03434249]\n",
      "specific_probs [0.08486524 0.54936693 0.36576783]\n",
      "specific_probs [0.01341216 0.81826693 0.16832092]\n",
      "specific_probs [0.00381037 0.83213553 0.16405409]\n",
      "specific_probs [0.01245222 0.07473131 0.91281647]\n",
      "specific_probs [0.05468916 0.03158298 0.91372786]\n",
      "specific_probs [0.04188229 0.3061338  0.65198392]\n",
      "specific_probs [0.23376777 0.00671464 0.75951759]\n",
      "specific_probs [0.01411141 0.34728601 0.63860258]\n",
      "specific_probs [0.8358952  0.09323664 0.07086816]\n",
      "specific_probs [9.72266892e-01 8.04086745e-04 2.69290215e-02]\n",
      "specific_probs [0.01250544 0.78478949 0.20270506]\n",
      "specific_probs [0.23377327 0.00758377 0.75864296]\n",
      "specific_probs [0.00902923 0.00731696 0.9836538 ]\n",
      "specific_probs [0.07612297 0.04430754 0.8795695 ]\n",
      "specific_probs [0.00485041 0.98580149 0.0093481 ]\n",
      "specific_probs [0.00936161 0.98886506 0.00177332]\n",
      "specific_probs [0.23752577 0.09230692 0.67016731]\n",
      "specific_probs [0.40851649 0.00839442 0.58308909]\n",
      "specific_probs [0.00270043 0.98769123 0.00960834]\n",
      "specific_probs [0.93571193 0.00225545 0.06203262]\n",
      "specific_probs [0.26960257 0.5698052  0.16059223]\n",
      "specific_probs [7.75845962e-01 3.49114127e-04 2.23804924e-01]\n",
      "specific_probs [0.01393158 0.96167481 0.02439361]\n",
      "specific_probs [0.01585069 0.97094238 0.01320693]\n",
      "specific_probs [0.12232383 0.50013662 0.37753955]\n",
      "specific_probs [0.23104655 0.6484017  0.12055176]\n",
      "specific_probs [0.27875443 0.72043306 0.00081251]\n",
      "specific_probs [0.10682915 0.00211332 0.89105753]\n",
      "specific_probs [0.05857072 0.00101609 0.94041319]\n",
      "specific_probs [0.00575498 0.03559985 0.95864517]\n",
      "specific_probs [0.13713919 0.84433307 0.01852774]\n",
      "specific_probs [0.99467848 0.00324448 0.00207704]\n",
      "specific_probs [0.06100757 0.71365622 0.22533621]\n",
      "specific_probs [0.0011833  0.94416337 0.05465333]\n",
      "specific_probs [0.14154464 0.7929844  0.06547095]\n",
      "specific_probs [6.81971483e-01 6.57319295e-04 3.17371198e-01]\n",
      "specific_probs [0.02781189 0.03636372 0.93582439]\n",
      "specific_probs [0.01023889 0.97071433 0.01904678]\n",
      "specific_probs [0.01476864 0.07644761 0.90878375]\n",
      "specific_probs [0.71356448 0.00127641 0.28515911]\n",
      "specific_probs [0.00453394 0.91173715 0.08372891]\n",
      "specific_probs [0.81692744 0.16042507 0.0226475 ]\n",
      "specific_probs [9.62418278e-01 1.66123143e-04 3.74155993e-02]\n",
      "specific_probs [0.00313255 0.71303817 0.28382928]\n",
      "specific_probs [0.29899428 0.3205851  0.38042063]\n",
      "specific_probs [0.17549646 0.79756778 0.02693576]\n",
      "specific_probs [0.03037096 0.94974239 0.01988665]\n",
      "specific_probs [0.55757934 0.00099895 0.44142172]\n",
      "specific_probs [0.00334373 0.97546335 0.02119292]\n",
      "specific_probs [0.19920264 0.00798817 0.7928092 ]\n",
      "specific_probs [0.02192627 0.90915219 0.06892154]\n",
      "specific_probs [0.05122848 0.90444045 0.04433107]\n",
      "specific_probs [0.46211701 0.03292759 0.5049554 ]\n",
      "specific_probs [0.08768954 0.00834217 0.90396829]\n",
      "specific_probs [0.34756927 0.00759034 0.64484039]\n",
      "specific_probs [0.01408685 0.97422236 0.01169079]\n",
      "specific_probs [0.53980275 0.0016677  0.45852955]\n",
      "specific_probs [0.31087864 0.10164889 0.58747247]\n",
      "specific_probs [0.81540665 0.00317088 0.18142246]\n",
      "specific_probs [0.03731729 0.95499564 0.00768707]\n",
      "specific_probs [0.01752751 0.97017273 0.01229976]\n",
      "specific_probs [0.82673224 0.00223244 0.17103533]\n",
      "specific_probs [2.56228022e-01 3.54479263e-04 7.43417499e-01]\n",
      "specific_probs [0.64169263 0.00295223 0.35535514]\n",
      "specific_probs [0.30924099 0.54840453 0.14235448]\n",
      "specific_probs [0.00276613 0.87486337 0.1223705 ]\n",
      "specific_probs [0.96269339 0.00285149 0.03445512]\n",
      "specific_probs [9.96360464e-01 9.14346181e-04 2.72518936e-03]\n",
      "specific_probs [0.33127423 0.1752227  0.49350307]\n",
      "specific_probs [9.85384207e-01 3.75406031e-04 1.42403869e-02]\n",
      "specific_probs [0.87007801 0.00165844 0.12826355]\n",
      "specific_probs [0.92264695 0.00551725 0.0718358 ]\n",
      "specific_probs [0.0766616 0.006371  0.9169674]\n",
      "['CHI', 'ARA', 'HIN', 'JPN', 'CHI', 'TUR', 'TEL', 'HIN', 'KOR', 'TEL', 'TEL', 'SPA', 'KOR', 'TUR', 'GER', 'ITA', 'GER', 'KOR', 'ITA', 'CHI', 'ARA', 'ITA', 'TUR', 'JPN', 'SPA', 'JPN', 'JPN', 'HIN', 'SPA', 'FRE', 'SPA', 'TEL', 'SPA', 'ARA', 'GER', 'ITA', 'ITA', 'ITA', 'CHI', 'ITA', 'KOR', 'ARA', 'CHI', 'FRE', 'KOR', 'HIN', 'ITA', 'SPA', 'JPN', 'JPN', 'SPA', 'TUR', 'GER', 'TEL', 'ITA', 'KOR', 'JPN', 'JPN', 'SPA', 'SPA', 'ARA', 'TUR', 'KOR', 'CHI', 'GER', 'ITA', 'CHI', 'HIN', 'TEL', 'CHI', 'GER', 'JPN', 'FRE', 'TUR', 'TEL', 'KOR', 'TEL', 'ITA', 'CHI', 'TUR', 'ITA', 'SPA', 'TEL', 'SPA', 'TUR', 'FRE', 'TEL', 'GER', 'FRE', 'SPA', 'HIN', 'HIN', 'ITA', 'ARA', 'TUR', 'TUR', 'ITA', 'JPN', 'JPN', 'ARA', 'GER', 'TEL', 'KOR', 'TUR', 'JPN', 'KOR', 'SPA', 'TEL', 'JPN', 'FRE', 'HIN', 'CHI', 'HIN', 'TEL', 'TUR', 'ARA', 'TUR', 'JPN', 'JPN', 'JPN', 'JPN', 'HIN', 'JPN', 'FRE', 'CHI', 'JPN', 'KOR', 'SPA', 'GER', 'JPN', 'KOR', 'JPN', 'TUR', 'TEL', 'CHI', 'KOR', 'HIN', 'TEL', 'HIN', 'ITA', 'ARA', 'GER', 'SPA', 'GER', 'JPN', 'ARA', 'ARA', 'ITA', 'SPA', 'HIN', 'KOR', 'HIN', 'SPA', 'GER', 'ITA', 'FRE', 'KOR', 'KOR', 'TUR', 'CHI', 'SPA', 'TUR', 'CHI', 'GER', 'TUR', 'FRE', 'ITA', 'CHI', 'TUR', 'ITA', 'SPA', 'HIN', 'SPA', 'GER', 'ARA', 'HIN', 'SPA', 'HIN', 'CHI', 'GER', 'ARA', 'ITA', 'CHI', 'SPA', 'HIN', 'TUR', 'KOR', 'HIN', 'HIN', 'JPN', 'ARA', 'ITA', 'CHI', 'TUR', 'TUR', 'TEL', 'GER', 'KOR', 'ARA', 'TUR', 'JPN', 'HIN', 'ITA', 'CHI', 'ITA', 'CHI', 'FRE', 'JPN', 'GER', 'GER', 'FRE', 'KOR', 'CHI', 'JPN', 'TEL', 'ITA', 'ITA', 'TEL', 'GER', 'CHI', 'TUR', 'TUR', 'KOR', 'ARA', 'FRE', 'CHI', 'TUR', 'ARA', 'SPA', 'JPN', 'ARA', 'CHI', 'GER', 'ITA', 'SPA', 'JPN', 'GER', 'HIN', 'TEL', 'GER', 'KOR', 'GER', 'TEL', 'ITA', 'FRE', 'CHI', 'CHI', 'CHI', 'KOR', 'FRE', 'FRE', 'JPN', 'GER', 'CHI', 'FRE', 'SPA', 'ARA', 'KOR', 'KOR', 'HIN', 'KOR', 'JPN', 'HIN', 'FRE', 'TUR', 'SPA', 'SPA', 'FRE', 'JPN', 'HIN', 'TUR', 'ITA', 'SPA', 'TEL', 'KOR', 'TEL', 'KOR', 'GER', 'ARA', 'FRE', 'TEL', 'TEL', 'FRE', 'TUR', 'CHI', 'HIN', 'GER', 'FRE', 'SPA', 'ARA', 'GER', 'SPA', 'HIN', 'ITA', 'CHI', 'TEL', 'CHI', 'HIN', 'SPA', 'ARA', 'FRE', 'SPA', 'ARA', 'TUR', 'SPA', 'KOR', 'SPA', 'FRE', 'JPN', 'HIN', 'GER', 'ITA', 'CHI', 'ARA', 'FRE', 'JPN', 'JPN', 'FRE', 'SPA', 'ARA', 'ITA', 'CHI', 'CHI', 'CHI', 'GER', 'HIN', 'TUR', 'FRE', 'KOR', 'JPN', 'SPA', 'CHI', 'CHI', 'TUR', 'HIN', 'KOR', 'ITA', 'CHI', 'ITA', 'SPA', 'SPA', 'ARA', 'CHI', 'ARA', 'TEL', 'TEL', 'FRE', 'JPN', 'TUR', 'TEL', 'ITA', 'ITA', 'HIN', 'SPA', 'ITA', 'CHI', 'JPN', 'TUR', 'GER', 'CHI', 'ITA', 'FRE', 'JPN', 'FRE', 'ARA', 'FRE', 'SPA', 'KOR', 'ARA', 'TEL', 'ITA', 'SPA', 'HIN', 'JPN', 'HIN', 'FRE', 'ITA', 'KOR', 'JPN', 'TUR', 'JPN', 'SPA', 'JPN', 'CHI', 'CHI', 'TEL', 'TUR', 'ITA', 'TEL', 'ITA', 'GER', 'CHI', 'KOR', 'TUR', 'GER', 'ARA', 'HIN', 'TUR', 'ITA', 'ARA', 'TEL', 'TEL', 'KOR', 'FRE', 'KOR', 'ITA', 'CHI', 'SPA', 'ARA', 'ITA', 'FRE', 'CHI', 'JPN', 'JPN', 'ITA', 'TEL', 'HIN', 'HIN', 'CHI', 'GER', 'FRE', 'ITA', 'KOR', 'HIN', 'ITA', 'GER', 'HIN', 'GER', 'GER', 'ITA', 'FRE', 'CHI', 'ARA', 'HIN', 'FRE', 'JPN', 'ARA', 'KOR', 'ITA', 'ITA', 'FRE', 'KOR', 'GER', 'CHI', 'GER', 'CHI', 'KOR', 'SPA', 'ARA', 'ITA', 'JPN', 'CHI', 'JPN', 'FRE', 'FRE', 'JPN', 'HIN', 'KOR', 'CHI', 'TEL', 'KOR', 'ARA', 'CHI', 'KOR', 'ARA', 'TUR', 'JPN', 'ARA', 'ARA', 'ARA', 'JPN', 'ARA', 'ARA', 'ITA', 'ITA', 'TEL', 'JPN', 'KOR', 'JPN', 'KOR', 'TEL', 'CHI', 'TEL', 'TEL', 'KOR', 'SPA', 'GER', 'KOR', 'ITA', 'ITA', 'KOR', 'FRE', 'HIN', 'GER', 'ITA', 'JPN', 'ITA', 'ARA', 'ITA', 'GER', 'SPA', 'KOR', 'CHI', 'SPA', 'TEL', 'FRE', 'JPN', 'ARA', 'SPA', 'HIN', 'HIN', 'CHI', 'FRE', 'JPN', 'TUR', 'ARA', 'HIN', 'TEL', 'ITA', 'TEL', 'GER', 'FRE', 'SPA', 'TUR', 'ITA', 'CHI', 'HIN', 'ITA', 'ARA', 'ITA', 'ITA', 'SPA', 'FRE', 'KOR', 'HIN', 'JPN', 'SPA', 'ARA', 'CHI', 'CHI', 'HIN', 'ARA', 'KOR', 'ITA', 'CHI', 'FRE', 'KOR', 'ARA', 'ARA', 'KOR', 'TEL', 'JPN', 'JPN', 'FRE', 'HIN', 'ARA', 'SPA', 'TEL', 'ITA', 'SPA', 'HIN', 'TUR', 'SPA', 'HIN', 'TUR', 'JPN', 'TEL', 'JPN', 'SPA', 'HIN', 'JPN', 'TEL', 'KOR', 'KOR', 'KOR', 'SPA', 'ITA', 'GER', 'HIN', 'ARA', 'TEL', 'GER', 'TUR', 'ITA', 'ARA', 'GER', 'GER', 'FRE', 'KOR', 'KOR', 'CHI', 'CHI', 'TEL', 'FRE', 'ITA', 'GER', 'KOR', 'SPA', 'TUR', 'ITA', 'JPN', 'CHI', 'TEL', 'FRE', 'KOR', 'GER', 'CHI', 'ARA', 'FRE', 'TUR', 'GER', 'FRE', 'JPN', 'GER', 'TEL', 'JPN', 'FRE', 'KOR', 'ARA', 'ITA', 'KOR', 'TEL', 'ITA', 'JPN', 'HIN', 'HIN', 'JPN', 'HIN', 'ITA', 'TEL', 'CHI', 'FRE', 'SPA', 'SPA', 'HIN', 'HIN', 'JPN', 'KOR', 'ITA', 'ITA', 'ARA', 'JPN', 'CHI', 'TEL', 'JPN', 'SPA', 'KOR', 'ITA', 'TEL', 'ARA', 'TUR', 'KOR', 'ARA', 'JPN', 'TUR', 'ARA', 'CHI', 'FRE', 'KOR', 'GER', 'TEL', 'SPA', 'ARA', 'SPA', 'TUR', 'ITA', 'ITA', 'CHI', 'KOR', 'TEL', 'ITA', 'JPN', 'FRE', 'FRE', 'JPN', 'FRE', 'FRE', 'ARA', 'KOR', 'ITA', 'ARA', 'HIN', 'JPN', 'KOR', 'ITA', 'SPA', 'FRE', 'ARA', 'GER', 'TUR', 'TEL', 'FRE', 'FRE', 'CHI', 'TUR', 'TEL', 'KOR', 'SPA', 'HIN', 'TUR', 'SPA', 'HIN', 'KOR', 'ARA', 'HIN', 'KOR', 'CHI', 'SPA', 'JPN', 'SPA', 'ITA', 'FRE', 'HIN', 'FRE', 'FRE', 'TEL', 'ITA', 'ARA', 'ITA', 'FRE', 'SPA', 'HIN', 'TEL', 'ARA', 'GER', 'KOR', 'GER', 'TUR', 'ARA', 'HIN', 'HIN', 'GER', 'TUR', 'KOR', 'FRE', 'SPA', 'ARA', 'CHI', 'CHI', 'SPA', 'GER', 'JPN', 'HIN', 'CHI', 'JPN', 'SPA', 'TUR', 'GER', 'JPN', 'HIN', 'TEL', 'SPA', 'HIN', 'GER', 'ARA', 'JPN', 'GER', 'TUR', 'TEL', 'KOR', 'HIN', 'FRE', 'FRE', 'CHI', 'TEL', 'CHI', 'KOR', 'JPN', 'SPA', 'KOR', 'FRE', 'HIN', 'CHI', 'GER', 'TUR', 'ITA', 'CHI', 'SPA', 'ARA', 'JPN', 'ARA', 'ITA', 'FRE', 'ITA', 'CHI', 'SPA', 'ITA', 'JPN', 'ITA', 'TEL', 'TEL', 'FRE', 'TEL', 'ITA', 'JPN', 'GER', 'TEL', 'TEL', 'GER', 'SPA', 'TUR', 'JPN', 'ARA', 'HIN', 'HIN', 'TUR', 'JPN', 'FRE', 'SPA', 'HIN', 'KOR', 'FRE', 'ITA', 'SPA', 'CHI', 'TEL', 'TUR', 'HIN', 'HIN', 'SPA', 'CHI', 'JPN', 'GER', 'HIN', 'TUR', 'TEL', 'SPA', 'TEL', 'TUR', 'TUR', 'KOR', 'ITA', 'KOR', 'FRE', 'GER', 'HIN', 'KOR', 'SPA', 'SPA', 'JPN', 'FRE', 'GER', 'KOR', 'TEL', 'KOR', 'JPN', 'GER', 'KOR', 'TEL', 'SPA', 'CHI', 'JPN', 'FRE', 'CHI', 'TUR', 'ITA', 'JPN', 'ARA', 'FRE', 'HIN', 'CHI', 'GER', 'HIN', 'TUR', 'SPA', 'KOR', 'ARA', 'HIN', 'ITA', 'SPA', 'HIN', 'HIN', 'SPA', 'KOR', 'CHI', 'ITA', 'GER', 'ARA', 'SPA', 'SPA', 'JPN', 'JPN', 'ITA', 'GER', 'HIN', 'GER', 'SPA', 'TUR', 'CHI', 'HIN', 'HIN', 'GER', 'KOR', 'KOR', 'ARA', 'CHI', 'ARA', 'TUR', 'GER', 'KOR', 'ARA', 'FRE', 'KOR', 'SPA', 'KOR', 'TEL', 'FRE', 'ITA', 'CHI', 'TEL', 'ITA', 'TEL', 'FRE', 'ITA', 'HIN', 'JPN', 'SPA', 'KOR', 'JPN', 'ITA', 'SPA', 'ARA', 'ARA', 'FRE', 'HIN', 'KOR', 'ARA', 'HIN', 'KOR', 'HIN', 'TEL', 'ARA', 'CHI', 'KOR', 'KOR', 'JPN', 'ARA', 'CHI', 'FRE', 'FRE', 'KOR', 'HIN', 'SPA', 'TUR', 'FRE', 'JPN', 'ITA', 'ITA', 'CHI', 'JPN', 'ITA', 'CHI', 'CHI', 'SPA', 'ITA', 'JPN', 'CHI', 'CHI', 'KOR', 'SPA', 'GER', 'HIN', 'JPN', 'KOR', 'TEL', 'JPN', 'TUR', 'SPA', 'JPN', 'TEL', 'TUR', 'HIN', 'FRE', 'KOR', 'SPA', 'KOR', 'TEL', 'TEL', 'KOR', 'CHI', 'FRE', 'SPA', 'TUR', 'JPN', 'ARA', 'FRE', 'CHI', 'TEL', 'TEL', 'KOR', 'KOR', 'ARA', 'GER', 'TEL', 'HIN', 'JPN', 'TUR', 'HIN', 'KOR', 'HIN', 'HIN', 'FRE', 'SPA', 'ITA', 'ITA', 'GER', 'ARA', 'TEL', 'ITA', 'ARA', 'KOR', 'TEL', 'ARA', 'KOR', 'TEL', 'TEL', 'HIN', 'TEL', 'TEL', 'KOR', 'TUR', 'GER', 'ARA', 'GER', 'GER', 'HIN', 'ARA', 'KOR', 'JPN', 'FRE', 'SPA', 'ITA', 'TEL', 'TUR', 'KOR', 'HIN', 'KOR', 'ARA', 'ITA', 'CHI', 'FRE', 'KOR', 'TEL', 'GER', 'CHI', 'TUR', 'TUR', 'ITA', 'HIN', 'TUR', 'ARA', 'JPN', 'CHI', 'HIN', 'CHI', 'ARA', 'HIN', 'ITA', 'JPN', 'JPN', 'JPN', 'KOR', 'HIN', 'TUR', 'HIN', 'ARA', 'GER', 'SPA', 'JPN', 'GER', 'ARA', 'CHI', 'GER', 'SPA', 'CHI', 'CHI', 'TUR', 'TUR', 'TUR', 'TEL', 'JPN', 'SPA', 'JPN', 'ITA', 'KOR', 'HIN', 'ARA', 'GER', 'FRE', 'ITA', 'CHI', 'TUR', 'TEL', 'ARA', 'TUR', 'TEL', 'HIN', 'SPA', 'TEL', 'KOR', 'TEL', 'KOR', 'FRE', 'HIN', 'JPN', 'GER', 'GER', 'CHI', 'ARA', 'HIN', 'KOR', 'JPN', 'JPN', 'SPA', 'SPA', 'ITA', 'KOR', 'CHI', 'JPN', 'ARA', 'FRE', 'TEL', 'SPA', 'KOR', 'ITA', 'SPA', 'FRE', 'TEL', 'CHI', 'JPN', 'TUR', 'TUR', 'SPA', 'JPN', 'CHI', 'GER', 'SPA', 'CHI', 'JPN', 'GER', 'HIN', 'KOR', 'CHI', 'HIN', 'KOR', 'FRE', 'ITA', 'ARA', 'SPA', 'CHI', 'HIN', 'ARA', 'GER', 'JPN', 'KOR', 'KOR', 'CHI', 'TUR', 'GER', 'ITA', 'JPN', 'GER', 'SPA', 'ITA', 'TUR', 'ARA', 'ARA', 'HIN', 'HIN', 'JPN', 'ARA', 'ARA', 'HIN', 'GER', 'FRE', 'KOR', 'SPA', 'GER', 'SPA', 'CHI', 'HIN', 'GER', 'HIN', 'HIN', 'TEL', 'GER', 'ARA', 'GER', 'HIN', 'CHI', 'TEL', 'SPA', 'JPN', 'TEL', 'FRE', 'HIN', 'CHI', 'FRE', 'CHI', 'TUR', 'CHI', 'GER', 'KOR', 'TEL', 'TEL', 'ITA', 'KOR', 'CHI', 'TEL', 'KOR', 'TUR', 'HIN', 'FRE', 'FRE', 'TUR', 'JPN', 'JPN', 'TEL', 'ITA', 'JPN', 'CHI', 'FRE', 'CHI', 'ITA', 'CHI', 'ARA', 'JPN', 'TUR', 'TUR', 'HIN', 'ITA', 'TUR', 'HIN', 'HIN', 'ITA', 'TUR', 'HIN', 'ARA', 'JPN', 'GER', 'KOR', 'FRE', 'HIN', 'ARA', 'ITA', 'SPA', 'HIN', 'TUR', 'JPN', 'TUR', 'ARA', 'GER', 'TEL', 'FRE', 'ITA', 'FRE', 'SPA', 'TUR', 'ITA', 'GER', 'CHI', 'CHI', 'HIN', 'ITA', 'FRE', 'SPA', 'GER', 'TUR', 'SPA', 'CHI', 'TEL', 'GER', 'JPN', 'JPN', 'ITA', 'KOR', 'JPN', 'GER', 'ARA', 'CHI', 'TEL', 'KOR', 'KOR', 'KOR', 'KOR', 'GER', 'FRE', 'ARA', 'HIN', 'ARA', 'ARA', 'SPA', 'FRE', 'HIN', 'TEL', 'SPA', 'FRE', 'ITA', 'ITA', 'TUR', 'SPA', 'ARA', 'CHI', 'KOR', 'ARA', 'ITA', 'TEL', 'TUR', 'KOR', 'FRE', 'JPN', 'GER', 'GER', 'TUR', 'ARA', 'HIN', 'FRE', 'TUR', 'FRE', 'HIN', 'TUR', 'HIN', 'GER', 'JPN', 'TUR', 'GER', 'TUR', 'TEL', 'TUR', 'JPN', 'JPN', 'FRE', 'CHI', 'GER', 'JPN', 'CHI', 'FRE', 'CHI', 'SPA', 'SPA', 'JPN', 'FRE', 'TEL', 'ARA', 'JPN', 'ITA', 'TEL', 'TUR', 'GER', 'SPA', 'TUR', 'ARA', 'HIN', 'ITA', 'CHI', 'SPA', 'ITA', 'GER', 'GER', 'CHI', 'ARA', 'TEL', 'TUR', 'JPN', 'GER', 'FRE', 'TUR', 'HIN', 'HIN', 'TEL', 'ARA', 'CHI', 'ARA', 'KOR', 'SPA', 'JPN', 'ARA', 'ARA', 'HIN', 'TEL', 'TUR', 'ITA', 'JPN', 'ITA', 'HIN', 'JPN', 'HIN', 'GER', 'TEL', 'FRE', 'JPN', 'JPN', 'ITA', 'HIN', 'ARA', 'GER', 'HIN', 'FRE', 'HIN', 'ARA', 'TUR', 'CHI', 'FRE', 'FRE', 'GER', 'ITA', 'ARA', 'SPA', 'FRE', 'FRE', 'GER', 'SPA', 'GER', 'CHI', 'ARA', 'ITA', 'FRE', 'TUR', 'KOR', 'TUR', 'TUR', 'GER', 'ARA', 'HIN', 'FRE', 'KOR', 'ITA', 'SPA', 'HIN', 'TEL', 'FRE', 'GER', 'HIN', 'TUR', 'CHI', 'ARA', 'FRE', 'TEL', 'SPA', 'ARA', 'CHI', 'CHI', 'TUR', 'SPA', 'HIN', 'ITA', 'KOR', 'ITA', 'TUR', 'HIN', 'ARA', 'SPA', 'ITA', 'TEL', 'GER', 'CHI', 'ARA', 'JPN', 'KOR', 'HIN', 'ITA', 'SPA', 'JPN', 'TEL', 'KOR', 'JPN', 'GER', 'TEL', 'TUR', 'CHI', 'JPN', 'CHI', 'JPN', 'KOR', 'FRE', 'FRE', 'ITA', 'CHI', 'ITA', 'HIN', 'FRE', 'CHI', 'CHI', 'TUR', 'ITA', 'TUR', 'JPN', 'TEL', 'SPA', 'FRE', 'TEL', 'ITA', 'JPN', 'GER', 'FRE', 'KOR', 'SPA', 'TEL', 'ARA', 'FRE', 'HIN', 'ITA', 'CHI', 'GER', 'HIN', 'JPN', 'HIN', 'ITA', 'HIN', 'KOR', 'ITA', 'ITA', 'ARA', 'TEL', 'GER', 'GER', 'ARA', 'GER', 'JPN', 'SPA', 'JPN', 'SPA', 'GER', 'HIN', 'KOR', 'ITA', 'CHI', 'CHI', 'JPN', 'ARA', 'KOR', 'JPN', 'TUR', 'ITA', 'TEL', 'ITA', 'GER', 'ARA', 'SPA', 'TUR', 'FRE', 'GER', 'KOR', 'KOR', 'TEL', 'JPN', 'SPA', 'GER', 'FRE', 'JPN', 'CHI', 'ITA', 'CHI', 'SPA', 'JPN', 'CHI', 'CHI', 'TEL', 'KOR', 'FRE', 'TUR', 'ITA', 'FRE', 'CHI', 'GER', 'HIN', 'ITA', 'ARA', 'ARA', 'ITA', 'JPN', 'TEL', 'GER', 'KOR', 'ARA', 'FRE', 'TEL', 'CHI', 'KOR', 'SPA', 'HIN', 'ARA', 'ITA', 'TEL', 'SPA', 'ARA', 'CHI', 'FRE', 'GER', 'TUR', 'TEL', 'JPN', 'TUR', 'TEL', 'KOR', 'GER', 'GER', 'HIN', 'TEL', 'JPN', 'ITA', 'KOR', 'ITA', 'JPN', 'KOR', 'ARA', 'HIN', 'CHI', 'SPA', 'JPN', 'GER', 'TUR', 'KOR', 'ITA', 'ITA', 'TUR', 'KOR', 'JPN', 'SPA', 'HIN', 'KOR', 'CHI', 'ITA', 'GER', 'TEL', 'JPN', 'HIN', 'ARA', 'GER', 'FRE', 'HIN', 'HIN', 'ITA', 'JPN', 'KOR', 'KOR', 'CHI', 'HIN', 'CHI', 'TUR', 'ITA', 'TUR', 'KOR', 'TUR', 'SPA', 'FRE', 'TUR', 'KOR', 'TEL', 'FRE', 'CHI', 'ITA', 'GER', 'ITA', 'CHI', 'GER', 'JPN', 'FRE', 'TUR', 'FRE', 'FRE', 'TEL', 'ARA', 'HIN', 'KOR', 'CHI', 'TUR', 'TEL', 'JPN', 'SPA', 'SPA', 'GER', 'JPN', 'CHI', 'TUR', 'ITA', 'SPA', 'KOR', 'TEL', 'KOR', 'CHI', 'ITA', 'KOR', 'FRE', 'CHI', 'ARA', 'ITA', 'TUR', 'ITA', 'JPN', 'KOR', 'FRE', 'ITA', 'TUR', 'SPA', 'GER', 'TUR', 'SPA', 'SPA', 'ITA', 'HIN', 'SPA', 'CHI', 'TEL', 'TEL', 'ITA', 'SPA', 'JPN', 'ARA', 'TUR', 'CHI', 'JPN', 'JPN', 'JPN', 'CHI', 'HIN', 'JPN', 'CHI', 'ITA', 'CHI', 'TUR', 'KOR', 'JPN', 'TEL', 'GER', 'KOR', 'ITA', 'JPN', 'GER', 'SPA', 'TEL', 'ITA', 'TUR', 'SPA', 'GER', 'TEL', 'GER', 'ARA', 'ITA', 'ITA', 'TEL', 'FRE', 'GER', 'TEL', 'SPA', 'GER', 'GER', 'SPA', 'GER', 'FRE', 'KOR', 'HIN', 'JPN', 'ITA', 'FRE', 'FRE', 'ARA', 'GER', 'SPA', 'CHI', 'FRE', 'TUR', 'HIN', 'CHI', 'SPA', 'CHI', 'GER', 'HIN', 'ITA', 'TUR', 'HIN', 'FRE', 'JPN', 'ARA', 'FRE', 'ARA', 'CHI', 'FRE', 'GER', 'SPA', 'ITA', 'CHI', 'GER', 'TEL', 'KOR', 'TEL', 'GER', 'GER', 'ARA', 'JPN', 'FRE', 'TUR', 'SPA', 'CHI', 'TUR', 'KOR', 'TEL', 'ARA', 'KOR', 'SPA', 'KOR', 'SPA', 'FRE', 'TUR', 'CHI', 'ITA', 'CHI', 'GER', 'FRE', 'HIN', 'ITA', 'ARA', 'ITA', 'TEL', 'ITA', 'FRE', 'ARA', 'TEL', 'SPA', 'SPA', 'HIN', 'ITA', 'ARA', 'SPA', 'ITA', 'CHI', 'TEL', 'ITA', 'FRE', 'GER', 'JPN', 'JPN', 'ITA', 'FRE', 'GER', 'KOR', 'JPN', 'ARA', 'TEL', 'HIN', 'GER', 'KOR', 'ITA', 'CHI', 'ARA', 'HIN', 'ARA', 'CHI', 'FRE', 'HIN', 'KOR', 'ARA', 'ITA', 'GER', 'JPN', 'ITA', 'TEL', 'GER', 'FRE', 'CHI', 'KOR', 'ITA', 'KOR', 'GER', 'FRE', 'ARA', 'JPN', 'TUR', 'ITA', 'TEL', 'ITA', 'SPA', 'HIN', 'SPA', 'ARA', 'CHI', 'GER', 'ARA', 'HIN', 'ITA', 'TUR', 'FRE', 'TUR', 'JPN', 'SPA', 'TEL', 'TUR', 'ARA', 'FRE', 'TUR', 'ARA', 'CHI', 'TEL', 'HIN', 'GER', 'KOR', 'ITA', 'TEL', 'GER', 'HIN', 'JPN', 'TUR', 'JPN', 'JPN', 'TEL', 'ITA', 'HIN', 'CHI', 'GER', 'ARA', 'HIN', 'TEL', 'HIN', 'SPA', 'SPA', 'JPN', 'HIN', 'TEL', 'TUR', 'HIN', 'HIN', 'HIN', 'FRE', 'TUR', 'CHI', 'ARA', 'JPN', 'ITA', 'ITA', 'ITA', 'HIN', 'CHI', 'FRE', 'CHI', 'KOR', 'HIN', 'HIN', 'KOR', 'ITA', 'ITA', 'HIN', 'FRE', 'FRE', 'KOR', 'KOR', 'TEL', 'ITA', 'ITA', 'JPN', 'ARA', 'TUR', 'TUR', 'HIN', 'ITA', 'HIN', 'TUR', 'ARA', 'HIN', 'ARA', 'TEL', 'JPN', 'KOR', 'ARA', 'TUR', 'HIN', 'HIN', 'ITA', 'KOR', 'KOR', 'SPA', 'ITA', 'CHI', 'KOR', 'SPA', 'TUR', 'SPA', 'JPN', 'HIN', 'CHI', 'FRE']\n",
      "Average accuracy: 0.638989898989899\n"
     ]
    }
   ],
   "source": [
    "from sklearn.model_selection import StratifiedKFold\n",
    "from sklearn.metrics import accuracy_score\n",
    "\n",
    "# Number of folds for cross-validation\n",
    "n_folds = 5\n",
    "\n",
    "# Initialize the cross-validator\n",
    "cv = StratifiedKFold(n_splits=n_folds, shuffle=True, random_state=17)\n",
    "\n",
    "# Prepare input and target features\n",
    "X = df['cleaned_description'].values.tolist() \n",
    "Y = df[['country', 'group']]\n",
    "\n",
    "# Transform the text data using TfidfVectorizer\n",
    "tf = TfidfVectorizer(stop_words='english', ngram_range=(1,2))\n",
    "tf_X = tf.fit_transform(X)\n",
    "\n",
    "# Initialize the group classifier\n",
    "group_clf = CalibratedClassifierCV(LinearSVC(max_iter=10000))\n",
    "\n",
    "# Initialize the specific classifiers\n",
    "asian_clf = CalibratedClassifierCV(LinearSVC(max_iter=10000))\n",
    "indian_clf = CalibratedClassifierCV(LinearSVC(max_iter=10000))\n",
    "roman_clf = CalibratedClassifierCV(LinearSVC(max_iter=10000))\n",
    "other_clf = CalibratedClassifierCV(LinearSVC(max_iter=10000))\n",
    "classifiers = {'asian': asian_clf, 'indian': indian_clf, 'roman': roman_clf, 'other': other_clf}\n",
    "\n",
    "# Initialize a list to store the accuracy scores\n",
    "accuracy_scores = []\n",
    "\n",
    "# Perform cross-validation\n",
    "for train_index, test_index in cv.split(tf_X, Y['group']):\n",
    "    # Split the data into training and testing sets\n",
    "    X_train, X_test = tf_X[train_index], tf_X[test_index]\n",
    "    y_train, y_test = Y.iloc[train_index], Y.iloc[test_index]\n",
    "\n",
    "    # Train the group classifier\n",
    "    group_clf.fit(X_train, y_train['group'])\n",
    "\n",
    "    # Train specific classifiers for each group\n",
    "    asian_indices = y_train[y_train['group'] == 'asian'].index\n",
    "    indian_indices = y_train[y_train['group'] == 'indian'].index\n",
    "    roman_indices = y_train[y_train['group'] == 'roman'].index\n",
    "    other_indices = y_train[y_train['group'] == 'other'].index\n",
    "\n",
    "    # Find the corresponding indices in the train_index array\n",
    "    asian_train_indices = np.where(np.isin(train_index, asian_indices))[0]\n",
    "    indian_train_indices = np.where(np.isin(train_index, indian_indices))[0]\n",
    "    roman_train_indices = np.where(np.isin(train_index, roman_indices))[0]\n",
    "    other_train_indices = np.where(np.isin(train_index, other_indices))[0]\n",
    "\n",
    "    # Train specific classifiers using the updated indices\n",
    "    asian_clf.fit(X_train[asian_train_indices], y_train.loc[asian_indices, 'country'])\n",
    "    indian_clf.fit(X_train[indian_train_indices], y_train.loc[indian_indices, 'country'])\n",
    "    roman_clf.fit(X_train[roman_train_indices], y_train.loc[roman_indices, 'country'])\n",
    "    other_clf.fit(X_train[other_train_indices], y_train.loc[other_indices, 'country'])\n",
    "\n",
    "    # Make predictions using the hierarchical_predict function\n",
    "    y_pred = hierarchical_predict(X_test, group_clf, classifiers)\n",
    "    print(y_pred)\n",
    "    # y_pred = le.inverse_transform(y_pred)\n",
    "\n",
    "    # Calculate the accuracy of the predictions and append it to the accuracy_scores list\n",
    "    accuracy_scores.append(accuracy_score(y_test['country'], y_pred))\n",
    "    # y_pred = le.inverse_transform(y_pred)\n",
    "    # y_test['country'] = le.inverse_transform(y_test['country'])\n",
    "\n",
    "# Calculate the average accuracy score\n",
    "average_accuracy = sum(accuracy_scores) / n_folds\n",
    "print(f\"Average accuracy: {average_accuracy}\")"
   ]
  },
  {
   "cell_type": "code",
   "execution_count": 112,
   "metadata": {},
   "outputs": [
    {
     "data": {
      "text/plain": [
       "<AxesSubplot:>"
      ]
     },
     "execution_count": 112,
     "metadata": {},
     "output_type": "execute_result"
    },
    {
     "data": {
      "image/png": "[encoded data removed]",
      "text/plain": [
       "<Figure size 640x480 with 2 Axes>"
      ]
     },
     "metadata": {},
     "output_type": "display_data"
    }
   ],
   "source": [
    "\n",
    "labels = ['JPN', 'KOR', 'CHI',  'HIN',  'TEL', 'ARA',  'TUR', 'SPA',  'FRE', 'ITA' ,'GER']\n",
    "cf = confusion_matrix(y_test['country'], y_pred, labels=labels)\n",
    "cf = pd.DataFrame(cf ,index = labels, columns = labels)\n",
    "import seaborn as sns\n",
    "\n",
    "sns.heatmap(cf, annot=True, fmt='g')"
   ]
  }
 ],
 "metadata": {
  "kernelspec": {
   "display_name": "nlp",
   "language": "python",
   "name": "python3"
  },
  "language_info": {
   "codemirror_mode": {
    "name": "ipython",
    "version": 3
   },
   "file_extension": ".py",
   "mimetype": "text/x-python",
   "name": "python",
   "nbconvert_exporter": "python",
   "pygments_lexer": "ipython3",
   "version": "3.10.8"
  },
  "orig_nbformat": 4,
  "vscode": {
   "interpreter": {
    "hash": "d6f0c9841cc69417950b7a2d96ebb954532b6b2b731846be1dbede4e88e3fc88"
   }
  }
 },
 "nbformat": 4,
 "nbformat_minor": 2
}
